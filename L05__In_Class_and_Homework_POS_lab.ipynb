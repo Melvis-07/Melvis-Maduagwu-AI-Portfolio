{
  "cells": [
    {
      "cell_type": "markdown",
      "id": "0173ac91",
      "metadata": {
        "id": "0173ac91"
      },
      "source": [
        "\n",
        "# ITAI 2373 Module 05: Part-of-Speech Tagging\n",
        "## In-Class Exercise & Homework Lab\n",
        "\n",
        "Welcome to the world of Part-of-Speech (POS) tagging - the \"grammar police\" of Natural Language Processing! 🚔📝\n",
        "\n",
        "In this notebook, you'll explore how computers understand the grammatical roles of words in sentences, from simple rule-based approaches to modern AI systems.\n",
        "\n",
        "### What You'll Learn:\n",
        "- **Understand POS tagging fundamentals** and why it matters in daily apps\n",
        "- **Use NLTK and SpaCy** for practical text analysis\n",
        "- **Navigate different tag sets** and understand their trade-offs\n",
        "- **Handle real-world messy text** like speech transcripts and social media\n",
        "- **Apply POS tagging** to solve actual business problems\n",
        "\n",
        "### Structure:\n",
        "- **Part 1**: In-Class Exercise (30-45 minutes) - Basic concepts and hands-on practice\n",
        "- **Part 2**: Homework Lab - Real-world applications and advanced challenges\n",
        "\n",
        "---\n",
        "\n",
        "*💡 **Pro Tip**: POS tagging is everywhere! It helps search engines understand \"Apple stock\" vs \"apple pie\", helps Siri understand your commands, and powers autocorrect on your phone.*\n"
      ]
    },
    {
      "cell_type": "markdown",
      "id": "35d96f92",
      "metadata": {
        "id": "35d96f92"
      },
      "source": [
        "\n",
        "## 🛠️ Setup and Installation\n",
        "\n",
        "Let's get our tools ready! We'll use two powerful libraries:\n",
        "- **NLTK**: The \"Swiss Army knife\" of NLP - comprehensive but requires setup\n",
        "- **SpaCy**: The \"speed demon\" - built for production, cleaner output\n",
        "\n",
        "Run the cells below to install and set up everything we need.\n"
      ]
    },
    {
      "cell_type": "code",
      "execution_count": 1,
      "id": "2a5f81ea",
      "metadata": {
        "id": "2a5f81ea"
      },
      "outputs": [
        {
          "name": "stdout",
          "output_type": "stream",
          "text": [
            "Requirement already satisfied: nltk in c:\\users\\madua\\appdata\\local\\packages\\pythonsoftwarefoundation.python.3.11_qbz5n2kfra8p0\\localcache\\local-packages\\python311\\site-packages (3.9.1)\n",
            "Requirement already satisfied: spacy in c:\\users\\madua\\appdata\\local\\packages\\pythonsoftwarefoundation.python.3.11_qbz5n2kfra8p0\\localcache\\local-packages\\python311\\site-packages (3.8.7)\n",
            "Requirement already satisfied: matplotlib in c:\\users\\madua\\appdata\\local\\packages\\pythonsoftwarefoundation.python.3.11_qbz5n2kfra8p0\\localcache\\local-packages\\python311\\site-packages (3.10.1)\n",
            "Requirement already satisfied: seaborn in c:\\users\\madua\\appdata\\local\\packages\\pythonsoftwarefoundation.python.3.11_qbz5n2kfra8p0\\localcache\\local-packages\\python311\\site-packages (0.13.2)\n",
            "Requirement already satisfied: pandas in c:\\users\\madua\\appdata\\local\\packages\\pythonsoftwarefoundation.python.3.11_qbz5n2kfra8p0\\localcache\\local-packages\\python311\\site-packages (2.2.3)\n",
            "Requirement already satisfied: click in c:\\users\\madua\\appdata\\local\\packages\\pythonsoftwarefoundation.python.3.11_qbz5n2kfra8p0\\localcache\\local-packages\\python311\\site-packages (from nltk) (8.2.1)\n",
            "Requirement already satisfied: joblib in c:\\users\\madua\\appdata\\local\\packages\\pythonsoftwarefoundation.python.3.11_qbz5n2kfra8p0\\localcache\\local-packages\\python311\\site-packages (from nltk) (1.4.2)\n",
            "Requirement already satisfied: regex>=2021.8.3 in c:\\users\\madua\\appdata\\local\\packages\\pythonsoftwarefoundation.python.3.11_qbz5n2kfra8p0\\localcache\\local-packages\\python311\\site-packages (from nltk) (2024.11.6)\n",
            "Requirement already satisfied: tqdm in c:\\users\\madua\\appdata\\local\\packages\\pythonsoftwarefoundation.python.3.11_qbz5n2kfra8p0\\localcache\\local-packages\\python311\\site-packages (from nltk) (4.67.1)\n",
            "Requirement already satisfied: spacy-legacy<3.1.0,>=3.0.11 in c:\\users\\madua\\appdata\\local\\packages\\pythonsoftwarefoundation.python.3.11_qbz5n2kfra8p0\\localcache\\local-packages\\python311\\site-packages (from spacy) (3.0.12)\n",
            "Requirement already satisfied: spacy-loggers<2.0.0,>=1.0.0 in c:\\users\\madua\\appdata\\local\\packages\\pythonsoftwarefoundation.python.3.11_qbz5n2kfra8p0\\localcache\\local-packages\\python311\\site-packages (from spacy) (1.0.5)\n",
            "Requirement already satisfied: murmurhash<1.1.0,>=0.28.0 in c:\\users\\madua\\appdata\\local\\packages\\pythonsoftwarefoundation.python.3.11_qbz5n2kfra8p0\\localcache\\local-packages\\python311\\site-packages (from spacy) (1.0.13)\n",
            "Requirement already satisfied: cymem<2.1.0,>=2.0.2 in c:\\users\\madua\\appdata\\local\\packages\\pythonsoftwarefoundation.python.3.11_qbz5n2kfra8p0\\localcache\\local-packages\\python311\\site-packages (from spacy) (2.0.11)\n",
            "Requirement already satisfied: preshed<3.1.0,>=3.0.2 in c:\\users\\madua\\appdata\\local\\packages\\pythonsoftwarefoundation.python.3.11_qbz5n2kfra8p0\\localcache\\local-packages\\python311\\site-packages (from spacy) (3.0.10)\n",
            "Requirement already satisfied: thinc<8.4.0,>=8.3.4 in c:\\users\\madua\\appdata\\local\\packages\\pythonsoftwarefoundation.python.3.11_qbz5n2kfra8p0\\localcache\\local-packages\\python311\\site-packages (from spacy) (8.3.6)\n",
            "Requirement already satisfied: wasabi<1.2.0,>=0.9.1 in c:\\users\\madua\\appdata\\local\\packages\\pythonsoftwarefoundation.python.3.11_qbz5n2kfra8p0\\localcache\\local-packages\\python311\\site-packages (from spacy) (1.1.3)\n",
            "Requirement already satisfied: srsly<3.0.0,>=2.4.3 in c:\\users\\madua\\appdata\\local\\packages\\pythonsoftwarefoundation.python.3.11_qbz5n2kfra8p0\\localcache\\local-packages\\python311\\site-packages (from spacy) (2.5.1)\n",
            "Requirement already satisfied: catalogue<2.1.0,>=2.0.6 in c:\\users\\madua\\appdata\\local\\packages\\pythonsoftwarefoundation.python.3.11_qbz5n2kfra8p0\\localcache\\local-packages\\python311\\site-packages (from spacy) (2.0.10)\n",
            "Requirement already satisfied: weasel<0.5.0,>=0.1.0 in c:\\users\\madua\\appdata\\local\\packages\\pythonsoftwarefoundation.python.3.11_qbz5n2kfra8p0\\localcache\\local-packages\\python311\\site-packages (from spacy) (0.4.1)\n",
            "Requirement already satisfied: typer<1.0.0,>=0.3.0 in c:\\users\\madua\\appdata\\local\\packages\\pythonsoftwarefoundation.python.3.11_qbz5n2kfra8p0\\localcache\\local-packages\\python311\\site-packages (from spacy) (0.16.0)\n",
            "Requirement already satisfied: numpy>=1.19.0 in c:\\users\\madua\\appdata\\local\\packages\\pythonsoftwarefoundation.python.3.11_qbz5n2kfra8p0\\localcache\\local-packages\\python311\\site-packages (from spacy) (1.26.4)\n",
            "Requirement already satisfied: requests<3.0.0,>=2.13.0 in c:\\users\\madua\\appdata\\local\\packages\\pythonsoftwarefoundation.python.3.11_qbz5n2kfra8p0\\localcache\\local-packages\\python311\\site-packages (from spacy) (2.32.3)\n",
            "Requirement already satisfied: pydantic!=1.8,!=1.8.1,<3.0.0,>=1.7.4 in c:\\users\\madua\\appdata\\local\\packages\\pythonsoftwarefoundation.python.3.11_qbz5n2kfra8p0\\localcache\\local-packages\\python311\\site-packages (from spacy) (2.11.5)\n",
            "Requirement already satisfied: jinja2 in c:\\users\\madua\\appdata\\local\\packages\\pythonsoftwarefoundation.python.3.11_qbz5n2kfra8p0\\localcache\\local-packages\\python311\\site-packages (from spacy) (3.1.6)\n",
            "Requirement already satisfied: setuptools in c:\\program files\\windowsapps\\pythonsoftwarefoundation.python.3.11_3.11.2544.0_x64__qbz5n2kfra8p0\\lib\\site-packages (from spacy) (65.5.0)\n",
            "Requirement already satisfied: packaging>=20.0 in c:\\users\\madua\\appdata\\local\\packages\\pythonsoftwarefoundation.python.3.11_qbz5n2kfra8p0\\localcache\\local-packages\\python311\\site-packages (from spacy) (24.2)\n",
            "Requirement already satisfied: langcodes<4.0.0,>=3.2.0 in c:\\users\\madua\\appdata\\local\\packages\\pythonsoftwarefoundation.python.3.11_qbz5n2kfra8p0\\localcache\\local-packages\\python311\\site-packages (from spacy) (3.5.0)\n",
            "Requirement already satisfied: contourpy>=1.0.1 in c:\\users\\madua\\appdata\\local\\packages\\pythonsoftwarefoundation.python.3.11_qbz5n2kfra8p0\\localcache\\local-packages\\python311\\site-packages (from matplotlib) (1.3.1)\n",
            "Requirement already satisfied: cycler>=0.10 in c:\\users\\madua\\appdata\\local\\packages\\pythonsoftwarefoundation.python.3.11_qbz5n2kfra8p0\\localcache\\local-packages\\python311\\site-packages (from matplotlib) (0.12.1)\n",
            "Requirement already satisfied: fonttools>=4.22.0 in c:\\users\\madua\\appdata\\local\\packages\\pythonsoftwarefoundation.python.3.11_qbz5n2kfra8p0\\localcache\\local-packages\\python311\\site-packages (from matplotlib) (4.56.0)\n",
            "Requirement already satisfied: kiwisolver>=1.3.1 in c:\\users\\madua\\appdata\\local\\packages\\pythonsoftwarefoundation.python.3.11_qbz5n2kfra8p0\\localcache\\local-packages\\python311\\site-packages (from matplotlib) (1.4.8)\n",
            "Requirement already satisfied: pillow>=8 in c:\\users\\madua\\appdata\\local\\packages\\pythonsoftwarefoundation.python.3.11_qbz5n2kfra8p0\\localcache\\local-packages\\python311\\site-packages (from matplotlib) (11.1.0)\n",
            "Requirement already satisfied: pyparsing>=2.3.1 in c:\\users\\madua\\appdata\\local\\packages\\pythonsoftwarefoundation.python.3.11_qbz5n2kfra8p0\\localcache\\local-packages\\python311\\site-packages (from matplotlib) (3.2.1)\n",
            "Requirement already satisfied: python-dateutil>=2.7 in c:\\users\\madua\\appdata\\local\\packages\\pythonsoftwarefoundation.python.3.11_qbz5n2kfra8p0\\localcache\\local-packages\\python311\\site-packages (from matplotlib) (2.9.0.post0)\n",
            "Requirement already satisfied: pytz>=2020.1 in c:\\users\\madua\\appdata\\local\\packages\\pythonsoftwarefoundation.python.3.11_qbz5n2kfra8p0\\localcache\\local-packages\\python311\\site-packages (from pandas) (2025.1)\n",
            "Requirement already satisfied: tzdata>=2022.7 in c:\\users\\madua\\appdata\\local\\packages\\pythonsoftwarefoundation.python.3.11_qbz5n2kfra8p0\\localcache\\local-packages\\python311\\site-packages (from pandas) (2025.1)\n",
            "Requirement already satisfied: language-data>=1.2 in c:\\users\\madua\\appdata\\local\\packages\\pythonsoftwarefoundation.python.3.11_qbz5n2kfra8p0\\localcache\\local-packages\\python311\\site-packages (from langcodes<4.0.0,>=3.2.0->spacy) (1.3.0)\n",
            "Requirement already satisfied: annotated-types>=0.6.0 in c:\\users\\madua\\appdata\\local\\packages\\pythonsoftwarefoundation.python.3.11_qbz5n2kfra8p0\\localcache\\local-packages\\python311\\site-packages (from pydantic!=1.8,!=1.8.1,<3.0.0,>=1.7.4->spacy) (0.7.0)\n",
            "Requirement already satisfied: pydantic-core==2.33.2 in c:\\users\\madua\\appdata\\local\\packages\\pythonsoftwarefoundation.python.3.11_qbz5n2kfra8p0\\localcache\\local-packages\\python311\\site-packages (from pydantic!=1.8,!=1.8.1,<3.0.0,>=1.7.4->spacy) (2.33.2)\n",
            "Requirement already satisfied: typing-extensions>=4.12.2 in c:\\users\\madua\\appdata\\local\\packages\\pythonsoftwarefoundation.python.3.11_qbz5n2kfra8p0\\localcache\\local-packages\\python311\\site-packages (from pydantic!=1.8,!=1.8.1,<3.0.0,>=1.7.4->spacy) (4.14.0)\n",
            "Requirement already satisfied: typing-inspection>=0.4.0 in c:\\users\\madua\\appdata\\local\\packages\\pythonsoftwarefoundation.python.3.11_qbz5n2kfra8p0\\localcache\\local-packages\\python311\\site-packages (from pydantic!=1.8,!=1.8.1,<3.0.0,>=1.7.4->spacy) (0.4.1)\n",
            "Requirement already satisfied: six>=1.5 in c:\\users\\madua\\appdata\\local\\packages\\pythonsoftwarefoundation.python.3.11_qbz5n2kfra8p0\\localcache\\local-packages\\python311\\site-packages (from python-dateutil>=2.7->matplotlib) (1.17.0)\n",
            "Requirement already satisfied: charset-normalizer<4,>=2 in c:\\users\\madua\\appdata\\local\\packages\\pythonsoftwarefoundation.python.3.11_qbz5n2kfra8p0\\localcache\\local-packages\\python311\\site-packages (from requests<3.0.0,>=2.13.0->spacy) (3.4.2)\n",
            "Requirement already satisfied: idna<4,>=2.5 in c:\\users\\madua\\appdata\\local\\packages\\pythonsoftwarefoundation.python.3.11_qbz5n2kfra8p0\\localcache\\local-packages\\python311\\site-packages (from requests<3.0.0,>=2.13.0->spacy) (3.10)\n",
            "Requirement already satisfied: urllib3<3,>=1.21.1 in c:\\users\\madua\\appdata\\local\\packages\\pythonsoftwarefoundation.python.3.11_qbz5n2kfra8p0\\localcache\\local-packages\\python311\\site-packages (from requests<3.0.0,>=2.13.0->spacy) (2.4.0)\n",
            "Requirement already satisfied: certifi>=2017.4.17 in c:\\users\\madua\\appdata\\local\\packages\\pythonsoftwarefoundation.python.3.11_qbz5n2kfra8p0\\localcache\\local-packages\\python311\\site-packages (from requests<3.0.0,>=2.13.0->spacy) (2025.4.26)\n",
            "Requirement already satisfied: blis<1.4.0,>=1.3.0 in c:\\users\\madua\\appdata\\local\\packages\\pythonsoftwarefoundation.python.3.11_qbz5n2kfra8p0\\localcache\\local-packages\\python311\\site-packages (from thinc<8.4.0,>=8.3.4->spacy) (1.3.0)\n",
            "Requirement already satisfied: confection<1.0.0,>=0.0.1 in c:\\users\\madua\\appdata\\local\\packages\\pythonsoftwarefoundation.python.3.11_qbz5n2kfra8p0\\localcache\\local-packages\\python311\\site-packages (from thinc<8.4.0,>=8.3.4->spacy) (0.1.5)\n",
            "Collecting numpy>=1.19.0 (from spacy)\n",
            "  Downloading numpy-2.3.1-cp311-cp311-win_amd64.whl.metadata (60 kB)\n",
            "     ---------------------------------------- 0.0/60.9 kB ? eta -:--:--\n",
            "     ------ --------------------------------- 10.2/60.9 kB ? eta -:--:--\n",
            "     ------------------- ------------------ 30.7/60.9 kB 330.3 kB/s eta 0:00:01\n",
            "     ------------------------------- ------ 51.2/60.9 kB 375.8 kB/s eta 0:00:01\n",
            "     -------------------------------------- 60.9/60.9 kB 361.7 kB/s eta 0:00:00\n",
            "Requirement already satisfied: colorama in c:\\users\\madua\\appdata\\local\\packages\\pythonsoftwarefoundation.python.3.11_qbz5n2kfra8p0\\localcache\\local-packages\\python311\\site-packages (from tqdm->nltk) (0.4.6)\n",
            "Requirement already satisfied: shellingham>=1.3.0 in c:\\users\\madua\\appdata\\local\\packages\\pythonsoftwarefoundation.python.3.11_qbz5n2kfra8p0\\localcache\\local-packages\\python311\\site-packages (from typer<1.0.0,>=0.3.0->spacy) (1.5.4)\n",
            "Requirement already satisfied: rich>=10.11.0 in c:\\users\\madua\\appdata\\local\\packages\\pythonsoftwarefoundation.python.3.11_qbz5n2kfra8p0\\localcache\\local-packages\\python311\\site-packages (from typer<1.0.0,>=0.3.0->spacy) (14.0.0)\n",
            "Requirement already satisfied: cloudpathlib<1.0.0,>=0.7.0 in c:\\users\\madua\\appdata\\local\\packages\\pythonsoftwarefoundation.python.3.11_qbz5n2kfra8p0\\localcache\\local-packages\\python311\\site-packages (from weasel<0.5.0,>=0.1.0->spacy) (0.21.1)\n",
            "Requirement already satisfied: smart-open<8.0.0,>=5.2.1 in c:\\users\\madua\\appdata\\local\\packages\\pythonsoftwarefoundation.python.3.11_qbz5n2kfra8p0\\localcache\\local-packages\\python311\\site-packages (from weasel<0.5.0,>=0.1.0->spacy) (7.1.0)\n",
            "Requirement already satisfied: MarkupSafe>=2.0 in c:\\users\\madua\\appdata\\local\\packages\\pythonsoftwarefoundation.python.3.11_qbz5n2kfra8p0\\localcache\\local-packages\\python311\\site-packages (from jinja2->spacy) (3.0.2)\n",
            "Requirement already satisfied: marisa-trie>=1.1.0 in c:\\users\\madua\\appdata\\local\\packages\\pythonsoftwarefoundation.python.3.11_qbz5n2kfra8p0\\localcache\\local-packages\\python311\\site-packages (from language-data>=1.2->langcodes<4.0.0,>=3.2.0->spacy) (1.2.1)\n",
            "Requirement already satisfied: markdown-it-py>=2.2.0 in c:\\users\\madua\\appdata\\local\\packages\\pythonsoftwarefoundation.python.3.11_qbz5n2kfra8p0\\localcache\\local-packages\\python311\\site-packages (from rich>=10.11.0->typer<1.0.0,>=0.3.0->spacy) (3.0.0)\n",
            "Requirement already satisfied: pygments<3.0.0,>=2.13.0 in c:\\users\\madua\\appdata\\local\\packages\\pythonsoftwarefoundation.python.3.11_qbz5n2kfra8p0\\localcache\\local-packages\\python311\\site-packages (from rich>=10.11.0->typer<1.0.0,>=0.3.0->spacy) (2.19.1)\n",
            "Requirement already satisfied: wrapt in c:\\users\\madua\\appdata\\local\\packages\\pythonsoftwarefoundation.python.3.11_qbz5n2kfra8p0\\localcache\\local-packages\\python311\\site-packages (from smart-open<8.0.0,>=5.2.1->weasel<0.5.0,>=0.1.0->spacy) (1.17.2)\n",
            "Requirement already satisfied: mdurl~=0.1 in c:\\users\\madua\\appdata\\local\\packages\\pythonsoftwarefoundation.python.3.11_qbz5n2kfra8p0\\localcache\\local-packages\\python311\\site-packages (from markdown-it-py>=2.2.0->rich>=10.11.0->typer<1.0.0,>=0.3.0->spacy) (0.1.2)\n",
            "Downloading numpy-2.3.1-cp311-cp311-win_amd64.whl (13.0 MB)\n",
            "   ---------------------------------------- 0.0/13.0 MB ? eta -:--:--\n",
            "    --------------------------------------- 0.2/13.0 MB 5.9 MB/s eta 0:00:03\n",
            "   - -------------------------------------- 0.6/13.0 MB 7.1 MB/s eta 0:00:02\n",
            "   --- ------------------------------------ 1.0/13.0 MB 7.9 MB/s eta 0:00:02\n",
            "   ---- ----------------------------------- 1.6/13.0 MB 9.0 MB/s eta 0:00:02\n",
            "   ------ --------------------------------- 2.1/13.0 MB 9.5 MB/s eta 0:00:02\n",
            "   -------- ------------------------------- 2.8/13.0 MB 10.5 MB/s eta 0:00:01\n",
            "   ---------- ----------------------------- 3.4/13.0 MB 10.9 MB/s eta 0:00:01\n",
            "   ------------ --------------------------- 4.1/13.0 MB 11.4 MB/s eta 0:00:01\n",
            "   -------------- ------------------------- 4.8/13.0 MB 11.9 MB/s eta 0:00:01\n",
            "   ----------------- ---------------------- 5.6/13.0 MB 12.3 MB/s eta 0:00:01\n",
            "   ------------------- -------------------- 6.3/13.0 MB 12.6 MB/s eta 0:00:01\n",
            "   ---------------------- ----------------- 7.2/13.0 MB 13.1 MB/s eta 0:00:01\n",
            "   ------------------------ --------------- 7.9/13.0 MB 13.3 MB/s eta 0:00:01\n",
            "   -------------------------- ------------- 8.6/13.0 MB 13.4 MB/s eta 0:00:01\n",
            "   ---------------------------- ----------- 9.2/13.0 MB 13.3 MB/s eta 0:00:01\n",
            "   ------------------------------ --------- 10.0/13.0 MB 13.6 MB/s eta 0:00:01\n",
            "   -------------------------------- ------- 10.7/13.0 MB 14.6 MB/s eta 0:00:01\n",
            "   ----------------------------------- ---- 11.4/13.0 MB 15.2 MB/s eta 0:00:01\n",
            "   ------------------------------------- -- 12.3/13.0 MB 15.2 MB/s eta 0:00:01\n",
            "   ---------------------------------------  13.0/13.0 MB 15.2 MB/s eta 0:00:01\n",
            "   ---------------------------------------  13.0/13.0 MB 15.2 MB/s eta 0:00:01\n",
            "   ---------------------------------------  13.0/13.0 MB 15.2 MB/s eta 0:00:01\n",
            "   ---------------------------------------  13.0/13.0 MB 15.2 MB/s eta 0:00:01\n",
            "   ---------------------------------------- 13.0/13.0 MB 12.4 MB/s eta 0:00:00\n",
            "Installing collected packages: numpy\n",
            "  Attempting uninstall: numpy\n",
            "    Found existing installation: numpy 1.26.4\n",
            "    Uninstalling numpy-1.26.4:\n",
            "      Successfully uninstalled numpy-1.26.4\n",
            "Successfully installed numpy-2.3.1\n"
          ]
        },
        {
          "name": "stderr",
          "output_type": "stream",
          "text": [
            "  WARNING: The scripts f2py.exe and numpy-config.exe are installed in 'C:\\Users\\madua\\AppData\\Local\\Packages\\PythonSoftwareFoundation.Python.3.11_qbz5n2kfra8p0\\LocalCache\\local-packages\\Python311\\Scripts' which is not on PATH.\n",
            "  Consider adding this directory to PATH or, if you prefer to suppress this warning, use --no-warn-script-location.\n",
            "ERROR: pip's dependency resolver does not currently take into account all the packages that are installed. This behaviour is the source of the following dependency conflicts.\n",
            "gensim 4.3.3 requires numpy<2.0,>=1.18.5, but you have numpy 2.3.1 which is incompatible.\n",
            "scipy 1.13.1 requires numpy<2.3,>=1.22.4, but you have numpy 2.3.1 which is incompatible.\n",
            "\n",
            "[notice] A new release of pip is available: 24.0 -> 25.1.1\n",
            "[notice] To update, run: C:\\Users\\madua\\AppData\\Local\\Microsoft\\WindowsApps\\PythonSoftwareFoundation.Python.3.11_qbz5n2kfra8p0\\python.exe -m pip install --upgrade pip\n"
          ]
        },
        {
          "name": "stdout",
          "output_type": "stream",
          "text": [
            "Collecting en-core-web-sm==3.7.1\n",
            "  Downloading https://github.com/explosion/spacy-models/releases/download/en_core_web_sm-3.7.1/en_core_web_sm-3.7.1-py3-none-any.whl (12.8 MB)\n",
            "     ---------------------------------------- 0.0/12.8 MB ? eta -:--:--\n",
            "     -------- ------------------------------- 2.6/12.8 MB 15.1 MB/s eta 0:00:01\n",
            "     ------------------ --------------------- 6.0/12.8 MB 15.4 MB/s eta 0:00:01\n",
            "     ----------------------------- ---------- 9.4/12.8 MB 15.4 MB/s eta 0:00:01\n",
            "     --------------------------------------  12.6/12.8 MB 15.5 MB/s eta 0:00:01\n",
            "     --------------------------------------- 12.8/12.8 MB 14.1 MB/s eta 0:00:00\n",
            "Requirement already satisfied: spacy<3.8.0,>=3.7.2 in c:\\users\\madua\\appdata\\local\\programs\\python\\python312\\lib\\site-packages (from en-core-web-sm==3.7.1) (3.7.5)\n",
            "Requirement already satisfied: spacy-legacy<3.1.0,>=3.0.11 in c:\\users\\madua\\appdata\\local\\programs\\python\\python312\\lib\\site-packages (from spacy<3.8.0,>=3.7.2->en-core-web-sm==3.7.1) (3.0.12)\n",
            "Requirement already satisfied: spacy-loggers<2.0.0,>=1.0.0 in c:\\users\\madua\\appdata\\local\\programs\\python\\python312\\lib\\site-packages (from spacy<3.8.0,>=3.7.2->en-core-web-sm==3.7.1) (1.0.5)\n",
            "Requirement already satisfied: murmurhash<1.1.0,>=0.28.0 in c:\\users\\madua\\appdata\\local\\programs\\python\\python312\\lib\\site-packages (from spacy<3.8.0,>=3.7.2->en-core-web-sm==3.7.1) (1.0.12)\n",
            "Requirement already satisfied: cymem<2.1.0,>=2.0.2 in c:\\users\\madua\\appdata\\local\\programs\\python\\python312\\lib\\site-packages (from spacy<3.8.0,>=3.7.2->en-core-web-sm==3.7.1) (2.0.11)\n",
            "Requirement already satisfied: preshed<3.1.0,>=3.0.2 in c:\\users\\madua\\appdata\\local\\programs\\python\\python312\\lib\\site-packages (from spacy<3.8.0,>=3.7.2->en-core-web-sm==3.7.1) (3.0.9)\n",
            "Requirement already satisfied: thinc<8.3.0,>=8.2.2 in c:\\users\\madua\\appdata\\local\\programs\\python\\python312\\lib\\site-packages (from spacy<3.8.0,>=3.7.2->en-core-web-sm==3.7.1) (8.2.5)\n",
            "Requirement already satisfied: wasabi<1.2.0,>=0.9.1 in c:\\users\\madua\\appdata\\local\\programs\\python\\python312\\lib\\site-packages (from spacy<3.8.0,>=3.7.2->en-core-web-sm==3.7.1) (1.1.3)\n",
            "Requirement already satisfied: srsly<3.0.0,>=2.4.3 in c:\\users\\madua\\appdata\\local\\programs\\python\\python312\\lib\\site-packages (from spacy<3.8.0,>=3.7.2->en-core-web-sm==3.7.1) (2.5.1)\n",
            "Requirement already satisfied: catalogue<2.1.0,>=2.0.6 in c:\\users\\madua\\appdata\\local\\programs\\python\\python312\\lib\\site-packages (from spacy<3.8.0,>=3.7.2->en-core-web-sm==3.7.1) (2.0.10)\n",
            "Requirement already satisfied: weasel<0.5.0,>=0.1.0 in c:\\users\\madua\\appdata\\local\\programs\\python\\python312\\lib\\site-packages (from spacy<3.8.0,>=3.7.2->en-core-web-sm==3.7.1) (0.4.1)\n",
            "Requirement already satisfied: typer<1.0.0,>=0.3.0 in c:\\users\\madua\\appdata\\local\\programs\\python\\python312\\lib\\site-packages (from spacy<3.8.0,>=3.7.2->en-core-web-sm==3.7.1) (0.15.1)\n",
            "Requirement already satisfied: tqdm<5.0.0,>=4.38.0 in c:\\users\\madua\\appdata\\local\\programs\\python\\python312\\lib\\site-packages (from spacy<3.8.0,>=3.7.2->en-core-web-sm==3.7.1) (4.67.1)\n",
            "Requirement already satisfied: requests<3.0.0,>=2.13.0 in c:\\users\\madua\\appdata\\local\\programs\\python\\python312\\lib\\site-packages (from spacy<3.8.0,>=3.7.2->en-core-web-sm==3.7.1) (2.32.3)\n",
            "Requirement already satisfied: pydantic!=1.8,!=1.8.1,<3.0.0,>=1.7.4 in c:\\users\\madua\\appdata\\local\\programs\\python\\python312\\lib\\site-packages (from spacy<3.8.0,>=3.7.2->en-core-web-sm==3.7.1) (2.10.6)\n",
            "Requirement already satisfied: jinja2 in c:\\users\\madua\\appdata\\local\\programs\\python\\python312\\lib\\site-packages (from spacy<3.8.0,>=3.7.2->en-core-web-sm==3.7.1) (3.1.5)\n",
            "Requirement already satisfied: setuptools in c:\\users\\madua\\appdata\\local\\programs\\python\\python312\\lib\\site-packages (from spacy<3.8.0,>=3.7.2->en-core-web-sm==3.7.1) (75.8.0)\n",
            "Requirement already satisfied: packaging>=20.0 in c:\\users\\madua\\appdata\\roaming\\python\\python312\\site-packages (from spacy<3.8.0,>=3.7.2->en-core-web-sm==3.7.1) (24.2)\n",
            "Requirement already satisfied: langcodes<4.0.0,>=3.2.0 in c:\\users\\madua\\appdata\\local\\programs\\python\\python312\\lib\\site-packages (from spacy<3.8.0,>=3.7.2->en-core-web-sm==3.7.1) (3.5.0)\n",
            "Requirement already satisfied: numpy>=1.19.0 in c:\\users\\madua\\appdata\\local\\programs\\python\\python312\\lib\\site-packages (from spacy<3.8.0,>=3.7.2->en-core-web-sm==3.7.1) (1.26.4)\n",
            "Requirement already satisfied: language-data>=1.2 in c:\\users\\madua\\appdata\\local\\programs\\python\\python312\\lib\\site-packages (from langcodes<4.0.0,>=3.2.0->spacy<3.8.0,>=3.7.2->en-core-web-sm==3.7.1) (1.3.0)\n",
            "Requirement already satisfied: annotated-types>=0.6.0 in c:\\users\\madua\\appdata\\local\\programs\\python\\python312\\lib\\site-packages (from pydantic!=1.8,!=1.8.1,<3.0.0,>=1.7.4->spacy<3.8.0,>=3.7.2->en-core-web-sm==3.7.1) (0.7.0)\n",
            "Requirement already satisfied: pydantic-core==2.27.2 in c:\\users\\madua\\appdata\\local\\programs\\python\\python312\\lib\\site-packages (from pydantic!=1.8,!=1.8.1,<3.0.0,>=1.7.4->spacy<3.8.0,>=3.7.2->en-core-web-sm==3.7.1) (2.27.2)\n",
            "Requirement already satisfied: typing-extensions>=4.12.2 in c:\\users\\madua\\appdata\\local\\programs\\python\\python312\\lib\\site-packages (from pydantic!=1.8,!=1.8.1,<3.0.0,>=1.7.4->spacy<3.8.0,>=3.7.2->en-core-web-sm==3.7.1) (4.12.2)\n",
            "Requirement already satisfied: charset-normalizer<4,>=2 in c:\\users\\madua\\appdata\\local\\programs\\python\\python312\\lib\\site-packages (from requests<3.0.0,>=2.13.0->spacy<3.8.0,>=3.7.2->en-core-web-sm==3.7.1) (3.4.1)\n",
            "Requirement already satisfied: idna<4,>=2.5 in c:\\users\\madua\\appdata\\local\\programs\\python\\python312\\lib\\site-packages (from requests<3.0.0,>=2.13.0->spacy<3.8.0,>=3.7.2->en-core-web-sm==3.7.1) (3.10)\n",
            "Requirement already satisfied: urllib3<3,>=1.21.1 in c:\\users\\madua\\appdata\\local\\programs\\python\\python312\\lib\\site-packages (from requests<3.0.0,>=2.13.0->spacy<3.8.0,>=3.7.2->en-core-web-sm==3.7.1) (2.3.0)\n",
            "Requirement already satisfied: certifi>=2017.4.17 in c:\\users\\madua\\appdata\\local\\programs\\python\\python312\\lib\\site-packages (from requests<3.0.0,>=2.13.0->spacy<3.8.0,>=3.7.2->en-core-web-sm==3.7.1) (2025.1.31)\n",
            "Requirement already satisfied: blis<0.8.0,>=0.7.8 in c:\\users\\madua\\appdata\\local\\programs\\python\\python312\\lib\\site-packages (from thinc<8.3.0,>=8.2.2->spacy<3.8.0,>=3.7.2->en-core-web-sm==3.7.1) (0.7.11)\n",
            "Requirement already satisfied: confection<1.0.0,>=0.0.1 in c:\\users\\madua\\appdata\\local\\programs\\python\\python312\\lib\\site-packages (from thinc<8.3.0,>=8.2.2->spacy<3.8.0,>=3.7.2->en-core-web-sm==3.7.1) (0.1.5)\n",
            "Requirement already satisfied: colorama in c:\\users\\madua\\appdata\\roaming\\python\\python312\\site-packages (from tqdm<5.0.0,>=4.38.0->spacy<3.8.0,>=3.7.2->en-core-web-sm==3.7.1) (0.4.6)\n",
            "Requirement already satisfied: click>=8.0.0 in c:\\users\\madua\\appdata\\local\\programs\\python\\python312\\lib\\site-packages (from typer<1.0.0,>=0.3.0->spacy<3.8.0,>=3.7.2->en-core-web-sm==3.7.1) (8.1.8)\n",
            "Requirement already satisfied: shellingham>=1.3.0 in c:\\users\\madua\\appdata\\local\\programs\\python\\python312\\lib\\site-packages (from typer<1.0.0,>=0.3.0->spacy<3.8.0,>=3.7.2->en-core-web-sm==3.7.1) (1.5.4)\n",
            "Requirement already satisfied: rich>=10.11.0 in c:\\users\\madua\\appdata\\local\\programs\\python\\python312\\lib\\site-packages (from typer<1.0.0,>=0.3.0->spacy<3.8.0,>=3.7.2->en-core-web-sm==3.7.1) (13.9.4)\n",
            "Requirement already satisfied: cloudpathlib<1.0.0,>=0.7.0 in c:\\users\\madua\\appdata\\local\\programs\\python\\python312\\lib\\site-packages (from weasel<0.5.0,>=0.1.0->spacy<3.8.0,>=3.7.2->en-core-web-sm==3.7.1) (0.20.0)\n",
            "Requirement already satisfied: smart-open<8.0.0,>=5.2.1 in c:\\users\\madua\\appdata\\local\\programs\\python\\python312\\lib\\site-packages (from weasel<0.5.0,>=0.1.0->spacy<3.8.0,>=3.7.2->en-core-web-sm==3.7.1) (7.1.0)\n",
            "Requirement already satisfied: MarkupSafe>=2.0 in c:\\users\\madua\\appdata\\local\\programs\\python\\python312\\lib\\site-packages (from jinja2->spacy<3.8.0,>=3.7.2->en-core-web-sm==3.7.1) (3.0.2)\n",
            "Requirement already satisfied: marisa-trie>=1.1.0 in c:\\users\\madua\\appdata\\local\\programs\\python\\python312\\lib\\site-packages (from language-data>=1.2->langcodes<4.0.0,>=3.2.0->spacy<3.8.0,>=3.7.2->en-core-web-sm==3.7.1) (1.2.1)\n",
            "Requirement already satisfied: markdown-it-py>=2.2.0 in c:\\users\\madua\\appdata\\local\\programs\\python\\python312\\lib\\site-packages (from rich>=10.11.0->typer<1.0.0,>=0.3.0->spacy<3.8.0,>=3.7.2->en-core-web-sm==3.7.1) (3.0.0)\n",
            "Requirement already satisfied: pygments<3.0.0,>=2.13.0 in c:\\users\\madua\\appdata\\roaming\\python\\python312\\site-packages (from rich>=10.11.0->typer<1.0.0,>=0.3.0->spacy<3.8.0,>=3.7.2->en-core-web-sm==3.7.1) (2.19.1)\n",
            "Requirement already satisfied: wrapt in c:\\users\\madua\\appdata\\local\\programs\\python\\python312\\lib\\site-packages (from smart-open<8.0.0,>=5.2.1->weasel<0.5.0,>=0.1.0->spacy<3.8.0,>=3.7.2->en-core-web-sm==3.7.1) (1.17.2)\n",
            "Requirement already satisfied: mdurl~=0.1 in c:\\users\\madua\\appdata\\local\\programs\\python\\python312\\lib\\site-packages (from markdown-it-py>=2.2.0->rich>=10.11.0->typer<1.0.0,>=0.3.0->spacy<3.8.0,>=3.7.2->en-core-web-sm==3.7.1) (0.1.2)\n",
            "\u001b[38;5;2m✔ Download and installation successful\u001b[0m\n",
            "You can now load the package via spacy.load('en_core_web_sm')\n",
            "✅ Installation complete!\n"
          ]
        },
        {
          "name": "stderr",
          "output_type": "stream",
          "text": [
            "\n",
            "[notice] A new release of pip is available: 24.2 -> 25.1.1\n",
            "[notice] To update, run: python.exe -m pip install --upgrade pip\n"
          ]
        }
      ],
      "source": [
        "\n",
        "# Install required libraries (run this first!)\n",
        "!pip install nltk spacy matplotlib seaborn pandas\n",
        "!python -m spacy download en_core_web_sm\n",
        "\n",
        "print(\"✅ Installation complete!\")\n"
      ]
    },
    {
      "cell_type": "code",
      "execution_count": 2,
      "id": "a1135905",
      "metadata": {
        "id": "a1135905"
      },
      "outputs": [
        {
          "name": "stderr",
          "output_type": "stream",
          "text": [
            "[nltk_data] Downloading package punkt to\n",
            "[nltk_data]     C:\\Users\\madua\\AppData\\Roaming\\nltk_data...\n",
            "[nltk_data]   Package punkt is already up-to-date!\n",
            "[nltk_data] Downloading package averaged_perceptron_tagger to\n",
            "[nltk_data]     C:\\Users\\madua\\AppData\\Roaming\\nltk_data...\n",
            "[nltk_data]   Package averaged_perceptron_tagger is already up-to-\n",
            "[nltk_data]       date!\n",
            "[nltk_data] Downloading package universal_tagset to\n",
            "[nltk_data]     C:\\Users\\madua\\AppData\\Roaming\\nltk_data...\n",
            "[nltk_data]   Unzipping taggers\\universal_tagset.zip.\n"
          ]
        },
        {
          "name": "stdout",
          "output_type": "stream",
          "text": [
            "🎉 All libraries loaded successfully!\n",
            "📚 NLTK version: 3.8.1\n",
            "🚀 SpaCy version: 3.7.5\n"
          ]
        }
      ],
      "source": [
        "\n",
        "# Import all the libraries we'll need\n",
        "import nltk\n",
        "import spacy\n",
        "import pandas as pd\n",
        "import matplotlib.pyplot as plt\n",
        "import seaborn as sns\n",
        "from collections import Counter\n",
        "import warnings\n",
        "warnings.filterwarnings('ignore')\n",
        "\n",
        "# Download NLTK data (this might take a moment)\n",
        "nltk.download('punkt')\n",
        "nltk.download('averaged_perceptron_tagger')\n",
        "nltk.download('universal_tagset')\n",
        "\n",
        "# Load SpaCy model\n",
        "nlp = spacy.load('en_core_web_sm')\n",
        "\n",
        "print(\"🎉 All libraries loaded successfully!\")\n",
        "print(\"📚 NLTK version:\", nltk.__version__)\n",
        "print(\"🚀 SpaCy version:\", spacy.__version__)\n"
      ]
    },
    {
      "cell_type": "markdown",
      "id": "c816a7ce",
      "metadata": {
        "id": "c816a7ce"
      },
      "source": [
        "\n",
        "---\n",
        "# 🎯 PART 1: IN-CLASS EXERCISE (30-45 minutes)\n",
        "\n",
        "Welcome to the hands-on portion! We'll start with the basics and build up your understanding step by step.\n",
        "\n",
        "## Learning Goals for Part 1:\n",
        "1. Understand what POS tagging does\n",
        "2. Use NLTK and SpaCy for basic tagging\n",
        "3. Interpret and compare different tag outputs\n",
        "4. Explore word ambiguity with real examples\n",
        "5. Compare different tagging approaches\n"
      ]
    },
    {
      "cell_type": "markdown",
      "id": "76538fce",
      "metadata": {
        "id": "76538fce"
      },
      "source": [
        "\n",
        "## 🔍 Activity 1: Your First POS Tags (10 minutes)\n",
        "\n",
        "Let's start with the classic example: \"The quick brown fox jumps over the lazy dog\"\n",
        "\n",
        "This sentence contains most common parts of speech, making it perfect for learning!\n"
      ]
    },
    {
      "cell_type": "code",
      "execution_count": 7,
      "id": "6d12c1b4",
      "metadata": {
        "id": "6d12c1b4"
      },
      "outputs": [
        {
          "name": "stdout",
          "output_type": "stream",
          "text": [
            "Original sentence: The quick brown fox jumps over the lazy dog\n",
            "\n",
            "Tokens: ['The', 'quick', 'brown', 'fox', 'jumps', 'over', 'the', 'lazy', 'dog']\n",
            "\n",
            "POS Tags:\n",
            "  The      -> DT\n",
            "  quick    -> JJ\n",
            "  brown    -> NN\n",
            "  fox      -> NN\n",
            "  jumps    -> VBZ\n",
            "  over     -> IN\n",
            "  the      -> DT\n",
            "  lazy     -> JJ\n",
            "  dog      -> NN\n"
          ]
        }
      ],
      "source": [
        "\n",
        "# Let's start with a classic example\n",
        "sentence = \"The quick brown fox jumps over the lazy dog\"\n",
        "\n",
        "# TODO: Use NLTK to tokenize and tag the sentence\n",
        "# Hint: Use nltk.word_tokenize() and nltk.pos_tag()\n",
        "tokens = nltk.word_tokenize(\"The quick brown fox jumps over the lazy dog\")\n",
        "pos_tags = nltk.pos_tag([\"The\", \"quick\", \"brown\", \"fox\", \"jumps\", \"over\", \"the\", \"lazy\", \"dog\"])\n",
        "\n",
        "print(\"Original sentence:\", sentence)\n",
        "print(\"\\nTokens:\", tokens)\n",
        "print(\"\\nPOS Tags:\")\n",
        "for word, tag in pos_tags:\n",
        "    print(f\"  {word:8} -> {tag}\")\n"
      ]
    },
    {
      "cell_type": "markdown",
      "id": "555b5f5d",
      "metadata": {
        "id": "555b5f5d"
      },
      "source": [
        "\n",
        "### 🤔 Quick Questions:\n",
        "1. What does 'DT' mean? What about 'JJ'? \n",
        "DT means \"determiner\", it introduces a noun or pronoun and tells us which one, how many, or whose.\n",
        "2. Why do you think 'brown' and 'lazy' have the same tag? \n",
        "These two have the same tag because they are both adjectives which describe nouns.\n",
        "3. Can you guess what 'VBZ' represents? VBZ represents \"Verb\"\n",
        "\n",
        "*Hint: Think about the grammatical role each word plays in the sentence!*\n"
      ]
    },
    {
      "cell_type": "markdown",
      "id": "f3045611",
      "metadata": {
        "id": "f3045611"
      },
      "source": [
        "\n",
        "## 🚀 Activity 2: SpaCy vs NLTK Showdown (10 minutes)\n",
        "\n",
        "Now let's see how SpaCy handles the same sentence. SpaCy uses cleaner, more intuitive tag names.\n"
      ]
    },
    {
      "cell_type": "code",
      "execution_count": 9,
      "id": "a9669b15",
      "metadata": {
        "id": "a9669b15"
      },
      "outputs": [
        {
          "name": "stdout",
          "output_type": "stream",
          "text": [
            "SpaCy POS Tags:\n",
            "  The      -> DET    (DT)\n",
            "  quick    -> ADJ    (JJ)\n",
            "  brown    -> ADJ    (JJ)\n",
            "  fox      -> NOUN   (NN)\n",
            "  jumps    -> VERB   (VBZ)\n",
            "  over     -> ADP    (IN)\n",
            "  the      -> DET    (DT)\n",
            "  lazy     -> ADJ    (JJ)\n",
            "  dog      -> NOUN   (NN)\n",
            "\n",
            "==================================================\n",
            "COMPARISON:\n",
            "==================================================\n",
            "Word       NLTK     SpaCy     \n",
            "------------------------------\n",
            "The        DT       DET       \n",
            "quick      JJ       ADJ       \n",
            "brown      NN       ADJ       \n",
            "fox        NN       NOUN      \n",
            "jumps      VBZ      VERB      \n",
            "over       IN       ADP       \n",
            "the        DT       DET       \n",
            "lazy       JJ       ADJ       \n",
            "dog        NN       NOUN      \n"
          ]
        }
      ],
      "source": [
        "\n",
        "# TODO: Process the same sentence with SpaCy\n",
        "# Hint: Use nlp(sentence) and access .text and .pos_ attributes\n",
        "doc = nlp(\"The quick brown fox jumps over the lazy dog\")\n",
        "\n",
        "print(\"SpaCy POS Tags:\")\n",
        "for token in doc:\n",
        "    print(f\"  {token.text:8} -> {token.pos_:6} ({token.tag_})\")\n",
        "\n",
        "print(\"\\n\" + \"=\"*50)\n",
        "print(\"COMPARISON:\")\n",
        "print(\"=\"*50)\n",
        "\n",
        "# Let's compare side by side\n",
        "nltk_tags = nltk.pos_tag(nltk.word_tokenize(sentence))\n",
        "spacy_doc = nlp(sentence)\n",
        "\n",
        "print(f\"{'Word':10} {'NLTK':8} {'SpaCy':10}\")\n",
        "print(\"-\" * 30)\n",
        "for i, (word, nltk_tag) in enumerate(nltk_tags):\n",
        "    spacy_tag = spacy_doc[i].pos_\n",
        "    print(f\"{word:10} {nltk_tag:8} {spacy_tag:10}\")\n"
      ]
    },
    {
      "cell_type": "markdown",
      "id": "889c2fcc",
      "metadata": {
        "id": "889c2fcc"
      },
      "source": [
        "\n",
        "### 🎯 Discussion Points:\n",
        "- Which tags are easier to understand: NLTK's or SpaCy's? I feel the spaCy tagger is easier to understand because it actually states out the part of speech\n",
        "- Do you notice any differences in how they tag the same words? \n",
        "- Which system would you prefer for a beginner? Why? The spaCy tagger is better for beginners the tags are more clear\n"
      ]
    },
    {
      "cell_type": "markdown",
      "id": "1d773576",
      "metadata": {
        "id": "1d773576"
      },
      "source": [
        "\n",
        "## 🎭 Activity 3: The Ambiguity Challenge (15 minutes)\n",
        "\n",
        "Here's where things get interesting! Many words can be different parts of speech depending on context. Let's explore this with some tricky examples.\n"
      ]
    },
    {
      "cell_type": "code",
      "execution_count": 10,
      "id": "4de9076f",
      "metadata": {
        "id": "4de9076f"
      },
      "outputs": [
        {
          "name": "stdout",
          "output_type": "stream",
          "text": [
            "🎭 AMBIGUITY EXPLORATION\n",
            "========================================\n",
            "\n",
            "Sentence: I will lead the team to victory.\n",
            "  🎯 'lead' is tagged as: VB\n",
            "\n",
            "Sentence: The lead pipe is heavy.\n",
            "  🎯 'lead' is tagged as: NN\n",
            "\n",
            "Sentence: She took the lead in the race.\n",
            "  🎯 'lead' is tagged as: NN\n",
            "\n",
            "Sentence: The bank approved my loan.\n",
            "  🎯 'bank' is tagged as: NN\n",
            "\n",
            "Sentence: We sat by the river bank.\n",
            "  🎯 'bank' is tagged as: NN\n",
            "\n",
            "Sentence: I bank with Chase.\n",
            "  🎯 'bank' is tagged as: NN\n"
          ]
        }
      ],
      "source": [
        "\n",
        "# Ambiguous words in different contexts\n",
        "ambiguous_sentences = [\n",
        "    \"I will lead the team to victory.\",           # lead = verb\n",
        "    \"The lead pipe is heavy.\",                    # lead = noun (metal)\n",
        "    \"She took the lead in the race.\",            # lead = noun (position)\n",
        "    \"The bank approved my loan.\",                # bank = noun (financial)\n",
        "    \"We sat by the river bank.\",                 # bank = noun (shore)\n",
        "    \"I bank with Chase.\",                        # bank = verb\n",
        "]\n",
        "\n",
        "print(\"🎭 AMBIGUITY EXPLORATION\")\n",
        "print(\"=\" * 40)\n",
        "\n",
        "for sentence in ambiguous_sentences:\n",
        "    print(f\"\\nSentence: {sentence}\")\n",
        "\n",
        "    # TODO: Tag each sentence and find the ambiguous word\n",
        "    # Focus on 'lead' and 'bank' - what tags do they get?\n",
        "    tokens = nltk.word_tokenize(sentence)\n",
        "    tags = nltk.pos_tag(tokens)\n",
        "\n",
        "    # Find and highlight the key word\n",
        "    for word, tag in tags:\n",
        "        if word.lower() in ['lead', 'bank']:\n",
        "            print(f\"  🎯 '{word}' is tagged as: {tag}\")\n"
      ]
    },
    {
      "cell_type": "markdown",
      "id": "b299cc67",
      "metadata": {
        "id": "b299cc67"
      },
      "source": [
        "\n",
        "### 🧠 Think About It:\n",
        "1. How does the computer know the difference between \"lead\" (metal) and \"lead\" (guide)?\n",
        "2. What clues in the sentence help determine the correct part of speech?\n",
        "3. Can you think of other words that change meaning based on context?\n",
        "\n",
        "**Try This**: Add your own ambiguous sentences to the list above and see how the tagger handles them!\n"
      ]
    },
    {
      "cell_type": "markdown",
      "id": "cd61b43a",
      "metadata": {
        "id": "cd61b43a"
      },
      "source": [
        "\n",
        "## 📊 Activity 4: Tag Set Showdown (10 minutes)\n",
        "\n",
        "NLTK can use different tag sets. Let's compare the detailed Penn Treebank tags (~45 tags) with the simpler Universal Dependencies tags (~17 tags).\n"
      ]
    },
    {
      "cell_type": "code",
      "execution_count": 11,
      "id": "9fd01009",
      "metadata": {
        "id": "9fd01009"
      },
      "outputs": [
        {
          "name": "stdout",
          "output_type": "stream",
          "text": [
            "TAG SET COMPARISON\n",
            "==================================================\n",
            "Word            Penn Treebank   Universal \n",
            "--------------------------------------------------\n",
            "I               PRP             PRON      \n",
            "bank            NN              NOUN      \n",
            "with            IN              ADP       \n",
            "Chase           NNP             NOUN      \n",
            ".               .               .         \n",
            "\n",
            "📊 Penn Treebank uses 5 different tags\n",
            "📊 Universal uses 4 different tags\n"
          ]
        }
      ],
      "source": [
        "\n",
        "# Compare different tag sets\n",
        "test_sentence = \"The brilliant students quickly solved the challenging programming assignment.\"\n",
        "\n",
        "# TODO: Get tags using both Penn Treebank and Universal tagsets\n",
        "# Hint: Use tagset='universal' parameter for universal tags\n",
        "penn_tags = nltk.pos_tag(tokens)\n",
        "universal_tags = nltk.pos_tag(tokens, tagset='universal')\n",
        "\n",
        "print(\"TAG SET COMPARISON\")\n",
        "print(\"=\" * 50)\n",
        "print(f\"{'Word':15} {'Penn Treebank':15} {'Universal':10}\")\n",
        "print(\"-\" * 50)\n",
        "\n",
        "# TODO: Print comparison table\n",
        "# Hint: Zip the two tag lists together\n",
        "for ((word, penn_tag), (_, univ_tag)) in zip(penn_tags, universal_tags):\n",
        "    print(f\"{word:15} {penn_tag:15} {univ_tag:10}\")\n",
        "\n",
        "# Let's also visualize the tag distribution\n",
        "penn_tag_counts = Counter([tag for word, tag in penn_tags])\n",
        "univ_tag_counts = Counter([tag for word, tag in universal_tags])\n",
        "\n",
        "print(f\"\\n📊 Penn Treebank uses {len(penn_tag_counts)} different tags\")\n",
        "print(f\"📊 Universal uses {len(univ_tag_counts)} different tags\")\n"
      ]
    },
    {
      "cell_type": "markdown",
      "id": "2fab1efe",
      "metadata": {
        "id": "2fab1efe"
      },
      "source": [
        "\n",
        "### 🤔 Reflection Questions:\n",
        "1. Which tag set is more detailed? Which is simpler? Enter your answer below\n",
        "The Penn Treebank tag set is more detailed and was developed for linguistic precision, the Penn Treebank tagset contains 36+ tags. It includes granular distinctions between parts of speech.  For example, under nouns, there's NN (singular), NNS (plural), NNP (proper noun), NNPS (plural proper noun). On the other hand, The Universal tag set is simpler and designed for cross-linguistic consistency and simplicity. This one contains only 12 categories\n",
        "2. When might you want detailed tags vs. simple tags? Enter your answer below\n",
        "we might want detailed tags (like the Penn Treebank tagset) when we're working on tasks that require precise grammatical distinctions; such as syntactic parsing, grammar correction, linguistic analysis, or granular information extraction. For example, distinguishing between different verb tenses (VBD vs. VBG) or singular vs. plural nouns (NN vs. NNS) is important in these cases. On the other hand, simple tags (like the the Universal tagset) are more useful when we're building applications that focus on general language understanding rather than detailed grammar; such as text classification, sentiment analysis, named entity recognition, or cross-lingual NLP. These tags are easier to interpret, faster to work with, and better suited for multilingual or resource-constrained settings where detailed syntactic distinctions are not critical.\n",
        "3. If you were building a search engine, which would you choose? Why? Enter your answer below\n",
        "If I were building a search engine, I would choose the Universal POS tagset over the Penn Treebank tagset. This is because the universal tags are simpler and faster, good enough for relevance and has less complexity in feature engineering.\n",
        "---\n"
      ]
    },
    {
      "cell_type": "markdown",
      "id": "e2e2ce7d",
      "metadata": {
        "id": "e2e2ce7d"
      },
      "source": [
        "\n",
        "---\n",
        "# 🎓 End of Part 1: In-Class Exercise\n",
        "\n",
        "Great work! You've learned the fundamentals of POS tagging and gotten hands-on experience with both NLTK and SpaCy.\n",
        "\n",
        "## What You've Accomplished:\n",
        "✅ Used NLTK and SpaCy for basic POS tagging  \n",
        "✅ Interpreted different tag systems  \n",
        "✅ Explored word ambiguity and context  \n",
        "✅ Compared different tagging approaches  \n",
        "\n",
        "## 🏠 Ready for Part 2?\n",
        "The homework lab will challenge you with real-world applications, messy data, and advanced techniques. You'll analyze customer service transcripts, handle informal language, and benchmark different taggers.\n",
        "\n",
        "**Take a break, then dive into Part 2 when you're ready!**\n",
        "\n",
        "---\n"
      ]
    },
    {
      "cell_type": "markdown",
      "id": "571e9ac8",
      "metadata": {
        "id": "571e9ac8"
      },
      "source": [
        "\n",
        "# 🏠 PART 2: HOMEWORK LAB\n",
        "## Real-World POS Tagging Challenges\n",
        "\n",
        "Welcome to the advanced section! Here you'll tackle the messy, complex world of real text data. This is where POS tagging gets interesting (and challenging)!\n",
        "\n",
        "## Learning Goals for Part 2:\n",
        "1. Process real-world, messy text data\n",
        "2. Handle speech transcripts and informal language\n",
        "3. Analyze customer service scenarios\n",
        "4. Benchmark and compare different taggers\n",
        "5. Understand limitations and edge cases\n",
        "\n",
        "## 📋 Submission Requirements:\n",
        "- Complete all exercises with working code\n",
        "- Answer all reflection questions\n",
        "- Include at least one visualization\n",
        "- Submit your completed notebook file\n",
        "\n",
        "---\n"
      ]
    },
    {
      "cell_type": "markdown",
      "id": "15ae7ff1",
      "metadata": {
        "id": "15ae7ff1"
      },
      "source": [
        "\n",
        "## 🌍 Lab Exercise 1: Messy Text Challenge (25 minutes)\n",
        "\n",
        "Real-world text is nothing like textbook examples! Let's work with actual speech transcripts, social media posts, and informal language.\n"
      ]
    },
    {
      "cell_type": "code",
      "execution_count": 12,
      "id": "cacc5fe7",
      "metadata": {
        "id": "cacc5fe7"
      },
      "outputs": [
        {
          "name": "stdout",
          "output_type": "stream",
          "text": [
            "🔍 PROCESSING MESSY TEXT\n",
            "============================================================\n",
            "\n",
            "📝 Sample 1: Um, so like, I was gonna say that, uh, the system ain't working right, you know?\n",
            "----------------------------------------\n",
            "NLTK problematic words: []\n",
            "SpaCy problematic words: []\n",
            "NLTK success rate: 100.0%\n",
            "SpaCy success rate: 100.0%\n",
            "\n",
            "📝 Sample 2: OMG this app is sooo buggy rn 😤 cant even login smh\n",
            "----------------------------------------\n",
            "NLTK problematic words: ['rn', 'smh']\n",
            "SpaCy problematic words: []\n",
            "NLTK success rate: 83.3%\n",
            "SpaCy success rate: 100.0%\n",
            "\n",
            "📝 Sample 3: Yeah hi um I'm calling because my internet's been down since like yesterday and I've tried unplugging the router thingy but it's still not working\n",
            "----------------------------------------\n",
            "NLTK problematic words: ['thingy']\n",
            "SpaCy problematic words: []\n",
            "NLTK success rate: 96.6%\n",
            "SpaCy success rate: 100.0%\n",
            "\n",
            "📝 Sample 4: Y'all better fix this ASAP cuz I'm bout to switch providers fr fr\n",
            "----------------------------------------\n",
            "NLTK problematic words: ['cuz', 'fr']\n",
            "SpaCy problematic words: []\n",
            "NLTK success rate: 85.7%\n",
            "SpaCy success rate: 100.0%\n",
            "\n",
            "📝 Sample 5: The API endpoint is returning a 500 error but idk why it's happening tbh\n",
            "----------------------------------------\n",
            "NLTK problematic words: ['tbh']\n",
            "SpaCy problematic words: []\n",
            "NLTK success rate: 93.3%\n",
            "SpaCy success rate: 100.0%\n"
          ]
        }
      ],
      "source": [
        "\n",
        "# Real-world messy text samples\n",
        "messy_texts = [\n",
        "    # Speech transcript with disfluencies\n",
        "    \"Um, so like, I was gonna say that, uh, the system ain't working right, you know?\",\n",
        "\n",
        "    # Social media style\n",
        "    \"OMG this app is sooo buggy rn 😤 cant even login smh\",\n",
        "\n",
        "    # Customer service transcript\n",
        "    \"Yeah hi um I'm calling because my internet's been down since like yesterday and I've tried unplugging the router thingy but it's still not working\",\n",
        "\n",
        "    # Informal contractions and slang\n",
        "    \"Y'all better fix this ASAP cuz I'm bout to switch providers fr fr\",\n",
        "\n",
        "    # Technical jargon mixed with casual speech\n",
        "    \"The API endpoint is returning a 500 error but idk why it's happening tbh\"\n",
        "]\n",
        "\n",
        "print(\"🔍 PROCESSING MESSY TEXT\")\n",
        "print(\"=\" * 60)\n",
        "\n",
        "# TODO: Process each messy text sample\n",
        "# 1. Use both NLTK and SpaCy\n",
        "# 2. Count how many words each tagger fails to recognize properly\n",
        "# 3. Identify problematic words (slang, contractions, etc.)\n",
        "\n",
        "for i, text in enumerate(messy_texts, 1):\n",
        "    print(f\"\\n📝 Sample {i}: {text}\")\n",
        "    print(\"-\" * 40)\n",
        "\n",
        "    # NLTK processing\n",
        "    nltk_tokens = nltk.word_tokenize(text)\n",
        "    nltk_tags = nltk.pos_tag(nltk_tokens)\n",
        "\n",
        "    # TODO: SpaCy processing\n",
        "    spacy_doc = nlp(text)\n",
        "\n",
        "    # TODO: Find problematic words (tagged as 'X' or unknown)\n",
        "    problematic_nltk = [word for word, tag in nltk_tags if tag == 'NN' and word.lower() in [\"um\", \"uh\", \"rn\", \"idk\", \"tbh\", \"fr\", \"smh\", \"aint\", \"cuz\", \"bout\", \"thingy\"]]\n",
        "    problematic_spacy = [token.text for token in spacy_doc if token.pos_ == 'X']\n",
        "\n",
        "    print(f\"NLTK problematic words: {problematic_nltk}\")\n",
        "    print(f\"SpaCy problematic words: {problematic_spacy}\")\n",
        "\n",
        "    # TODO: Calculate success rate\n",
        "    nltk_success_rate = 1 - (len(problematic_nltk) / len(nltk_tokens))\n",
        "    spacy_success_rate = 1 - (len(problematic_spacy) / len(spacy_doc))\n",
        "\n",
        "    print(f\"NLTK success rate: {nltk_success_rate:.1%}\")\n",
        "    print(f\"SpaCy success rate: {spacy_success_rate:.1%}\")\n"
      ]
    },
    {
      "cell_type": "markdown",
      "id": "35a387a8",
      "metadata": {
        "id": "35a387a8"
      },
      "source": [
        "\n",
        "### 🎯 Analysis Questions:\n",
        "1. Which tagger handles informal language better?\n",
        "2. What types of words cause the most problems?\n",
        "3. How might you preprocess text to improve tagging accuracy?\n",
        "4. What are the implications for real-world applications?\n"
      ]
    },
    {
      "cell_type": "markdown",
      "id": "966c3a77",
      "metadata": {
        "id": "966c3a77"
      },
      "source": [
        "\n",
        "## 📞 Lab Exercise 2: Customer Service Analysis Case Study (30 minutes)\n",
        "\n",
        "You're working for a tech company that receives thousands of customer service calls daily. Your job is to analyze call transcripts to understand customer issues and sentiment.\n",
        "\n",
        "**Business Goal**: Automatically categorize customer problems and identify emotional language.\n"
      ]
    },
    {
      "cell_type": "code",
      "execution_count": 17,
      "id": "c7a5ed54",
      "metadata": {
        "id": "c7a5ed54"
      },
      "outputs": [
        {
          "name": "stdout",
          "output_type": "stream",
          "text": [
            "\n",
            "🎧 Analyzing CALL_001\n",
            "Category: account_access\n",
            "Transcript: Hi, I'm really frustrated because my account got locked and I can't access my files. I've been trying for hours and nothing works. This is completely unacceptable.\n",
            "--------------------------------------------------\n",
            "Emotional adjectives: ['frustrated', 'unacceptable']\n",
            "Action verbs: ['lock', 'access', 'try', 'work']\n",
            "Problem nouns: ['account', 'files', 'hours']\n",
            "Sentiment score: -3\n",
            "\n",
            "🎧 Analyzing CALL_002\n",
            "Category: technical_issue\n",
            "Transcript: Hello, I love your service but I'm having a small issue with the mobile app. It crashes whenever I try to upload photos. Could you please help me fix this?\n",
            "--------------------------------------------------\n",
            "Emotional adjectives: []\n",
            "Action verbs: ['love', 'have', 'crash', 'try', 'upload', 'help', 'fix']\n",
            "Problem nouns: ['service', 'issue', 'app', 'photos']\n",
            "Sentiment score: 0\n",
            "\n",
            "🎧 Analyzing CALL_003\n",
            "Category: billing\n",
            "Transcript: Your billing system charged me twice this month! I want a refund immediately. This is ridiculous and I'm considering canceling my subscription.\n",
            "--------------------------------------------------\n",
            "Emotional adjectives: ['ridiculous']\n",
            "Action verbs: ['charge', 'want', 'consider', 'cancel']\n",
            "Problem nouns: ['billing', 'system', 'month', 'refund', 'subscription']\n",
            "Sentiment score: -1\n",
            "\n",
            "🎧 Analyzing CALL_004\n",
            "Category: user_guidance\n",
            "Transcript: I'm confused about how to use the new features you added. The interface changed and I can't find anything. Can someone walk me through it?\n",
            "--------------------------------------------------\n",
            "Emotional adjectives: ['confused']\n",
            "Action verbs: ['use', 'add', 'change', 'find', 'walk']\n",
            "Problem nouns: ['features', 'interface']\n",
            "Sentiment score: -1\n"
          ]
        }
      ],
      "source": [
        "\n",
        "# Simulated customer service call transcripts\n",
        "customer_transcripts = [\n",
        "    {\n",
        "        'id': 'CALL_001',\n",
        "        'transcript': \"Hi, I'm really frustrated because my account got locked and I can't access my files. I've been trying for hours and nothing works. This is completely unacceptable.\",\n",
        "        'category': 'account_access'\n",
        "    },\n",
        "    {\n",
        "        'id': 'CALL_002',\n",
        "        'transcript': \"Hello, I love your service but I'm having a small issue with the mobile app. It crashes whenever I try to upload photos. Could you please help me fix this?\",\n",
        "        'category': 'technical_issue'\n",
        "    },\n",
        "    {\n",
        "        'id': 'CALL_003',\n",
        "        'transcript': \"Your billing system charged me twice this month! I want a refund immediately. This is ridiculous and I'm considering canceling my subscription.\",\n",
        "        'category': 'billing'\n",
        "    },\n",
        "    {\n",
        "        'id': 'CALL_004',\n",
        "        'transcript': \"I'm confused about how to use the new features you added. The interface changed and I can't find anything. Can someone walk me through it?\",\n",
        "        'category': 'user_guidance'\n",
        "    }\n",
        "]\n",
        "\n",
        "# TODO: Analyze each transcript for:\n",
        "# 1. Emotional language (adjectives that indicate sentiment)\n",
        "# 2. Action words (verbs that indicate what customer wants)\n",
        "# 3. Problem indicators (nouns related to issues)\n",
        "\n",
        "# Define sentiment word lexicons\n",
        "positive_lexicon = {\"love\", \"great\", \"good\", \"excellent\", \"helpful\", \"like\"}\n",
        "negative_lexicon = {\"frustrated\", \"ridiculous\", \"unacceptable\", \"angry\", \"bad\", \"hate\", \"locked\", \"confused\", \"issue\"}\n",
        "\n",
        "urgency_lexicon = {\"immediately\", \"asap\", \"urgent\", \"now\", \"right away\"}\n",
        "\n",
        "\n",
        "analysis_results = []\n",
        "\n",
        "for call in customer_transcripts:\n",
        "    print(f\"\\n🎧 Analyzing {call['id']}\")\n",
        "    print(f\"Category: {call['category']}\")\n",
        "    print(f\"Transcript: {call['transcript']}\")\n",
        "    print(\"-\" * 50)\n",
        "\n",
        "    # TODO: Process with SpaCy (it's better for this task)\n",
        "    doc = nlp(call['transcript'])\n",
        "\n",
        "    # TODO: Extract different types of words\n",
        "    emotional_adjectives = [token.text for token in doc if token.pos_ == \"ADJ\" and token.text.lower() in negative_lexicon.union(positive_lexicon)]\n",
        "    action_verbs = [token.lemma_ for token in doc if token.pos_ == \"VERB\"]\n",
        "    problem_nouns = [token.text for token in doc if token.pos_ == \"NOUN\" and token.text.lower() in call['transcript'].lower()]\n",
        "\n",
        "    # TODO: Calculate sentiment indicators\n",
        "    positive_words = [token.text for token in doc if token.text.lower() in positive_lexicon]\n",
        "    negative_words = [token.text for token in doc if token.text.lower() in negative_lexicon]\n",
        "\n",
        "    result = {\n",
        "        'call_id': call['id'],\n",
        "        'category': call['category'],\n",
        "        'emotional_adjectives': emotional_adjectives,\n",
        "        'action_verbs': action_verbs,\n",
        "        'problem_nouns': problem_nouns,\n",
        "        'sentiment_score': len(positive_words) - len(negative_words),\n",
        "        'urgency_indicators': len([token.text for token in doc if token.text.lower() in urgency_lexicon])\n",
        "    }\n",
        "\n",
        "    analysis_results.append(result)\n",
        "\n",
        "    print(f\"Emotional adjectives: {emotional_adjectives}\")\n",
        "    print(f\"Action verbs: {action_verbs}\")\n",
        "    print(f\"Problem nouns: {problem_nouns}\")\n",
        "    print(f\"Sentiment score: {result['sentiment_score']}\")\n"
      ]
    },
    {
      "cell_type": "code",
      "execution_count": 18,
      "id": "6db420ac",
      "metadata": {
        "id": "6db420ac"
      },
      "outputs": [
        {
          "data": {
            "image/png": "[encoded data removed]",
            "text/plain": [
              "<Figure size 1500x1000 with 4 Axes>"
            ]
          },
          "metadata": {},
          "output_type": "display_data"
        }
      ],
      "source": [
        "\n",
        "# TODO: Create a summary visualization\n",
        "# Hint: Use matplotlib or seaborn to create charts\n",
        "\n",
        "import matplotlib.pyplot as plt\n",
        "import pandas as pd\n",
        "\n",
        "# Convert results to DataFrame for easier analysis\n",
        "df = pd.DataFrame(analysis_results)\n",
        "\n",
        "# TODO: Create visualizations\n",
        "# 1. Sentiment scores by category\n",
        "# 2. Most common emotional adjectives\n",
        "# 3. Action verbs frequency\n",
        "\n",
        "fig, axes = plt.subplots(2, 2, figsize=(15, 10))\n",
        "\n",
        "# TODO: Plot 1 - Sentiment by category\n",
        "# YOUR CODE HERE\n",
        "\n",
        "# TODO: Plot 2 - Word frequency analysis\n",
        "# YOUR CODE HERE\n",
        "\n",
        "# TODO: Plot 3 - Problem categorization\n",
        "# YOUR CODE HERE\n",
        "\n",
        "# TODO: Plot 4 - Urgency analysis\n",
        "# YOUR CODE HERE\n",
        "\n",
        "plt.tight_layout()\n",
        "plt.show()\n"
      ]
    },
    {
      "cell_type": "markdown",
      "id": "8c9a271c",
      "metadata": {
        "id": "8c9a271c"
      },
      "source": [
        "\n",
        "### 💼 Business Impact Questions:\n",
        "1. How could this analysis help prioritize customer service tickets?\n",
        "2. What patterns do you notice in different problem categories?\n",
        "3. How might you automate the routing of calls based on POS analysis?\n",
        "4. What are the limitations of this approach?\n"
      ]
    },
    {
      "cell_type": "markdown",
      "id": "22733d79",
      "metadata": {
        "id": "22733d79"
      },
      "source": [
        "\n",
        "## ⚡ Lab Exercise 3: Tagger Performance Benchmarking (20 minutes)\n",
        "\n",
        "Let's scientifically compare different POS taggers on various types of text. This will help you understand when to use which tool.\n"
      ]
    },
    {
      "cell_type": "code",
      "execution_count": 20,
      "id": "39ac25fc",
      "metadata": {
        "id": "39ac25fc"
      },
      "outputs": [
        {
          "name": "stdout",
          "output_type": "stream",
          "text": [
            "\n",
            "🧪 Testing FORMAL text:\n",
            "Text: The research methodology employed in this study follows established academic protocols.\n",
            "------------------------------------------------------------\n",
            "NLTK Penn time: 0.0577s\n",
            "NLTK Univ time: 0.0025s\n",
            "SpaCy time: 0.0638s\n",
            "NLTK unknown words: 0\n",
            "SpaCy unknown words: 0\n",
            "\n",
            "🧪 Testing INFORMAL text:\n",
            "Text: lol this study is kinda weird but whatever works i guess 🤷‍♀️\n",
            "------------------------------------------------------------\n",
            "NLTK Penn time: 0.0280s\n",
            "NLTK Univ time: 0.0020s\n",
            "SpaCy time: 0.0321s\n",
            "NLTK unknown words: 0\n",
            "SpaCy unknown words: 0\n",
            "\n",
            "🧪 Testing TECHNICAL text:\n",
            "Text: The API returns a JSON response with HTTP status code 200 upon successful authentication.\n",
            "------------------------------------------------------------\n",
            "NLTK Penn time: 0.0093s\n",
            "NLTK Univ time: 0.0000s\n",
            "SpaCy time: 0.0208s\n",
            "NLTK unknown words: 0\n",
            "SpaCy unknown words: 0\n",
            "\n",
            "🧪 Testing CONVERSATIONAL text:\n",
            "Text: So like, when you click that button thingy, it should totally work, right?\n",
            "------------------------------------------------------------\n",
            "NLTK Penn time: 0.0128s\n",
            "NLTK Univ time: 0.0020s\n",
            "SpaCy time: 0.0247s\n",
            "NLTK unknown words: 0\n",
            "SpaCy unknown words: 0\n",
            "\n",
            "🧪 Testing MIXED text:\n",
            "Text: OMG the algorithm's performance is absolutely terrible! The accuracy dropped to 23% wtf\n",
            "------------------------------------------------------------\n",
            "NLTK Penn time: 0.0429s\n",
            "NLTK Univ time: 0.0030s\n",
            "SpaCy time: 0.0368s\n",
            "NLTK unknown words: 0\n",
            "SpaCy unknown words: 0\n"
          ]
        },
        {
          "data": {
            "image/png": "[encoded data removed]",
            "text/plain": [
              "<Figure size 1200x600 with 1 Axes>"
            ]
          },
          "metadata": {},
          "output_type": "display_data"
        },
        {
          "data": {
            "image/png": "[encoded data removed]",
            "text/plain": [
              "<Figure size 1200x600 with 1 Axes>"
            ]
          },
          "metadata": {},
          "output_type": "display_data"
        }
      ],
      "source": [
        "\n",
        "import time\n",
        "from collections import defaultdict\n",
        "\n",
        "# Different text types for testing\n",
        "test_texts = {\n",
        "    'formal': \"The research methodology employed in this study follows established academic protocols.\",\n",
        "    'informal': \"lol this study is kinda weird but whatever works i guess 🤷‍♀️\",\n",
        "    'technical': \"The API returns a JSON response with HTTP status code 200 upon successful authentication.\",\n",
        "    'conversational': \"So like, when you click that button thingy, it should totally work, right?\",\n",
        "    'mixed': \"OMG the algorithm's performance is absolutely terrible! The accuracy dropped to 23% wtf\"\n",
        "}\n",
        "\n",
        "# TODO: Benchmark different taggers\n",
        "# Test: NLTK Penn Treebank, NLTK Universal, SpaCy\n",
        "# Metrics: Speed, tag consistency, handling of unknown words\n",
        "\n",
        "benchmark_results = defaultdict(list)\n",
        "\n",
        "for text_type, text in test_texts.items():\n",
        "    print(f\"\\n🧪 Testing {text_type.upper()} text:\")\n",
        "    print(f\"Text: {text}\")\n",
        "    print(\"-\" * 60)\n",
        "\n",
        "    # TODO: NLTK Penn Treebank timing\n",
        "    start_time = time.time()\n",
        "    nltk_tokens = nltk.word_tokenize(text)\n",
        "    nltk_penn_tags = nltk.pos_tag(nltk_tokens)\n",
        "    nltk_penn_time = time.time() - start_time\n",
        "\n",
        "    # TODO: NLTK Universal timing\n",
        "    start_time = time.time()\n",
        "    nltk_univ_tags = nltk.pos_tag(nltk_tokens, tagset='universal')\n",
        "    nltk_univ_time = time.time() - start_time\n",
        "\n",
        "    # TODO: SpaCy timing\n",
        "    start_time = time.time()\n",
        "    spacy_doc = nlp(text)\n",
        "    spacy_time = time.time() - start_time\n",
        "\n",
        "    # TODO: Count unknown/problematic tags\n",
        "    nltk_unknown = sum(1 for word, tag in nltk_univ_tags if tag == 'X')\n",
        "    spacy_unknown = sum(1 for token in spacy_doc if token.pos_ == 'X')\n",
        "\n",
        "    # Store results\n",
        "    benchmark_results[text_type] = {\n",
        "        'nltk_penn_time': nltk_penn_time,\n",
        "        'nltk_univ_time': nltk_univ_time,\n",
        "        'spacy_time': spacy_time,\n",
        "        'nltk_unknown': nltk_unknown,\n",
        "        'spacy_unknown': spacy_unknown\n",
        "    }\n",
        "\n",
        "    print(f\"NLTK Penn time: {nltk_penn_time:.4f}s\")\n",
        "    print(f\"NLTK Univ time: {nltk_univ_time:.4f}s\")\n",
        "    print(f\"SpaCy time: {spacy_time:.4f}s\")\n",
        "    print(f\"NLTK unknown words: {nltk_unknown}\")\n",
        "    print(f\"SpaCy unknown words: {spacy_unknown}\")\n",
        "\n",
        "# TODO: Create performance comparison visualization\n",
        "\n",
        "# Convert to DataFrame\n",
        "df = pd.DataFrame.from_dict(benchmark_results, orient='index')\n",
        "\n",
        "# Plot timing\n",
        "df[['nltk_penn_time', 'nltk_univ_time', 'spacy_time']].plot(kind='bar', figsize=(12, 6))\n",
        "plt.title('Tagging Time Comparison by Text Type')\n",
        "plt.ylabel('Time (seconds)')\n",
        "plt.xlabel('Text Type')\n",
        "plt.xticks(rotation=45)\n",
        "plt.tight_layout()\n",
        "plt.show()\n",
        "\n",
        "# Plot unknown tags\n",
        "df[['nltk_unknown', 'spacy_unknown']].plot(kind='bar', figsize=(12, 6), color=['orange', 'red'])\n",
        "plt.title('Unknown/Problematic Tags by Tagger')\n",
        "plt.ylabel('Count')\n",
        "plt.xlabel('Text Type')\n",
        "plt.xticks(rotation=45)\n",
        "plt.tight_layout()\n",
        "plt.show()\n",
        "\n"
      ]
    },
    {
      "cell_type": "markdown",
      "id": "a656d62d",
      "metadata": {
        "id": "a656d62d"
      },
      "source": [
        "\n",
        "### 📊 Performance Analysis:\n",
        "1. Which tagger is fastest? Does speed matter for your use case?\n",
        "2. Which handles informal text best?\n",
        "3. How do the taggers compare on technical jargon?\n",
        "4. What trade-offs do you see between speed and accuracy?\n"
      ]
    },
    {
      "cell_type": "markdown",
      "id": "08244956",
      "metadata": {
        "id": "08244956"
      },
      "source": [
        "\n",
        "## 🚨 Lab Exercise 4: Edge Cases and Error Analysis (15 minutes)\n",
        "\n",
        "Every system has limitations. Let's explore the edge cases where POS taggers struggle and understand why.\n"
      ]
    },
    {
      "cell_type": "code",
      "execution_count": 22,
      "id": "b5e4119e",
      "metadata": {
        "id": "b5e4119e"
      },
      "outputs": [
        {
          "name": "stdout",
          "output_type": "stream",
          "text": [
            "🚨 EDGE CASE ANALYSIS\n",
            "==================================================\n",
            "\n",
            "🔍 Edge Case 1:\n",
            "Text: Buffalo buffalo Buffalo buffalo buffalo buffalo Buffalo buffalo.\n",
            "------------------------------\n",
            "NLTK tags: [('OMG', 'IN'), ('the', 'DT'), ('algorithm', 'NN'), (\"'s\", 'POS'), ('performance', 'NN'), ('is', 'VBZ'), ('absolutely', 'RB'), ('terrible', 'JJ'), ('!', '.'), ('The', 'DT'), ('accuracy', 'NN'), ('dropped', 'VBD'), ('to', 'TO'), ('23', 'CD'), ('%', 'NN'), ('wtf', 'NN')]\n",
            "SpaCy tags: [('Buffalo', 'PROPN'), ('buffalo', 'NOUN'), ('Buffalo', 'PROPN'), ('buffalo', 'PROPN'), ('buffalo', 'PROPN'), ('buffalo', 'PROPN'), ('Buffalo', 'PROPN'), ('buffalo', 'PROPN'), ('.', 'PUNCT')]\n",
            "\n",
            "🔍 Edge Case 2:\n",
            "Text: Time flies like an arrow; fruit flies like a banana.\n",
            "------------------------------\n",
            "NLTK tags: [('OMG', 'IN'), ('the', 'DT'), ('algorithm', 'NN'), (\"'s\", 'POS'), ('performance', 'NN'), ('is', 'VBZ'), ('absolutely', 'RB'), ('terrible', 'JJ'), ('!', '.'), ('The', 'DT'), ('accuracy', 'NN'), ('dropped', 'VBD'), ('to', 'TO'), ('23', 'CD'), ('%', 'NN'), ('wtf', 'NN')]\n",
            "SpaCy tags: [('Time', 'NOUN'), ('flies', 'VERB'), ('like', 'ADP'), ('an', 'DET'), ('arrow', 'NOUN'), (';', 'PUNCT'), ('fruit', 'NOUN'), ('flies', 'NOUN'), ('like', 'ADP'), ('a', 'DET'), ('banana', 'NOUN'), ('.', 'PUNCT')]\n",
            "\n",
            "🔍 Edge Case 3:\n",
            "Text: The man the boat the river.\n",
            "------------------------------\n",
            "NLTK tags: [('OMG', 'IN'), ('the', 'DT'), ('algorithm', 'NN'), (\"'s\", 'POS'), ('performance', 'NN'), ('is', 'VBZ'), ('absolutely', 'RB'), ('terrible', 'JJ'), ('!', '.'), ('The', 'DT'), ('accuracy', 'NN'), ('dropped', 'VBD'), ('to', 'TO'), ('23', 'CD'), ('%', 'NN'), ('wtf', 'NN')]\n",
            "SpaCy tags: [('The', 'DET'), ('man', 'NOUN'), ('the', 'DET'), ('boat', 'NOUN'), ('the', 'DET'), ('river', 'NOUN'), ('.', 'PUNCT')]\n",
            "\n",
            "🔍 Edge Case 4:\n",
            "Text: Police police Police police police police Police police.\n",
            "------------------------------\n",
            "NLTK tags: [('OMG', 'IN'), ('the', 'DT'), ('algorithm', 'NN'), (\"'s\", 'POS'), ('performance', 'NN'), ('is', 'VBZ'), ('absolutely', 'RB'), ('terrible', 'JJ'), ('!', '.'), ('The', 'DT'), ('accuracy', 'NN'), ('dropped', 'VBD'), ('to', 'TO'), ('23', 'CD'), ('%', 'NN'), ('wtf', 'NN')]\n",
            "SpaCy tags: [('Police', 'NOUN'), ('police', 'NOUN'), ('Police', 'NOUN'), ('police', 'NOUN'), ('police', 'NOUN'), ('police', 'NOUN'), ('Police', 'NOUN'), ('police', 'NOUN'), ('.', 'PUNCT')]\n",
            "\n",
            "🔍 Edge Case 5:\n",
            "Text: James while John had had had had had had had had had had had a better effect on the teacher.\n",
            "------------------------------\n",
            "NLTK tags: [('OMG', 'IN'), ('the', 'DT'), ('algorithm', 'NN'), (\"'s\", 'POS'), ('performance', 'NN'), ('is', 'VBZ'), ('absolutely', 'RB'), ('terrible', 'JJ'), ('!', '.'), ('The', 'DT'), ('accuracy', 'NN'), ('dropped', 'VBD'), ('to', 'TO'), ('23', 'CD'), ('%', 'NN'), ('wtf', 'NN')]\n",
            "SpaCy tags: [('James', 'PROPN'), ('while', 'SCONJ'), ('John', 'PROPN'), ('had', 'AUX'), ('had', 'AUX'), ('had', 'AUX'), ('had', 'AUX'), ('had', 'AUX'), ('had', 'AUX'), ('had', 'AUX'), ('had', 'AUX'), ('had', 'AUX'), ('had', 'AUX'), ('had', 'VERB'), ('a', 'DET'), ('better', 'ADJ'), ('effect', 'NOUN'), ('on', 'ADP'), ('the', 'DET'), ('teacher', 'NOUN'), ('.', 'PUNCT')]\n",
            "\n",
            "🔍 Edge Case 6:\n",
            "Text: Can can can can can can can can can can.\n",
            "------------------------------\n",
            "NLTK tags: [('OMG', 'IN'), ('the', 'DT'), ('algorithm', 'NN'), (\"'s\", 'POS'), ('performance', 'NN'), ('is', 'VBZ'), ('absolutely', 'RB'), ('terrible', 'JJ'), ('!', '.'), ('The', 'DT'), ('accuracy', 'NN'), ('dropped', 'VBD'), ('to', 'TO'), ('23', 'CD'), ('%', 'NN'), ('wtf', 'NN')]\n",
            "SpaCy tags: [('Can', 'AUX'), ('can', 'AUX'), ('can', 'AUX'), ('can', 'AUX'), ('can', 'AUX'), ('can', 'AUX'), ('can', 'AUX'), ('can', 'AUX'), ('can', 'AUX'), ('can', 'VERB'), ('.', 'PUNCT')]\n",
            "\n",
            "🔍 Edge Case 7:\n",
            "Text: @username #hashtag http://bit.ly/abc123 😂🔥💯\n",
            "------------------------------\n",
            "NLTK tags: [('OMG', 'IN'), ('the', 'DT'), ('algorithm', 'NN'), (\"'s\", 'POS'), ('performance', 'NN'), ('is', 'VBZ'), ('absolutely', 'RB'), ('terrible', 'JJ'), ('!', '.'), ('The', 'DT'), ('accuracy', 'NN'), ('dropped', 'VBD'), ('to', 'TO'), ('23', 'CD'), ('%', 'NN'), ('wtf', 'NN')]\n",
            "SpaCy tags: [('@username', 'PROPN'), ('#', 'SYM'), ('hashtag', 'NOUN'), ('http://bit.ly/abc123', 'NOUN'), ('😂', 'NOUN'), ('🔥', 'NOUN'), ('💯', 'ADV')]\n",
            "\n",
            "🔍 Edge Case 8:\n",
            "Text: COVID-19 AI/ML IoT APIs RESTful microservices\n",
            "------------------------------\n",
            "NLTK tags: [('OMG', 'IN'), ('the', 'DT'), ('algorithm', 'NN'), (\"'s\", 'POS'), ('performance', 'NN'), ('is', 'VBZ'), ('absolutely', 'RB'), ('terrible', 'JJ'), ('!', '.'), ('The', 'DT'), ('accuracy', 'NN'), ('dropped', 'VBD'), ('to', 'TO'), ('23', 'CD'), ('%', 'NN'), ('wtf', 'NN')]\n",
            "SpaCy tags: [('COVID-19', 'PROPN'), ('AI', 'PROPN'), ('/', 'SYM'), ('ML', 'PROPN'), ('IoT', 'ADJ'), ('APIs', 'NOUN'), ('RESTful', 'ADJ'), ('microservices', 'NOUN')]\n",
            "\n",
            "REFLECTION ON LIMITATIONS:\n",
            "========================================\n",
            "These edge cases demonstrate the limitations of rule-based and statistical taggers.\n",
            "- Ambiguous structures (e.g., 'Buffalo buffalo...') confuse both taggers, leading to repeated noun tags.\n",
            "- Garden path and recursive sentences break down grammatical assumptions.\n",
            "- SpaCy often tags unknown or out-of-vocabulary tokens (like emojis or hashtags) as 'X'.\n",
            "- Both taggers struggle with overlapping syntax roles (e.g., 'can' as verb vs. noun).\n",
            "This highlights the importance of context-aware, deep learning models like BERT for handling real-world linguistic complexity.\n"
          ]
        }
      ],
      "source": [
        "\n",
        "# Challenging edge cases\n",
        "edge_cases = [\n",
        "    \"Buffalo buffalo Buffalo buffalo buffalo buffalo Buffalo buffalo.\",  # Famous ambiguous sentence\n",
        "    \"Time flies like an arrow; fruit flies like a banana.\",              # Classic ambiguity\n",
        "    \"The man the boat the river.\",                                       # Garden path sentence\n",
        "    \"Police police Police police police police Police police.\",          # Recursive structure\n",
        "    \"James while John had had had had had had had had had had had a better effect on the teacher.\",  # Had had had...\n",
        "    \"Can can can can can can can can can can.\",                         # Modal/noun ambiguity\n",
        "    \"@username #hashtag http://bit.ly/abc123 😂🔥💯\",                   # Social media elements\n",
        "    \"COVID-19 AI/ML IoT APIs RESTful microservices\",                    # Modern technical terms\n",
        "]\n",
        "\n",
        "print(\"🚨 EDGE CASE ANALYSIS\")\n",
        "print(\"=\" * 50)\n",
        "\n",
        "# TODO: Process each edge case and analyze failures\n",
        "for i, text in enumerate(edge_cases, 1):\n",
        "    print(f\"\\n🔍 Edge Case {i}:\")\n",
        "    print(f\"Text: {text}\")\n",
        "    print(\"-\" * 30)\n",
        "\n",
        "    try:\n",
        "        # TODO: Process with both taggers\n",
        "        nltk_tags = nltk.pos_tag(nltk_tokens)\n",
        "        spacy_doc = nlp(text)\n",
        "\n",
        "        # TODO: Identify potential errors or weird tags\n",
        "        # Look for: repeated tags, unusual patterns, X tags, etc.\n",
        "\n",
        "        print(\"NLTK tags:\", [(w, t) for w, t in nltk_tags])\n",
        "        print(\"SpaCy tags:\", [(token.text, token.pos_) for token in spacy_doc])\n",
        "\n",
        "        # TODO: Analyze what went wrong\n",
        "        repeated_tags = [tag for _, tag in nltk_tags if nltk_tags.count((_, tag)) > 1]\n",
        "        spacy_x_tags = [token.text for token in spacy_doc if token.pos_ == 'X']\n",
        "        if repeated_tags:\n",
        "            print(f\"Repeated tags in NLTK: {set(repeated_tags)}\")\n",
        "        if spacy_x_tags:\n",
        "            print(f\"Unknown tags in SpaCy (X): {spacy_x_tags}\")\n",
        "\n",
        "    \n",
        "\n",
        "    except Exception as e:\n",
        "        print(f\"❌ Error processing: {e}\")\n",
        "\n",
        "# TODO: Reflection on limitations\n",
        "print(\"\\nREFLECTION ON LIMITATIONS:\")\n",
        "print(\"=\" * 40)\n",
        "print(\"These edge cases demonstrate the limitations of rule-based and statistical taggers.\")\n",
        "print(\"- Ambiguous structures (e.g., 'Buffalo buffalo...') confuse both taggers, leading to repeated noun tags.\")\n",
        "print(\"- Garden path and recursive sentences break down grammatical assumptions.\")\n",
        "print(\"- SpaCy often tags unknown or out-of-vocabulary tokens (like emojis or hashtags) as 'X'.\")\n",
        "print(\"- Both taggers struggle with overlapping syntax roles (e.g., 'can' as verb vs. noun).\")\n",
        "print(\"This highlights the importance of context-aware, deep learning models like BERT for handling real-world linguistic complexity.\")\n",
        "\n"
      ]
    },
    {
      "cell_type": "markdown",
      "id": "969fe260",
      "metadata": {
        "id": "969fe260"
      },
      "source": [
        "\n",
        "### 🧠 Critical Thinking Questions:\n",
        "Enter you asnwers below each question.\n",
        "1. Why do these edge cases break the taggers? These edge cases break taggers because they contain syntactic recursion or ambiguity, use uncommon or domain-specific words and rely on contextual or semantic understanding beyond surface grammar\n",
        "\n",
        "2. How might you preprocess text to handle some of these issues? To handle the challenges that edge cases pose for POS taggers, effective text preprocessing is essential. One key step is normalizing informal language, such as converting slang or abbreviations (e.g., \"omg\" → \"oh my god\") into their standard forms. This helps taggers trained on formal data better interpret the text. Cleaning non-linguistic elements like URLs, hashtags, mentions, and emojis also improves tagging accuracy, especially for social media or chat data. Lemmatization (reducing words to their base form) and lowercasing can reduce noise and improve consistency, though proper nouns and technical terms may need casing preserved.\n",
        "\n",
        "3. When would these limitations matter in real applications? these limitations of POS taggers become critical in real-world applications where accuracy, context, and nuance are essential for decision-making, user experience, or automation. For example, in chatbots and virtual assistants, misinterpreting a user's intent due to tagging errors can lead to irrelevant or frustrating responses. In customer service analytics, if emotional language like “frustrated” or “locked” is not correctly identified, systems may fail to prioritize urgent or negative cases. Similarly, in legal or medical NLP, tagging errors in complex sentences can misclassify key entities or actions, potentially leading to incorrect document summarization or information retrieval mistakes with high stakes.\n",
        "\n",
        "4. How do modern large language models handle these cases differently? Modern large language models (LLMs) like BERT, RoBERTa, and GPT handle these challenging linguistic cases far better than traditional POS taggers because they are context-aware, deeply pretrained, and semantically rich. Unlike earlier models that rely on shallow rules or fixed word-level statistics, LLMs use transformer architectures that consider the full sentence when interpreting each word, allowing them to disambiguate meaning based on context.\n",
        "\n",
        "---\n"
      ]
    },
    {
      "cell_type": "markdown",
      "id": "4aa06861",
      "metadata": {
        "id": "4aa06861"
      },
      "source": [
        "\n",
        "## 🎯 Final Reflection and Submission\n",
        "\n",
        "Congratulations! You've completed a comprehensive exploration of POS tagging, from basic concepts to real-world challenges.\n",
        "\n",
        "### 📝 Reflection Questions (Answer in the cell below):\n",
        "\n",
        "1. **Tool Comparison**: Based on your experience, when would you choose NLTK vs SpaCy? Consider factors like ease of use, accuracy, speed, and application type. \n",
        "\n",
        "2. **Real-World Applications**: Describe a specific business problem where POS tagging would be valuable. How would you implement it?\n",
        "\n",
        "3. **Limitations and Solutions**: What are the biggest limitations you discovered? How might you work around them?\n",
        "\n",
        "4. **Future Learning**: What aspects of POS tagging would you like to explore further? \n",
        "\n",
        "5. **Integration**: How does POS tagging fit into larger NLP pipelines? What other NLP tasks might benefit from POS information?\n",
        " \n",
        " "
      ]
    },
    {
      "cell_type": "markdown",
      "id": "b1c5480f",
      "metadata": {
        "id": "b1c5480f"
      },
      "source": [
        "\n",
        "### ✍️ Your Reflection (Write your answers here):\n",
        "**Remember Reflection is not description!**\n",
        "\n",
        "**1. Tool Comparison:**\n",
        "[LTK is Best for learning and experimentation. It provides fine-grained control over NLP components and a rich set of educational resources. However, it can feel fragmented and requires more manual setup for pipelines.\n",
        "SpaCy is designed for production and practical use. It offers a clean, consistent API with everything pre-integrated tokenization, POS tagging, dependency parsing, and named entity recognition (NER), making it faster to build usable pipelines.]\n",
        "\n",
        "**2. Real-World Applications:**\n",
        "[A specific business problem where Part-of-Speech (POS) tagging adds significant value is in automated customer feedback analysis for a large retail company.\n",
        "Retail companies recieve thousands of reveiws and chat transcripts, The company needs to understand customer sentiments, identify their most common satisfaction and pain points and work towards improving customer experience. These data is ridiculously large for human customer service reps to analyze, so that where POS tagging comes in. However, these texts are unstructured and vary in tone, grammar, and length. We could implement it by gathering customer reviews, support messages, and surveys. Then we clean, tokenize, and normalize the text (e.g., remove emojis, correct spelling). Finally we start tagging.]\n",
        "\n",
        "**3. Limitations and Solutions:**\n",
        "[POS tagger might struggle with ambiguity and context. (e.g, \"Flies\" can be verb or noun). Traditional taggers process text token by token and may not interpret full sentence structure or semantics accurately. Using contextual models like BERT-based POS taggers or incorporating dependency parsing to better understand grammatical relationships would be a workaround.\n",
        "\n",
        "Another thing is performance on noisy or informal text. Taggers trained on formal text (like news articles) often fail on slang, social media language, typos, or emojis, tagging unknown words as 'X' or misclassifying them.]\n",
        "\n",
        "**4. Future Learning:**\n",
        "[In future, I would like to explore the aspect of neural approaches towards POS tagging. This is because I would like to see how neural networks are used to improve this sytems for better accuracy and usability in real-world senarios.]\n",
        "\n",
        "**5. Integration:**\n",
        "[NLP Tasks That Benefit from POS Tagging are:\n",
        " -Named Entity Recognition: This helps distinguish names (NNP) from common nouns (NN)\n",
        " -Sentiment Analysis: This focuses on adjectives (JJ) and adverbs (RB) expressing opinion\n",
        " -Question Answering: Identifies question words (WP, WRB) and answer targets (NN)\n",
        " -Text Summarization: Prioritizes key nouns and verbs to retain core ideas\n",
        " -Intent Recognition (chatbots): This uses verb/adjective patterns to detect commands or requests.]\n"
      ]
    },
    {
      "cell_type": "markdown",
      "id": "e96f81e5",
      "metadata": {
        "id": "e96f81e5"
      },
      "source": [
        "\n",
        "---\n",
        "\n",
        "## 📤 Submission Checklist\n",
        "\n",
        "Before submitting your completed notebook, make sure you have:\n",
        "\n",
        "- [ ] ✅ Completed all TODO sections with working code\n",
        "- [ ] ✅ Answered all reflection questions thoughtfully\n",
        "- [ ] ✅ Created at least one meaningful visualization\n",
        "- [ ] ✅ Tested your code and fixed any errors\n",
        "- [ ] ✅ Added comments explaining your approach\n",
        "- [ ] ✅ Included insights from your analysis\n",
        "\n",
        "### 📋 Submission Instructions:\n",
        "1. **Save your notebook**: File → Save (or Ctrl+S)\n",
        "2. **Download**: File → Download → Download .ipynb\n",
        "3. **Submit**: Upload your completed notebook file to the course management system\n",
        "4. **Filename**: Use format: `L05_LastName_FirstName_ITAI2373.ipynb or pdf`  \n",
        "\n",
        "### 🏆 Grading Criteria:\n",
        "- **Code Completion (40%)**: All exercises completed with working code\n",
        "- **Analysis Quality (30%)**: Thoughtful interpretation of results\n",
        "- **Reflection Depth (20%)**: Insightful answers to reflection questions  \n",
        "- **Code Quality (10%)**: Clean, commented, well-organized code\n",
        "\n",
        "---\n",
        "\n",
        "## 🎉 Great Work!\n",
        "\n",
        "You've successfully explored the fascinating world of POS tagging! You now understand how computers parse human language and can apply these techniques to solve real-world problems.\n",
        "\n",
        "\n",
        "Keep exploring and happy coding! 🚀\n"
      ]
    }
  ],
  "metadata": {
    "colab": {
      "provenance": []
    },
    "kernelspec": {
      "display_name": "Python 3",
      "language": "python",
      "name": "python3"
    },
    "language_info": {
      "codemirror_mode": {
        "name": "ipython",
        "version": 3
      },
      "file_extension": ".py",
      "mimetype": "text/x-python",
      "name": "python",
      "nbconvert_exporter": "python",
      "pygments_lexer": "ipython3",
      "version": "3.12.6"
    }
  },
  "nbformat": 4,
  "nbformat_minor": 5
}
