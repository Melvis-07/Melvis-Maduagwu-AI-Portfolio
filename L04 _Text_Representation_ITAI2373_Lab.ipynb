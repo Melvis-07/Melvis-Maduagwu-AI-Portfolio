{
 "cells": [
  {
   "cell_type": "markdown",
   "metadata": {
    "id": "header"
   },
   "source": [
    "# 📚 ITAI 2373 Module 04: Text Representation Homework Lab\n",
    "## From Words to Numbers: \n",
    "### Student Name: (Melvis Maduagwu    )\n",
    "\n",
    "### 🎯 **Welcome to Your Text Representation Adventure!**\n",
    "\n",
    "You'll discover how computers transform human language into mathematical representations that machines can understand and process. This journey will take you from basic word counting to sophisticated embedding techniques used in modern AI systems.\n",
    "\n",
    "### 📅 **5-Parts Learning Journey**\n",
    "- **Part 1-2**: Foundations & Sparse Representations (BOW, Preprocessing)\n",
    "- **Part 3**: TF-IDF & N-grams (Weighted Representations)\n",
    "- **Part 4**: Dense Representations (Word Embeddings)\n",
    "- **Part 5**: Integration & Real-World Applications\n",
    "\n",
    "### 🎓 **Learning Outcomes**\n",
    "By completing this lab, you will be able to:\n",
    "- Explain why text must be converted to numbers for machine learning\n",
    "- Implement Bag of Words and TF-IDF representations from scratch\n",
    "- Apply N-gram analysis to capture word sequences\n",
    "- Explore word embeddings and their semantic properties\n",
    "- Compare different text representation methods\n",
    "- Build a simple text classification system\n",
    "\n",
    "### 📋 **Submission Guidelines**\n",
    "- Complete all exercises and answer all questions\n",
    "- Run all code cells and ensure outputs are visible\n",
    "- Provide thoughtful responses to reflection questions\n",
    "\n",
    "\n",
    "### 🏆 **Assessment Rubric**\n",
    "- **Technical Implementation (60%)**: Correct code, proper library usage, handling edge cases\n",
    "- **Conceptual Understanding (25%)**: Clear explanations, result interpretation\n",
    "- **Analysis & Reflection (15%)**: Critical thinking, real-world connections\n",
    "\n",
    "---\n",
    "**Let's begin your journey into the fascinating world of text representation!** 🚀"
   ]
  },
  {
   "cell_type": "markdown",
   "metadata": {
    "id": "setup"
   },
   "source": [
    "## 🔧 Environment Setup\n",
    "\n",
    "First, let's install and import all the libraries we'll need for our text representation journey. Run the cells below to set up your environment."
   ]
  },
  {
   "cell_type": "code",
   "execution_count": 1,
   "metadata": {
    "id": "install_libraries"
   },
   "outputs": [
    {
     "name": "stdout",
     "output_type": "stream",
     "text": [
      "Requirement already satisfied: nltk in c:\\users\\madua\\appdata\\local\\packages\\pythonsoftwarefoundation.python.3.11_qbz5n2kfra8p0\\localcache\\local-packages\\python311\\site-packages (3.9.1)\n",
      "Requirement already satisfied: gensim in c:\\users\\madua\\appdata\\local\\packages\\pythonsoftwarefoundation.python.3.11_qbz5n2kfra8p0\\localcache\\local-packages\\python311\\site-packages (4.3.3)\n",
      "Requirement already satisfied: scikit-learn in c:\\users\\madua\\appdata\\local\\packages\\pythonsoftwarefoundation.python.3.11_qbz5n2kfra8p0\\localcache\\local-packages\\python311\\site-packages (1.6.1)\n",
      "Requirement already satisfied: matplotlib in c:\\users\\madua\\appdata\\local\\packages\\pythonsoftwarefoundation.python.3.11_qbz5n2kfra8p0\\localcache\\local-packages\\python311\\site-packages (3.10.1)\n",
      "Requirement already satisfied: seaborn in c:\\users\\madua\\appdata\\local\\packages\\pythonsoftwarefoundation.python.3.11_qbz5n2kfra8p0\\localcache\\local-packages\\python311\\site-packages (0.13.2)\n",
      "Requirement already satisfied: wordcloud in c:\\users\\madua\\appdata\\local\\packages\\pythonsoftwarefoundation.python.3.11_qbz5n2kfra8p0\\localcache\\local-packages\\python311\\site-packages (1.9.4)\n",
      "Requirement already satisfied: click in c:\\users\\madua\\appdata\\local\\packages\\pythonsoftwarefoundation.python.3.11_qbz5n2kfra8p0\\localcache\\local-packages\\python311\\site-packages (from nltk) (8.2.1)\n",
      "Requirement already satisfied: joblib in c:\\users\\madua\\appdata\\local\\packages\\pythonsoftwarefoundation.python.3.11_qbz5n2kfra8p0\\localcache\\local-packages\\python311\\site-packages (from nltk) (1.4.2)\n",
      "Requirement already satisfied: regex>=2021.8.3 in c:\\users\\madua\\appdata\\local\\packages\\pythonsoftwarefoundation.python.3.11_qbz5n2kfra8p0\\localcache\\local-packages\\python311\\site-packages (from nltk) (2024.11.6)\n",
      "Requirement already satisfied: tqdm in c:\\users\\madua\\appdata\\local\\packages\\pythonsoftwarefoundation.python.3.11_qbz5n2kfra8p0\\localcache\\local-packages\\python311\\site-packages (from nltk) (4.67.1)\n",
      "Requirement already satisfied: numpy<2.0,>=1.18.5 in c:\\users\\madua\\appdata\\local\\packages\\pythonsoftwarefoundation.python.3.11_qbz5n2kfra8p0\\localcache\\local-packages\\python311\\site-packages (from gensim) (1.26.4)\n",
      "Requirement already satisfied: scipy<1.14.0,>=1.7.0 in c:\\users\\madua\\appdata\\local\\packages\\pythonsoftwarefoundation.python.3.11_qbz5n2kfra8p0\\localcache\\local-packages\\python311\\site-packages (from gensim) (1.13.1)\n",
      "Requirement already satisfied: smart-open>=1.8.1 in c:\\users\\madua\\appdata\\local\\packages\\pythonsoftwarefoundation.python.3.11_qbz5n2kfra8p0\\localcache\\local-packages\\python311\\site-packages (from gensim) (7.1.0)\n",
      "Requirement already satisfied: threadpoolctl>=3.1.0 in c:\\users\\madua\\appdata\\local\\packages\\pythonsoftwarefoundation.python.3.11_qbz5n2kfra8p0\\localcache\\local-packages\\python311\\site-packages (from scikit-learn) (3.6.0)\n",
      "Requirement already satisfied: contourpy>=1.0.1 in c:\\users\\madua\\appdata\\local\\packages\\pythonsoftwarefoundation.python.3.11_qbz5n2kfra8p0\\localcache\\local-packages\\python311\\site-packages (from matplotlib) (1.3.1)\n",
      "Requirement already satisfied: cycler>=0.10 in c:\\users\\madua\\appdata\\local\\packages\\pythonsoftwarefoundation.python.3.11_qbz5n2kfra8p0\\localcache\\local-packages\\python311\\site-packages (from matplotlib) (0.12.1)\n",
      "Requirement already satisfied: fonttools>=4.22.0 in c:\\users\\madua\\appdata\\local\\packages\\pythonsoftwarefoundation.python.3.11_qbz5n2kfra8p0\\localcache\\local-packages\\python311\\site-packages (from matplotlib) (4.56.0)\n",
      "Requirement already satisfied: kiwisolver>=1.3.1 in c:\\users\\madua\\appdata\\local\\packages\\pythonsoftwarefoundation.python.3.11_qbz5n2kfra8p0\\localcache\\local-packages\\python311\\site-packages (from matplotlib) (1.4.8)\n",
      "Requirement already satisfied: packaging>=20.0 in c:\\users\\madua\\appdata\\local\\packages\\pythonsoftwarefoundation.python.3.11_qbz5n2kfra8p0\\localcache\\local-packages\\python311\\site-packages (from matplotlib) (24.2)\n",
      "Requirement already satisfied: pillow>=8 in c:\\users\\madua\\appdata\\local\\packages\\pythonsoftwarefoundation.python.3.11_qbz5n2kfra8p0\\localcache\\local-packages\\python311\\site-packages (from matplotlib) (11.1.0)\n",
      "Requirement already satisfied: pyparsing>=2.3.1 in c:\\users\\madua\\appdata\\local\\packages\\pythonsoftwarefoundation.python.3.11_qbz5n2kfra8p0\\localcache\\local-packages\\python311\\site-packages (from matplotlib) (3.2.1)\n",
      "Requirement already satisfied: python-dateutil>=2.7 in c:\\users\\madua\\appdata\\local\\packages\\pythonsoftwarefoundation.python.3.11_qbz5n2kfra8p0\\localcache\\local-packages\\python311\\site-packages (from matplotlib) (2.9.0.post0)\n",
      "Requirement already satisfied: pandas>=1.2 in c:\\users\\madua\\appdata\\local\\packages\\pythonsoftwarefoundation.python.3.11_qbz5n2kfra8p0\\localcache\\local-packages\\python311\\site-packages (from seaborn) (2.2.3)\n",
      "Requirement already satisfied: pytz>=2020.1 in c:\\users\\madua\\appdata\\local\\packages\\pythonsoftwarefoundation.python.3.11_qbz5n2kfra8p0\\localcache\\local-packages\\python311\\site-packages (from pandas>=1.2->seaborn) (2025.1)\n",
      "Requirement already satisfied: tzdata>=2022.7 in c:\\users\\madua\\appdata\\local\\packages\\pythonsoftwarefoundation.python.3.11_qbz5n2kfra8p0\\localcache\\local-packages\\python311\\site-packages (from pandas>=1.2->seaborn) (2025.1)\n",
      "Requirement already satisfied: six>=1.5 in c:\\users\\madua\\appdata\\local\\packages\\pythonsoftwarefoundation.python.3.11_qbz5n2kfra8p0\\localcache\\local-packages\\python311\\site-packages (from python-dateutil>=2.7->matplotlib) (1.17.0)\n",
      "Requirement already satisfied: wrapt in c:\\users\\madua\\appdata\\local\\packages\\pythonsoftwarefoundation.python.3.11_qbz5n2kfra8p0\\localcache\\local-packages\\python311\\site-packages (from smart-open>=1.8.1->gensim) (1.17.2)\n",
      "Requirement already satisfied: colorama in c:\\users\\madua\\appdata\\local\\packages\\pythonsoftwarefoundation.python.3.11_qbz5n2kfra8p0\\localcache\\local-packages\\python311\\site-packages (from click->nltk) (0.4.6)\n"
     ]
    },
    {
     "name": "stderr",
     "output_type": "stream",
     "text": [
      "\n",
      "[notice] A new release of pip is available: 24.0 -> 25.1.1\n",
      "[notice] To update, run: C:\\Users\\madua\\AppData\\Local\\Microsoft\\WindowsApps\\PythonSoftwareFoundation.Python.3.11_qbz5n2kfra8p0\\python.exe -m pip install --upgrade pip\n",
      "<frozen runpy>:128: RuntimeWarning: 'nltk.downloader' found in sys.modules after import of package 'nltk', but prior to execution of 'nltk.downloader'; this may result in unpredictable behaviour\n",
      "[nltk_data] Downloading package punkt to\n",
      "[nltk_data]     C:\\Users\\madua\\AppData\\Roaming\\nltk_data...\n",
      "[nltk_data]   Package punkt is already up-to-date!\n",
      "[nltk_data] Downloading package stopwords to\n",
      "[nltk_data]     C:\\Users\\madua\\AppData\\Roaming\\nltk_data...\n",
      "[nltk_data]   Package stopwords is already up-to-date!\n",
      "[nltk_data] Downloading package movie_reviews to\n",
      "[nltk_data]     C:\\Users\\madua\\AppData\\Roaming\\nltk_data...\n",
      "[nltk_data]   Package movie_reviews is already up-to-date!\n"
     ]
    }
   ],
   "source": [
    "# Install required libraries (run this cell first in Google Colab)\n",
    "!pip install nltk gensim scikit-learn matplotlib seaborn wordcloud\n",
    "!python -m nltk.downloader punkt stopwords movie_reviews"
   ]
  },
  {
   "cell_type": "code",
   "execution_count": 2,
   "metadata": {
    "id": "import_libraries"
   },
   "outputs": [
    {
     "name": "stdout",
     "output_type": "stream",
     "text": [
      "✅ All libraries imported successfully!\n",
      "🎉 You're ready to start your text representation journey!\n"
     ]
    }
   ],
   "source": [
    "# Import all necessary libraries\n",
    "\n",
    "import numpy as np\n",
    "import pandas as pd\n",
    "import matplotlib.pyplot as plt\n",
    "import seaborn as sns\n",
    "from collections import Counter, defaultdict\n",
    "import re\n",
    "import math\n",
    "from itertools import combinations\n",
    "\n",
    "# NLTK for text processing\n",
    "import nltk\n",
    "from nltk.tokenize import word_tokenize, sent_tokenize\n",
    "from nltk.corpus import stopwords, movie_reviews\n",
    "from nltk.stem import PorterStemmer\n",
    "\n",
    "# Scikit-learn for machine learning\n",
    "from sklearn.feature_extraction.text import CountVectorizer, TfidfVectorizer\n",
    "from sklearn.metrics.pairwise import cosine_similarity\n",
    "from sklearn.model_selection import train_test_split\n",
    "from sklearn.naive_bayes import MultinomialNB\n",
    "from sklearn.metrics import classification_report, accuracy_score\n",
    "\n",
    "# Gensim for word embeddings\n",
    "import gensim.downloader as api\n",
    "\n",
    "# Set up plotting\n",
    "plt.style.use('default')\n",
    "sns.set_palette(\"husl\")\n",
    "\n",
    "print(\"✅ All libraries imported successfully!\")\n",
    "print(\"🎉 You're ready to start your text representation journey!\")"
   ]
  },
  {
   "cell_type": "markdown",
   "metadata": {
    "id": "day1_header"
   },
   "source": [
    "# 📅 Part 1-2: Foundations & Sparse Representations\n",
    "\n",
    "## 🤔 Why Do We Need to Convert Text to Numbers?\n",
    "\n",
    "Imagine you're trying to teach a computer to understand the difference between \"I love this movie!\" and \"This movie is terrible.\" How would you explain the concept of sentiment to a machine that only understands mathematics?\n",
    "\n",
    "This is the fundamental challenge in Natural Language Processing (NLP). Computers are excellent at processing numbers, but human language is complex, contextual, and inherently non-numerical. We need a bridge between words and numbers.\n",
    "\n",
    "### 🎯 **Part 1-2 Goals:**\n",
    "- Understand why text-to-number conversion is necessary\n",
    "- Master text preprocessing and tokenization\n",
    "- Implement Bag of Words (BOW) from scratch\n",
    "- Explore the limitations of sparse representations"
   ]
  },
  {
   "cell_type": "markdown",
   "metadata": {
    "id": "sample_data"
   },
   "source": [
    "## 📝 Our Sample Dataset\n",
    "\n",
    "Let's start with a small collection of movie reviews to make our learning concrete and relatable."
   ]
  },
  {
   "cell_type": "code",
   "execution_count": 3,
   "metadata": {
    "id": "create_sample_data"
   },
   "outputs": [
    {
     "name": "stdout",
     "output_type": "stream",
     "text": [
      "📚 Sample Movie Reviews:\n",
      "\n",
      "1. [😊 Positive] This movie is absolutely fantastic! The acting is superb and the plot is engaging.\n",
      "\n",
      "2. [😞 Negative] I found this film quite boring. The story dragged on and the characters were flat.\n",
      "\n",
      "3. [😊 Positive] Amazing cinematography and brilliant performances. A must-watch movie!\n",
      "\n",
      "4. [😞 Negative] The plot was confusing and the dialogue felt forced. Not recommended.\n",
      "\n",
      "5. [😊 Positive] Great movie with excellent acting. The story kept me engaged throughout.\n",
      "\n",
      "📊 Dataset Summary: 5 reviews (3 positive, 2 negative)\n"
     ]
    }
   ],
   "source": [
    "# Our sample movie reviews for learning\n",
    "sample_reviews = [\n",
    "    \"This movie is absolutely fantastic! The acting is superb and the plot is engaging.\",\n",
    "    \"I found this film quite boring. The story dragged on and the characters were flat.\",\n",
    "    \"Amazing cinematography and brilliant performances. A must-watch movie!\",\n",
    "    \"The plot was confusing and the dialogue felt forced. Not recommended.\",\n",
    "    \"Great movie with excellent acting. The story kept me engaged throughout.\"\n",
    "]\n",
    "\n",
    "# Let's also create labels for sentiment (positive=1, negative=0)\n",
    "sample_labels = [1, 0, 1, 0, 1]  # 1 = positive, 0 = negative\n",
    "\n",
    "print(\"📚 Sample Movie Reviews:\")\n",
    "for i, (review, label) in enumerate(zip(sample_reviews, sample_labels)):\n",
    "    sentiment = \"😊 Positive\" if label == 1 else \"😞 Negative\"\n",
    "    print(f\"\\n{i+1}. [{sentiment}] {review}\")\n",
    "\n",
    "print(f\"\\n📊 Dataset Summary: {len(sample_reviews)} reviews ({sum(sample_labels)} positive, {len(sample_labels)-sum(sample_labels)} negative)\")"
   ]
  },
  {
   "cell_type": "markdown",
   "metadata": {
    "id": "preprocessing_section"
   },
   "source": [
    "## 🧹 Text Preprocessing: Cleaning Our Data\n",
    "\n",
    "Before we can convert text to numbers, we need to clean and standardize our text. Think of this as preparing ingredients before cooking - we need everything in the right format!\n",
    "\n",
    "### Common Preprocessing Steps:\n",
    "1. **Lowercasing**: \"Movie\" and \"movie\" should be treated the same\n",
    "2. **Removing punctuation**: \"great!\" becomes \"great\"\n",
    "3. **Tokenization**: Breaking text into individual words\n",
    "4. **Removing stop words**: Common words like \"the\", \"and\", \"is\"\n",
    "5. **Stemming**: \"running\", \"runs\", \"ran\" → \"run\""
   ]
  },
  {
   "cell_type": "code",
   "execution_count": 4,
   "metadata": {
    "id": "preprocessing_demo"
   },
   "outputs": [
    {
     "name": "stdout",
     "output_type": "stream",
     "text": [
      "🔤 Original text: This movie is absolutely fantastic! The acting is superb and the plot is engaging.\n",
      "\n",
      "1️⃣ After lowercasing: this movie is absolutely fantastic! the acting is superb and the plot is engaging.\n",
      "2️⃣ After removing punctuation: this movie is absolutely fantastic the acting is superb and the plot is engaging\n",
      "3️⃣ After tokenization: ['this', 'movie', 'is', 'absolutely', 'fantastic', 'the', 'acting', 'is', 'superb', 'and', 'the', 'plot', 'is', 'engaging']\n",
      "4️⃣ After removing stop words: ['movie', 'absolutely', 'fantastic', 'acting', 'superb', 'plot', 'engaging']\n",
      "5️⃣ After stemming: ['movi', 'absolut', 'fantast', 'act', 'superb', 'plot', 'engag']\n",
      "\n",
      "📏 Length reduction: 14 → 7 words\n"
     ]
    }
   ],
   "source": [
    "# Let's see preprocessing in action with one example\n",
    "example_text = sample_reviews[0]\n",
    "print(f\"🔤 Original text: {example_text}\")\n",
    "\n",
    "# Step 1: Lowercase\n",
    "step1 = example_text.lower()\n",
    "print(f\"\\n1️⃣ After lowercasing: {step1}\")\n",
    "\n",
    "# Step 2: Remove punctuation\n",
    "step2 = re.sub(r'[^\\w\\s]', '', step1)\n",
    "print(f\"2️⃣ After removing punctuation: {step2}\")\n",
    "\n",
    "# Step 3: Tokenization\n",
    "tokens = word_tokenize(step2)\n",
    "print(f\"3️⃣ After tokenization: {tokens}\")\n",
    "\n",
    "# Step 4: Remove stop words\n",
    "stop_words = set(stopwords.words('english'))\n",
    "filtered_tokens = [word for word in tokens if word not in stop_words]\n",
    "print(f\"4️⃣ After removing stop words: {filtered_tokens}\")\n",
    "\n",
    "# Step 5: Stemming\n",
    "stemmer = PorterStemmer()\n",
    "stemmed_tokens = [stemmer.stem(word) for word in filtered_tokens]\n",
    "print(f\"5️⃣ After stemming: {stemmed_tokens}\")\n",
    "\n",
    "print(f\"\\n📏 Length reduction: {len(example_text.split())} → {len(stemmed_tokens)} words\")"
   ]
  },
  {
   "cell_type": "markdown",
   "metadata": {
    "id": "exercise1"
   },
   "source": [
    "### 🏋️‍♀️ **Exercise 1: Build Your Own Preprocessor**\n",
    "\n",
    "Now it's your turn! Complete the function below to preprocess text. This will be your foundation for all future exercises."
   ]
  },
  {
   "cell_type": "code",
   "execution_count": 5,
   "metadata": {
    "id": "exercise1_code"
   },
   "outputs": [
    {
     "name": "stdout",
     "output_type": "stream",
     "text": [
      "\n",
      "1️⃣ After lowercasing: this movie is absolutely fantastic! the acting is superb and the plot is engaging.\n",
      "2️⃣ After removing punctuation: this movie is absolutely fantastic the acting is superb and the plot is engaging\n",
      "3️⃣ After tokenization: ['this', 'movie', 'is', 'absolutely', 'fantastic', 'the', 'acting', 'is', 'superb', 'and', 'the', 'plot', 'is', 'engaging']\n",
      "4️⃣ After removing stop words: ['movie', 'absolutely', 'fantastic', 'acting', 'superb', 'plot', 'engaging']\n",
      "5️⃣ After stemming: ['movi', 'absolut', 'fantast', 'act', 'superb', 'plot', 'engag']\n",
      "Input: The movies are absolutely AMAZING! I love watching them.\n",
      "Output: ['movi', 'absolut', 'fantast', 'act', 'superb', 'plot', 'engag']\n"
     ]
    }
   ],
   "source": [
    "def preprocess_text(text, remove_stopwords=True, apply_stemming=True):\n",
    "    \"\"\"\n",
    "    Preprocess a text string by cleaning and tokenizing it.\n",
    "    \n",
    "    Args:\n",
    "        text (str): Input text to preprocess\n",
    "        remove_stopwords (bool): Whether to remove stop words\n",
    "        apply_stemming (bool): Whether to apply stemming\n",
    "    \n",
    "    Returns:\n",
    "        list: List of preprocessed tokens\n",
    "    \"\"\"\n",
    "    # TODO: Implement the preprocessing steps\n",
    "    # Hint: Follow the same steps we demonstrated above\n",
    "    \n",
    "    # Step 1: Convert to lowercase\n",
    "    text = example_text.lower()\n",
    "    print(f\"\\n1️⃣ After lowercasing: {step1}\")\n",
    "    \n",
    "    # Step 2: Remove punctuation (keep only letters, numbers, and spaces)\n",
    "    text = re.sub(r'[^\\w\\s]', '', step1)\n",
    "    print(f\"2️⃣ After removing punctuation: {step2}\")\n",
    "    \n",
    "    # Step 3: Tokenize\n",
    "    tokens = word_tokenize(step2)\n",
    "    print(f\"3️⃣ After tokenization: {tokens}\")\n",
    "    \n",
    "    # Step 4: Remove stop words (if requested)\n",
    "    if remove_stopwords:\n",
    "        stop_words = set(stopwords.words('english'))\n",
    "        tokens = [word for word in tokens if word not in stop_words]\n",
    "    print(f\"4️⃣ After removing stop words: {filtered_tokens}\")\n",
    "    \n",
    "    # Step 5: Apply stemming (if requested)\n",
    "    if apply_stemming:\n",
    "        stemmer = PorterStemmer()\n",
    "        tokens = [stemmer.stem(word) for word in filtered_tokens]\n",
    "    print(f\"5️⃣ After stemming: {stemmed_tokens}\")\n",
    "    \n",
    "    return tokens\n",
    "\n",
    "# Test your function\n",
    "test_text = \"The movies are absolutely AMAZING! I love watching them.\"\n",
    "result = preprocess_text(test_text)\n",
    "print(f\"Input: {test_text}\")\n",
    "print(f\"Output: {result}\")\n",
    "\n",
    "# Expected output should be something like: ['movi', 'absolut', 'amaz', 'love', 'watch']"
   ]
  },
  {
   "cell_type": "markdown",
   "metadata": {
    "id": "solution1"
   },
   "source": [
    "**💡 Solution Check:** Run the cell below to see the expected solution and compare with your implementation."
   ]
  },
  {
   "cell_type": "code",
   "execution_count": 6,
   "metadata": {
    "id": "solution1_code"
   },
   "outputs": [
    {
     "name": "stdout",
     "output_type": "stream",
     "text": [
      "Expected output: ['movi', 'absolut', 'amaz', 'love', 'watch']\n",
      "\n",
      "✅ If your output matches this, great job! If not, review the steps above.\n"
     ]
    }
   ],
   "source": [
    "# Solution for Exercise 1\n",
    "def preprocess_text_solution(text, remove_stopwords=True, apply_stemming=True):\n",
    "    # Step 1: Convert to lowercase\n",
    "    text = text.lower()\n",
    "    \n",
    "    # Step 2: Remove punctuation\n",
    "    text = re.sub(r'[^\\w\\s]', '', text)\n",
    "    \n",
    "    # Step 3: Tokenize\n",
    "    tokens = word_tokenize(text)\n",
    "    \n",
    "    # Step 4: Remove stop words\n",
    "    if remove_stopwords:\n",
    "        stop_words = set(stopwords.words('english'))\n",
    "        tokens = [word for word in tokens if word not in stop_words]\n",
    "    \n",
    "    # Step 5: Apply stemming\n",
    "    if apply_stemming:\n",
    "        stemmer = PorterStemmer()\n",
    "        tokens = [stemmer.stem(word) for word in tokens]\n",
    "    \n",
    "    return tokens\n",
    "\n",
    "# Test the solution\n",
    "test_result = preprocess_text_solution(test_text)\n",
    "print(f\"Expected output: {test_result}\")\n",
    "print(\"\\n✅ If your output matches this, great job! If not, review the steps above.\")"
   ]
  },
  {
   "cell_type": "markdown",
   "metadata": {
    "id": "preprocess_all"
   },
   "source": [
    "Now let's preprocess all our sample reviews:"
   ]
  },
  {
   "cell_type": "code",
   "execution_count": 7,
   "metadata": {
    "id": "preprocess_all_code"
   },
   "outputs": [
    {
     "name": "stdout",
     "output_type": "stream",
     "text": [
      "📝 Preprocessed Reviews:\n",
      "\n",
      "1. Original: This movie is absolutely fantastic! The acting is ...\n",
      "   Processed: ['movi', 'absolut', 'fantast', 'act', 'superb', 'plot', 'engag']\n",
      "\n",
      "2. Original: I found this film quite boring. The story dragged ...\n",
      "   Processed: ['found', 'film', 'quit', 'bore', 'stori', 'drag', 'charact', 'flat']\n",
      "\n",
      "3. Original: Amazing cinematography and brilliant performances....\n",
      "   Processed: ['amaz', 'cinematographi', 'brilliant', 'perform', 'mustwatch', 'movi']\n",
      "\n",
      "4. Original: The plot was confusing and the dialogue felt force...\n",
      "   Processed: ['plot', 'confus', 'dialogu', 'felt', 'forc', 'recommend']\n",
      "\n",
      "5. Original: Great movie with excellent acting. The story kept ...\n",
      "   Processed: ['great', 'movi', 'excel', 'act', 'stori', 'kept', 'engag', 'throughout']\n"
     ]
    }
   ],
   "source": [
    "# Preprocess all sample reviews\n",
    "preprocessed_reviews = [preprocess_text_solution(review) for review in sample_reviews]\n",
    "\n",
    "print(\"📝 Preprocessed Reviews:\")\n",
    "for i, (original, processed) in enumerate(zip(sample_reviews, preprocessed_reviews)):\n",
    "    print(f\"\\n{i+1}. Original: {original[:50]}...\")\n",
    "    print(f\"   Processed: {processed}\")"
   ]
  },
  {
   "cell_type": "markdown",
   "metadata": {
    "id": "bow_section"
   },
   "source": [
    "## 🎒 Bag of Words (BOW): Your First Text Representation\n",
    "\n",
    "Imagine you have a bag and you throw all the words from a document into it. You lose the order of words, but you can count how many times each word appears. That's exactly what Bag of Words does!\n",
    "\n",
    "### 🔍 **How BOW Works:**\n",
    "1. Create a vocabulary of all unique words across all documents\n",
    "2. For each document, count how many times each word appears\n",
    "3. Represent each document as a vector of word counts\n",
    "\n",
    "### 📊 **Example:**\n",
    "- Document 1: \"I love movies\"\n",
    "- Document 2: \"Movies are great\"\n",
    "- Vocabulary: [\"I\", \"love\", \"movies\", \"are\", \"great\"]\n",
    "- Doc 1 vector: [1, 1, 1, 0, 0]\n",
    "- Doc 2 vector: [0, 0, 1, 1, 1]"
   ]
  },
  {
   "cell_type": "code",
   "execution_count": 8,
   "metadata": {
    "id": "bow_demo"
   },
   "outputs": [
    {
     "name": "stdout",
     "output_type": "stream",
     "text": [
      "📚 Simple Documents:\n",
      "Doc 1: ['love', 'movie']\n",
      "Doc 2: ['movie', 'great']\n",
      "Doc 3: ['love', 'great', 'film']\n",
      "\n",
      "📖 Vocabulary: ['film', 'great', 'love', 'movie']\n",
      "\n",
      "🎒 BOW Vectors:\n",
      "Doc 1: [0, 0, 1, 1]\n",
      "Doc 2: [0, 1, 0, 1]\n",
      "Doc 3: [1, 1, 1, 0]\n",
      "\n",
      "📊 BOW Matrix:\n",
      "       film  great  love  movie\n",
      "Doc 1     0      0     1      1\n",
      "Doc 2     0      1     0      1\n",
      "Doc 3     1      1     1      0\n"
     ]
    }
   ],
   "source": [
    "# Let's build BOW step by step with a simple example\n",
    "simple_docs = [\n",
    "    [\"love\", \"movie\"],\n",
    "    [\"movie\", \"great\"],\n",
    "    [\"love\", \"great\", \"film\"]\n",
    "]\n",
    "\n",
    "print(\"📚 Simple Documents:\")\n",
    "for i, doc in enumerate(simple_docs):\n",
    "    print(f\"Doc {i+1}: {doc}\")\n",
    "\n",
    "# Step 1: Build vocabulary\n",
    "vocabulary = sorted(set(word for doc in simple_docs for word in doc))\n",
    "print(f\"\\n📖 Vocabulary: {vocabulary}\")\n",
    "\n",
    "# Step 2: Create BOW vectors\n",
    "bow_vectors = []\n",
    "for doc in simple_docs:\n",
    "    vector = [doc.count(word) for word in vocabulary]\n",
    "    bow_vectors.append(vector)\n",
    "\n",
    "print(f\"\\n🎒 BOW Vectors:\")\n",
    "for i, vector in enumerate(bow_vectors):\n",
    "    print(f\"Doc {i+1}: {vector}\")\n",
    "\n",
    "# Visualize as a matrix\n",
    "bow_df = pd.DataFrame(bow_vectors, columns=vocabulary, index=[f\"Doc {i+1}\" for i in range(len(simple_docs))])\n",
    "print(f\"\\n📊 BOW Matrix:\")\n",
    "print(bow_df)"
   ]
  },
  {
   "cell_type": "markdown",
   "metadata": {
    "id": "exercise2"
   },
   "source": [
    "### 🏋️‍♀️ **Exercise 2: Build BOW from Scratch**\n",
    "\n",
    "Now implement your own BOW function! This will help you understand exactly how the representation works."
   ]
  },
  {
   "cell_type": "code",
   "execution_count": 9,
   "metadata": {
    "id": "exercise2_code"
   },
   "outputs": [
    {
     "name": "stdout",
     "output_type": "stream",
     "text": [
      "\n",
      "📖 Vocabulary: ['film', 'great', 'love', 'movie']\n",
      "📖 Vocabulary size: 4\n",
      "📖 First 10 words: ['film', 'great', 'love', 'movie']\n",
      "\n",
      "🎒 BOW matrix shape: 1 documents × 4 words\n",
      "🎒 First document vector (first 10 elements): [0, 1, 0, 0]\n"
     ]
    }
   ],
   "source": [
    "def build_bow_representation(documents):\n",
    "    \"\"\"\n",
    "    Build Bag of Words representation for a list of documents.\n",
    "    \n",
    "    Args:\n",
    "        documents (list): List of documents, where each document is a list of tokens\n",
    "    \n",
    "    Returns:\n",
    "        tuple: (vocabulary, bow_matrix)\n",
    "            vocabulary (list): Sorted list of unique words\n",
    "            bow_matrix (list): List of BOW vectors for each document\n",
    "    \"\"\"\n",
    "    # TODO: Build the vocabulary (unique words across all documents)\n",
    "    vocabulary = sorted(set(word for doc in simple_docs for word in doc))\n",
    "    print(f\"\\n📖 Vocabulary: {vocabulary}\")\n",
    "    \n",
    "    # TODO: Create BOW vectors for each document\n",
    "    bow_matrix = []\n",
    "    for doc in documents:\n",
    "        # Create a vector where each element is the count of the corresponding vocabulary word\n",
    "        vector = [doc.count(word) for word in vocabulary]\n",
    "    bow_vectors.append(vector)\n",
    "    bow_matrix.append(vector)\n",
    "    \n",
    "    return vocabulary, bow_matrix\n",
    "\n",
    "# Test your function with our preprocessed reviews\n",
    "vocab, bow_matrix = build_bow_representation(preprocessed_reviews)\n",
    "\n",
    "print(f\"📖 Vocabulary size: {len(vocab)}\")\n",
    "print(f\"📖 First 10 words: {vocab[:10]}\")\n",
    "print(f\"\\n🎒 BOW matrix shape: {len(bow_matrix)} documents × {len(vocab)} words\")\n",
    "print(f\"🎒 First document vector (first 10 elements): {bow_matrix[0][:10]}\")"
   ]
  },
  {
   "cell_type": "markdown",
   "metadata": {
    "id": "solution2"
   },
   "source": [
    "**💡 Solution Check:**"
   ]
  },
  {
   "cell_type": "code",
   "execution_count": 10,
   "metadata": {
    "id": "solution2_code"
   },
   "outputs": [
    {
     "name": "stdout",
     "output_type": "stream",
     "text": [
      "✅ Solution vocabulary size: 29\n",
      "✅ Solution BOW matrix shape: 5 × 29\n"
     ]
    }
   ],
   "source": [
    "# Solution for Exercise 2\n",
    "def build_bow_representation_solution(documents):\n",
    "    # Build vocabulary: get all unique words and sort them\n",
    "    vocabulary = sorted(set(word for doc in documents for word in doc))\n",
    "    \n",
    "    # Create BOW vectors\n",
    "    bow_matrix = []\n",
    "    for doc in documents:\n",
    "        vector = [doc.count(word) for word in vocabulary]\n",
    "        bow_matrix.append(vector)\n",
    "    \n",
    "    return vocabulary, bow_matrix\n",
    "\n",
    "# Test the solution\n",
    "vocab_sol, bow_matrix_sol = build_bow_representation_solution(preprocessed_reviews)\n",
    "print(f\"✅ Solution vocabulary size: {len(vocab_sol)}\")\n",
    "print(f\"✅ Solution BOW matrix shape: {len(bow_matrix_sol)} × {len(vocab_sol)}\")"
   ]
  },
  {
   "cell_type": "markdown",
   "metadata": {
    "id": "bow_sklearn"
   },
   "source": [
    "### 🔬 Comparing with Scikit-learn's CountVectorizer\n",
    "\n",
    "Let's see how our implementation compares with the professional library:"
   ]
  },
  {
   "cell_type": "code",
   "execution_count": 11,
   "metadata": {
    "id": "bow_sklearn_code"
   },
   "outputs": [
    {
     "name": "stdout",
     "output_type": "stream",
     "text": [
      "🔬 Scikit-learn CountVectorizer Results:\n",
      "Vocabulary size: 27\n",
      "BOW matrix shape: (5, 27)\n",
      "Matrix type: <class 'scipy.sparse._csr.csr_matrix'>\n",
      "\n",
      "📊 First document vector (first 10 elements): [1 1 0 0 0 0 0 0 0 0]\n",
      "\n",
      "📖 First 10 vocabulary words: ['absolut', 'act', 'amaz', 'bore', 'brilliant', 'charact', 'cinematographi', 'confus', 'dialogu', 'drag']\n"
     ]
    }
   ],
   "source": [
    "# Using scikit-learn's CountVectorizer\n",
    "vectorizer = CountVectorizer(lowercase=True, stop_words='english')\n",
    "\n",
    "# We need to join our preprocessed tokens back into strings for sklearn\n",
    "processed_texts = [' '.join(tokens) for tokens in preprocessed_reviews]\n",
    "sklearn_bow = vectorizer.fit_transform(processed_texts)\n",
    "\n",
    "print(\"🔬 Scikit-learn CountVectorizer Results:\")\n",
    "print(f\"Vocabulary size: {len(vectorizer.vocabulary_)}\")\n",
    "print(f\"BOW matrix shape: {sklearn_bow.shape}\")\n",
    "print(f\"Matrix type: {type(sklearn_bow)}\")\n",
    "\n",
    "# Convert to dense array for comparison\n",
    "sklearn_bow_dense = sklearn_bow.toarray()\n",
    "print(f\"\\n📊 First document vector (first 10 elements): {sklearn_bow_dense[0][:10]}\")\n",
    "\n",
    "# Show some vocabulary words\n",
    "feature_names = vectorizer.get_feature_names_out()\n",
    "print(f\"\\n📖 First 10 vocabulary words: {feature_names[:10].tolist()}\")"
   ]
  },
  {
   "cell_type": "markdown",
   "metadata": {
    "id": "bow_visualization"
   },
   "source": [
    "### 📊 Visualizing BOW Representations\n",
    "\n",
    "Let's create some visualizations to better understand our BOW representation:"
   ]
  },
  {
   "cell_type": "code",
   "execution_count": 12,
   "metadata": {
    "id": "bow_viz_code"
   },
   "outputs": [
    {
     "name": "stderr",
     "output_type": "stream",
     "text": [
      "C:\\Users\\madua\\AppData\\Local\\Temp\\ipykernel_17596\\199533803.py:17: UserWarning: Glyph 127890 (\\N{SCHOOL SATCHEL}) missing from font(s) DejaVu Sans.\n",
      "  plt.tight_layout()\n",
      "C:\\Users\\madua\\AppData\\Roaming\\Python\\Python312\\site-packages\\IPython\\core\\pylabtools.py:170: UserWarning: Glyph 127890 (\\N{SCHOOL SATCHEL}) missing from font(s) DejaVu Sans.\n",
      "  fig.canvas.print_figure(bytes_io, **kw)\n"
     ]
    },
    {
     "data": {
      "image/png": "[encoded data removed]",
      "text/plain": [
       "<Figure size 1200x600 with 2 Axes>"
      ]
     },
     "metadata": {},
     "output_type": "display_data"
    },
    {
     "name": "stderr",
     "output_type": "stream",
     "text": [
      "C:\\Users\\madua\\AppData\\Local\\Temp\\ipykernel_17596\\199533803.py:28: UserWarning: Glyph 128202 (\\N{BAR CHART}) missing from font(s) DejaVu Sans.\n",
      "  plt.tight_layout()\n",
      "C:\\Users\\madua\\AppData\\Roaming\\Python\\Python312\\site-packages\\IPython\\core\\pylabtools.py:170: UserWarning: Glyph 128202 (\\N{BAR CHART}) missing from font(s) DejaVu Sans.\n",
      "  fig.canvas.print_figure(bytes_io, **kw)\n"
     ]
    },
    {
     "data": {
      "image/png": "[encoded data removed]",
      "text/plain": [
       "<Figure size 1000x600 with 1 Axes>"
      ]
     },
     "metadata": {},
     "output_type": "display_data"
    },
    {
     "name": "stdout",
     "output_type": "stream",
     "text": [
      "📈 Total unique words: 27\n",
      "📈 Average words per review: 6.6\n",
      "📈 Sparsity: 75.6%\n"
     ]
    }
   ],
   "source": [
    "# Create a DataFrame for better visualization\n",
    "bow_df = pd.DataFrame(\n",
    "    sklearn_bow_dense, \n",
    "    columns=feature_names,\n",
    "    index=[f\"Review {i+1}\" for i in range(len(sample_reviews))]\n",
    ")\n",
    "\n",
    "# 1. Heatmap of BOW representation\n",
    "plt.figure(figsize=(12, 6))\n",
    "# Show only words that appear at least once\n",
    "active_words = bow_df.columns[bow_df.sum() > 0][:20]  # Top 20 most frequent words\n",
    "sns.heatmap(bow_df[active_words], annot=True, cmap='Blues', fmt='d')\n",
    "plt.title('🎒 Bag of Words Heatmap (Top 20 Words)')\n",
    "plt.xlabel('Words')\n",
    "plt.ylabel('Reviews')\n",
    "plt.xticks(rotation=45)\n",
    "plt.tight_layout()\n",
    "plt.show()\n",
    "\n",
    "# 2. Word frequency distribution\n",
    "word_frequencies = bow_df.sum().sort_values(ascending=False)\n",
    "plt.figure(figsize=(10, 6))\n",
    "word_frequencies[:15].plot(kind='bar')\n",
    "plt.title('📊 Top 15 Most Frequent Words')\n",
    "plt.xlabel('Words')\n",
    "plt.ylabel('Frequency')\n",
    "plt.xticks(rotation=45)\n",
    "plt.tight_layout()\n",
    "plt.show()\n",
    "\n",
    "print(f\"📈 Total unique words: {len(feature_names)}\")\n",
    "print(f\"📈 Average words per review: {bow_df.sum(axis=1).mean():.1f}\")\n",
    "print(f\"📈 Sparsity: {(bow_df == 0).sum().sum() / (bow_df.shape[0] * bow_df.shape[1]) * 100:.1f}%\")"
   ]
  },
  {
   "cell_type": "markdown",
   "metadata": {
    "id": "bow_limitations"
   },
   "source": [
    "## 🚨 BOW Limitations: What Are We Missing?\n",
    "\n",
    "BOW is simple and effective, but it has some important limitations. Let's explore them:"
   ]
  },
  {
   "cell_type": "code",
   "execution_count": 13,
   "metadata": {
    "id": "bow_limitations_code"
   },
   "outputs": [
    {
     "name": "stdout",
     "output_type": "stream",
     "text": [
      "🚨 BOW Limitation Examples:\n",
      "\n",
      "1. Text: 'The dog ate my homework'\n",
      "   Tokens: ['the', 'dog', 'ate', 'my', 'homework']\n",
      "\n",
      "2. Text: 'The homework ate my dog'\n",
      "   Tokens: ['the', 'homework', 'ate', 'my', 'dog']\n",
      "\n",
      "3. Text: 'This movie is not bad'\n",
      "   Tokens: ['this', 'movie', 'is', 'not', 'bad']\n",
      "\n",
      "4. Text: 'This movie is bad'\n",
      "   Tokens: ['this', 'movie', 'is', 'bad']\n",
      "\n",
      "📊 BOW Vectors:\n",
      "Text 1: [1 0 1 1 0 0 1 0 1 0]\n",
      "Text 2: [1 0 1 1 0 0 1 0 1 0]\n",
      "Text 3: [0 1 0 0 1 1 0 1 0 1]\n",
      "Text 4: [0 1 0 0 1 1 0 0 0 1]\n",
      "\n",
      "⚠️ Texts 1 and 2 have IDENTICAL BOW representations despite different meanings!\n"
     ]
    }
   ],
   "source": [
    "# Demonstrating BOW limitations\n",
    "limitation_examples = [\n",
    "    \"The dog ate my homework\",\n",
    "    \"The homework ate my dog\",  # Same words, different meaning!\n",
    "    \"This movie is not bad\",\n",
    "    \"This movie is bad\"  # Negation lost!\n",
    "]\n",
    "\n",
    "print(\"🚨 BOW Limitation Examples:\")\n",
    "for i, text in enumerate(limitation_examples):\n",
    "    tokens = preprocess_text_solution(text, remove_stopwords=False, apply_stemming=False)\n",
    "    print(f\"\\n{i+1}. Text: '{text}'\")\n",
    "    print(f\"   Tokens: {tokens}\")\n",
    "\n",
    "# Show that different sentences can have identical BOW representations\n",
    "vectorizer_demo = CountVectorizer(lowercase=True)\n",
    "bow_demo = vectorizer_demo.fit_transform(limitation_examples)\n",
    "\n",
    "print(\"\\n📊 BOW Vectors:\")\n",
    "feature_names_demo = vectorizer_demo.get_feature_names_out()\n",
    "for i, vector in enumerate(bow_demo.toarray()):\n",
    "    print(f\"Text {i+1}: {vector}\")\n",
    "\n",
    "# Check if any vectors are identical\n",
    "if np.array_equal(bow_demo.toarray()[0], bow_demo.toarray()[1]):\n",
    "    print(\"\\n⚠️ Texts 1 and 2 have IDENTICAL BOW representations despite different meanings!\")\n",
    "else:\n",
    "    print(\"\\n✅ Texts 1 and 2 have different BOW representations.\")"
   ]
  },
  {
   "cell_type": "markdown",
   "metadata": {
    "id": "reflection1"
   },
   "source": [
    "### 🤔 **Reflection Questions - Part 1-2**\n",
    "\n",
    "Answer these questions to consolidate your understanding:"
   ]
  },
  {
   "cell_type": "markdown",
   "metadata": {
    "id": "reflection1_questions"
   },
   "source": [
    "**Question 1:** Why can't machine learning algorithms work directly with text? Explain in your own words.\n",
    "\n",
    "**Your Answer:** \n",
    "Machine learning algorithms cannot work directly with test because there were'nt design that way. At the moment, all computer algorithms can only process numbers and therefore, text is something computers don't understand. To bridge this gap, the text is converted to numbers through text preprocessing.\n",
    "\n",
    "---\n",
    "\n",
    "**Question 2:** What information is lost when we use Bag of Words representation? Give a specific example.\n",
    "\n",
    "**Your Answer:** \n",
    "When we use the Bag of Words representation, we miss the the context and semantics of words because with this method, words are counted as frequencies. So it it counts each word as individual units, thereby ignoring the meaning and relationships of words. A specific example would be:\n",
    "-\"The Dog chased the Cat\"\n",
    "-\"The Cat chased the Dog\"\n",
    "When using the Bag of Words representation, these two sentences are the same because they contain the same words, Which is not quite right cosidering they have different meanings. \n",
    "\n",
    "\n",
    "\n",
    "---\n",
    "\n",
    "**Question 3:** Look at the sparsity percentage from our BOW visualization above. What does this tell us about the efficiency of BOW representation?\n",
    "\n",
    "**Your Answer:** \n",
    "_[The 75.6% sparsity reflects that each reveiw uses only afraction of the 27-word vocabulary with an average of 6.6 words per reveiW, which is typical for BoW. This indicates a diverse word usage across reveiws, but the moderate sparsity suggests some word overlap (e.g, \"great\" appears in reveiw 1,2 and 5). The representation captures key terms (e.g \"great\" and \"acting\"). However, there are some limitations. The moderate sparsity suggests the vocabulary might be slightly inflated (27 words for 5 reviews, some with low usage like “confused”). This could reduce representational efficiency if rare words add noise.]_\n",
    "\n",
    "---\n",
    "\n",
    "**Question 4:** In what scenarios might BOW representation still be useful despite its limitations?\n",
    "\n",
    "**Your Answer:** \n",
    "_[Despite it's limitations; like ignoring word order, context or semantics, The BoW representation still remains useful in cases where simplicity and efficiency are prioritized over deep linguistic understanding.]_mm"
   ]
  },
  {
   "cell_type": "markdown",
   "metadata": {
    "id": "day3_header"
   },
   "source": [
    "# 📅 Part 3: TF-IDF & N-grams - Weighted Representations\n",
    "\n",
    "## 🎯 **Part 3 Goals:**\n",
    "- Understand and implement TF-IDF weighting\n",
    "- Explore N-gram analysis for capturing word sequences\n",
    "- Calculate document similarity using cosine similarity\n",
    "- Compare different representation methods\n",
    "\n",
    "## ⚖️ TF-IDF: Not All Words Are Created Equal\n",
    "\n",
    "Imagine you're reading movie reviews. The word \"movie\" appears in almost every review, while \"cinematography\" appears rarely. Which word tells you more about a specific review? \n",
    "\n",
    "TF-IDF (Term Frequency-Inverse Document Frequency) solves this by giving higher weights to words that are:\n",
    "- **Frequent in the document** (TF - Term Frequency)\n",
    "- **Rare across the collection** (IDF - Inverse Document Frequency)\n",
    "\n",
    "### 📐 **Mathematical Foundation:**\n",
    "- **TF(term, doc)** = count(term) / total_terms_in_doc\n",
    "- **IDF(term)** = log(N_docs / (N_docs_containing_term + 1))\n",
    "- **TF-IDF** = TF × IDF"
   ]
  },
  {
   "cell_type": "markdown",
   "metadata": {
    "id": "tfidf_manual"
   },
   "source": [
    "### 🧮 Manual TF-IDF Calculation\n",
    "\n",
    "Let's calculate TF-IDF step by step to understand the math:"
   ]
  },
  {
   "cell_type": "code",
   "execution_count": 14,
   "metadata": {
    "id": "tfidf_manual_code"
   },
   "outputs": [
    {
     "name": "stdout",
     "output_type": "stream",
     "text": [
      "📚 Simple Corpus for TF-IDF Calculation:\n",
      "Doc 1: 'the movie is great'\n",
      "Doc 2: 'the film is excellent'\n",
      "\n",
      "🔤 Tokenized: [['the', 'movie', 'is', 'great'], ['the', 'film', 'is', 'excellent']]\n",
      "\n",
      "📖 Vocabulary: ['excellent', 'film', 'great', 'is', 'movie', 'the']\n",
      "\n",
      "📊 Term Frequency (TF) Calculation:\n",
      "\n",
      "Doc 1 (length: 4):\n",
      "  'excellent': count=0, TF=0.000\n",
      "  'film': count=0, TF=0.000\n",
      "  'great': count=1, TF=0.250\n",
      "  'is': count=1, TF=0.250\n",
      "  'movie': count=1, TF=0.250\n",
      "  'the': count=1, TF=0.250\n",
      "\n",
      "Doc 2 (length: 4):\n",
      "  'excellent': count=1, TF=0.250\n",
      "  'film': count=1, TF=0.250\n",
      "  'great': count=0, TF=0.000\n",
      "  'is': count=1, TF=0.250\n",
      "  'movie': count=0, TF=0.000\n",
      "  'the': count=1, TF=0.250\n",
      "\n",
      "📊 Inverse Document Frequency (IDF) Calculation:\n",
      "  'excellent': appears in 1/2 docs, IDF=0.000\n",
      "  'film': appears in 1/2 docs, IDF=0.000\n",
      "  'great': appears in 1/2 docs, IDF=0.000\n",
      "  'is': appears in 2/2 docs, IDF=-0.405\n",
      "  'movie': appears in 1/2 docs, IDF=0.000\n",
      "  'the': appears in 2/2 docs, IDF=-0.405\n",
      "\n",
      "📊 TF-IDF Calculation:\n",
      "\n",
      "Doc 1 TF-IDF:\n",
      "  'excellent': 0.000\n",
      "  'film': 0.000\n",
      "  'great': 0.000\n",
      "  'is': -0.101\n",
      "  'movie': 0.000\n",
      "  'the': -0.101\n",
      "\n",
      "Doc 2 TF-IDF:\n",
      "  'excellent': 0.000\n",
      "  'film': 0.000\n",
      "  'great': 0.000\n",
      "  'is': -0.101\n",
      "  'movie': 0.000\n",
      "  'the': -0.101\n",
      "\n",
      "📊 TF-IDF Matrix:\n",
      "       excellent  film  great     is  movie    the\n",
      "Doc 1        0.0   0.0    0.0 -0.101    0.0 -0.101\n",
      "Doc 2        0.0   0.0    0.0 -0.101    0.0 -0.101\n"
     ]
    }
   ],
   "source": [
    "# Simple example for manual TF-IDF calculation\n",
    "simple_corpus = [\n",
    "    \"the movie is great\",\n",
    "    \"the film is excellent\"\n",
    "]\n",
    "\n",
    "print(\"📚 Simple Corpus for TF-IDF Calculation:\")\n",
    "for i, doc in enumerate(simple_corpus):\n",
    "    print(f\"Doc {i+1}: '{doc}'\")\n",
    "\n",
    "# Tokenize documents\n",
    "tokenized_docs = [doc.split() for doc in simple_corpus]\n",
    "print(f\"\\n🔤 Tokenized: {tokenized_docs}\")\n",
    "\n",
    "# Build vocabulary\n",
    "vocab = sorted(set(word for doc in tokenized_docs for word in doc))\n",
    "print(f\"\\n📖 Vocabulary: {vocab}\")\n",
    "\n",
    "# Calculate TF for each document\n",
    "print(\"\\n📊 Term Frequency (TF) Calculation:\")\n",
    "tf_matrix = []\n",
    "for i, doc in enumerate(tokenized_docs):\n",
    "    doc_length = len(doc)\n",
    "    tf_vector = []\n",
    "    print(f\"\\nDoc {i+1} (length: {doc_length}):\")\n",
    "    for word in vocab:\n",
    "        count = doc.count(word)\n",
    "        tf = count / doc_length\n",
    "        tf_vector.append(tf)\n",
    "        print(f\"  '{word}': count={count}, TF={tf:.3f}\")\n",
    "    tf_matrix.append(tf_vector)\n",
    "\n",
    "# Calculate IDF\n",
    "print(\"\\n📊 Inverse Document Frequency (IDF) Calculation:\")\n",
    "n_docs = len(tokenized_docs)\n",
    "idf_vector = []\n",
    "for word in vocab:\n",
    "    docs_containing_word = sum(1 for doc in tokenized_docs if word in doc)\n",
    "    idf = math.log(n_docs / (docs_containing_word + 1))\n",
    "    idf_vector.append(idf)\n",
    "    print(f\"  '{word}': appears in {docs_containing_word}/{n_docs} docs, IDF={idf:.3f}\")\n",
    "\n",
    "# Calculate TF-IDF\n",
    "print(\"\\n📊 TF-IDF Calculation:\")\n",
    "tfidf_matrix = []\n",
    "for i, tf_vector in enumerate(tf_matrix):\n",
    "    tfidf_vector = [tf * idf for tf, idf in zip(tf_vector, idf_vector)]\n",
    "    tfidf_matrix.append(tfidf_vector)\n",
    "    print(f\"\\nDoc {i+1} TF-IDF:\")\n",
    "    for j, (word, tfidf) in enumerate(zip(vocab, tfidf_vector)):\n",
    "        print(f\"  '{word}': {tfidf:.3f}\")\n",
    "\n",
    "# Create DataFrame for better visualization\n",
    "tfidf_df = pd.DataFrame(tfidf_matrix, columns=vocab, index=[f\"Doc {i+1}\" for i in range(len(simple_corpus))])\n",
    "print(\"\\n📊 TF-IDF Matrix:\")\n",
    "print(tfidf_df.round(3))"
   ]
  },
  {
   "cell_type": "markdown",
   "metadata": {
    "id": "exercise3"
   },
   "source": [
    "### 🏋️‍♀️ **Exercise 3: Implement TF-IDF from Scratch**\n",
    "\n",
    "Now implement your own TF-IDF function!"
   ]
  },
  {
   "cell_type": "code",
   "execution_count": 15,
   "metadata": {
    "id": "exercise3_code"
   },
   "outputs": [
    {
     "name": "stdout",
     "output_type": "stream",
     "text": [
      "  'excellent': appears in 2/3 docs, IDF=0.000\n",
      "  'film': appears in 1/3 docs, IDF=0.405\n",
      "  'great': appears in 1/3 docs, IDF=0.405\n",
      "  'movie': appears in 2/3 docs, IDF=0.000\n",
      "\n",
      "Doc 1 TF-IDF:\n",
      "  'excellent': 0.000\n",
      "  'film': 0.000\n",
      "  'great': 0.203\n",
      "  'movie': 0.000\n",
      "\n",
      "Doc 2 TF-IDF:\n",
      "  'excellent': 0.000\n",
      "  'film': 0.203\n",
      "  'great': 0.000\n",
      "  'movie': 0.000\n",
      "\n",
      "Doc 3 TF-IDF:\n",
      "  'excellent': 0.000\n",
      "  'film': 0.000\n",
      "  'great': 0.000\n",
      "  'movie': 0.000\n",
      "\n",
      "Vocabulary: ['excellent', 'film', 'great', 'movie']\n",
      "TF-IDF Matrix:\n",
      "Doc 1: [0.0, 0.0, 0.203, 0.0]\n",
      "Doc 2: [0.0, 0.203, 0.0, 0.0]\n",
      "Doc 3: [0.0, 0.0, 0.0, 0.0]\n"
     ]
    }
   ],
   "source": [
    "# def calculate_tfidf(documents):\n",
    "#     \"\"\"\n",
    "#     Calculate TF-IDF representation for a list of documents.\n",
    "    \n",
    "#     Args:\n",
    "#         documents (list): List of documents, where each document is a list of tokens\n",
    "    \n",
    "#     Returns:\n",
    "#         tuple: (vocabulary, tfidf_matrix)\n",
    "#     \"\"\"\n",
    "#     # Build vocabulary\n",
    "#     vocabulary = sorted(set(word for doc in documents for word in doc))\n",
    "#     n_docs = len(documents)\n",
    "    \n",
    "#     # Calculate IDF for each word\n",
    "#     idf_vector = []\n",
    "#     for word in vocabulary:\n",
    "#         # TODO: Count how many documents contain this word\n",
    "#         docs_containing_word = sum(1 for doc in tokenized_docs if word in doc)\n",
    "        \n",
    "#         # TODO: Calculate IDF using the formula: log(n_docs / (docs_containing_word + 1))\n",
    "#         idf = math.log(n_docs / (docs_containing_word + 1))\n",
    "#         idf_vector.append(idf)\n",
    "#     print(f\"  '{word}': appears in {docs_containing_word}/{n_docs} docs, IDF={idf:.3f}\")\n",
    "\n",
    "        \n",
    "#     # Calculate TF-IDF for each document\n",
    "#     tfidf_matrix = []\n",
    "#     for doc in documents:\n",
    "#         doc_length = len(doc)\n",
    "#         tfidf_vector = []\n",
    "        \n",
    "#         for i, word in enumerate(vocabulary):\n",
    "#             # TODO: Calculate TF (term frequency)\n",
    "#             tf = count / doc_length\n",
    "            \n",
    "#             # TODO: Calculate TF-IDF by multiplying TF and IDF\n",
    "#             tfidf = [tf * idf for tf, idf in zip(tf_vector, idf_vector)]\n",
    "#     tfidf_matrix.append(tfidf_vector)\n",
    "#     print(f\"\\nDoc {i+1} TF-IDF:\")\n",
    "#     for j, (word, tfidf) in enumerate(zip(vocab, tfidf_vector)):\n",
    "#      print(f\"  '{word}': {tfidf:.3f}\")\n",
    "#     tfidf_vector.append(tfidf)\n",
    "        \n",
    "#     tfidf_matrix.append(tfidf_vector)\n",
    "    \n",
    "#     return vocabulary, tfidf_matrix\n",
    "\n",
    "\n",
    "# # Test your function\n",
    "# test_docs = [[\"movie\", \"great\"], [\"film\", \"excellent\"], [\"movie\", \"excellent\"]]\n",
    "# vocab, tfidf_result = calculate_tfidf(test_docs)\n",
    "\n",
    "# print(f\"Vocabulary: {vocab}\")\n",
    "# print(f\"TF-IDF Matrix:\")\n",
    "# for i, vector in enumerate(tfidf_result):\n",
    "#     print(f\"Doc {i+1}: {[round(x, 3) for x in vector]}\")\n",
    "\n",
    "\n",
    "\n",
    "import math\n",
    "\n",
    "def calculate_tfidf(documents):\n",
    "    \"\"\"\n",
    "    Calculate TF-IDF representation for a list of documents.\n",
    "    \n",
    "    Args:\n",
    "        documents (list): List of documents, where each document is a list of tokens\n",
    "    \n",
    "    Returns:\n",
    "        tuple: (vocabulary, tfidf_matrix)\n",
    "    \"\"\"\n",
    "    # Build vocabulary\n",
    "    vocabulary = sorted(set(word for doc in documents for word in doc))\n",
    "    n_docs = len(documents)\n",
    "    \n",
    "    # Calculate IDF for each word\n",
    "    idf_vector = []\n",
    "    for word in vocabulary:\n",
    "        docs_containing_word = sum(1 for doc in documents if word in doc)\n",
    "        idf = math.log(n_docs / (docs_containing_word + 1))\n",
    "        idf_vector.append(idf)\n",
    "        print(f\"  '{word}': appears in {docs_containing_word}/{n_docs} docs, IDF={idf:.3f}\")\n",
    "    \n",
    "    # Calculate TF-IDF for each document\n",
    "    tfidf_matrix = []\n",
    "    for doc_index, doc in enumerate(documents):\n",
    "        doc_length = len(doc)\n",
    "        tfidf_vector = []\n",
    "\n",
    "        for i, word in enumerate(vocabulary):\n",
    "            tf = doc.count(word) / doc_length\n",
    "            tfidf = tf * idf_vector[i]\n",
    "            tfidf_vector.append(tfidf)\n",
    "        \n",
    "        tfidf_matrix.append(tfidf_vector)\n",
    "        print(f\"\\nDoc {doc_index + 1} TF-IDF:\")\n",
    "        for word, tfidf in zip(vocabulary, tfidf_vector):\n",
    "            print(f\"  '{word}': {tfidf:.3f}\")\n",
    "    \n",
    "    return vocabulary, tfidf_matrix\n",
    "\n",
    "\n",
    "# Test your function\n",
    "test_docs = [[\"movie\", \"great\"], [\"film\", \"excellent\"], [\"movie\", \"excellent\"]]\n",
    "vocab, tfidf_result = calculate_tfidf(test_docs)\n",
    "\n",
    "print(f\"\\nVocabulary: {vocab}\")\n",
    "print(\"TF-IDF Matrix:\")\n",
    "for i, vector in enumerate(tfidf_result):\n",
    "    print(f\"Doc {i+1}: {[round(x, 3) for x in vector]}\")\n"
   ]
  },
  {
   "cell_type": "markdown",
   "metadata": {
    "id": "solution3"
   },
   "source": [
    "**💡 Solution Check:**"
   ]
  },
  {
   "cell_type": "code",
   "execution_count": 16,
   "metadata": {
    "id": "solution3_code"
   },
   "outputs": [
    {
     "name": "stdout",
     "output_type": "stream",
     "text": [
      "✅ Solution TF-IDF Matrix:\n",
      "Doc 1: [0.0, 0.0, 0.203, 0.0]\n",
      "Doc 2: [0.0, 0.203, 0.0, 0.0]\n",
      "Doc 3: [0.0, 0.0, 0.0, 0.0]\n"
     ]
    }
   ],
   "source": [
    "# Solution for Exercise 3\n",
    "def calculate_tfidf_solution(documents):\n",
    "    vocabulary = sorted(set(word for doc in documents for word in doc))\n",
    "    n_docs = len(documents)\n",
    "    \n",
    "    # Calculate IDF\n",
    "    idf_vector = []\n",
    "    for word in vocabulary:\n",
    "        docs_containing_word = sum(1 for doc in documents if word in doc)\n",
    "        idf = math.log(n_docs / (docs_containing_word + 1))\n",
    "        idf_vector.append(idf)\n",
    "    \n",
    "    # Calculate TF-IDF\n",
    "    tfidf_matrix = []\n",
    "    for doc in documents:\n",
    "        doc_length = len(doc)\n",
    "        tfidf_vector = []\n",
    "        \n",
    "        for i, word in enumerate(vocabulary):\n",
    "            tf = doc.count(word) / doc_length\n",
    "            tfidf = tf * idf_vector[i]\n",
    "            tfidf_vector.append(tfidf)\n",
    "        \n",
    "        tfidf_matrix.append(tfidf_vector)\n",
    "    \n",
    "    return vocabulary, tfidf_matrix\n",
    "\n",
    "# Test solution\n",
    "vocab_sol, tfidf_sol = calculate_tfidf_solution(test_docs)\n",
    "print(\"✅ Solution TF-IDF Matrix:\")\n",
    "for i, vector in enumerate(tfidf_sol):\n",
    "    print(f\"Doc {i+1}: {[round(x, 3) for x in vector]}\")"
   ]
  },
  {
   "cell_type": "markdown",
   "metadata": {
    "id": "tfidf_sklearn"
   },
   "source": [
    "### 🔬 Comparing with Scikit-learn's TfidfVectorizer"
   ]
  },
  {
   "cell_type": "code",
   "execution_count": 17,
   "metadata": {
    "id": "tfidf_sklearn_code"
   },
   "outputs": [
    {
     "name": "stdout",
     "output_type": "stream",
     "text": [
      "🔬 Scikit-learn TfidfVectorizer Results:\n",
      "Vocabulary size: 27\n",
      "TF-IDF matrix shape: (5, 27)\n",
      "\n",
      "🏆 Top 5 TF-IDF words for each review:\n",
      "\n",
      "Review 1:\n",
      "  absolut: 0.430\n",
      "  fantast: 0.430\n",
      "  superb: 0.430\n",
      "  act: 0.347\n",
      "  engag: 0.347\n",
      "\n",
      "Review 2:\n",
      "  bore: 0.388\n",
      "  charact: 0.388\n",
      "  drag: 0.388\n",
      "  film: 0.388\n",
      "  flat: 0.388\n",
      "\n",
      "Review 3:\n",
      "  amaz: 0.428\n",
      "  brilliant: 0.428\n",
      "  cinematographi: 0.428\n",
      "  mustwatch: 0.428\n",
      "  perform: 0.428\n",
      "\n",
      "Review 4:\n",
      "  confus: 0.421\n",
      "  dialogu: 0.421\n",
      "  felt: 0.421\n",
      "  forc: 0.421\n",
      "  recommend: 0.421\n",
      "\n",
      "Review 5:\n",
      "  excel: 0.430\n",
      "  great: 0.430\n",
      "  kept: 0.430\n",
      "  act: 0.347\n",
      "  engag: 0.347\n"
     ]
    },
    {
     "name": "stderr",
     "output_type": "stream",
     "text": [
      "C:\\Users\\madua\\AppData\\Local\\Temp\\ipykernel_17596\\4178705439.py:38: UserWarning: Glyph 128293 (\\N{FIRE}) missing from font(s) DejaVu Sans.\n",
      "  plt.tight_layout()\n",
      "C:\\Users\\madua\\AppData\\Roaming\\Python\\Python312\\site-packages\\IPython\\core\\pylabtools.py:170: UserWarning: Glyph 128293 (\\N{FIRE}) missing from font(s) DejaVu Sans.\n",
      "  fig.canvas.print_figure(bytes_io, **kw)\n"
     ]
    },
    {
     "data": {
      "image/png": "[encoded data removed]",
      "text/plain": [
       "<Figure size 1200x600 with 2 Axes>"
      ]
     },
     "metadata": {},
     "output_type": "display_data"
    }
   ],
   "source": [
    "# Apply TF-IDF to our movie reviews\n",
    "tfidf_vectorizer = TfidfVectorizer(lowercase=True, stop_words='english')\n",
    "tfidf_matrix = tfidf_vectorizer.fit_transform(processed_texts)\n",
    "\n",
    "print(\"🔬 Scikit-learn TfidfVectorizer Results:\")\n",
    "print(f\"Vocabulary size: {len(tfidf_vectorizer.vocabulary_)}\")\n",
    "print(f\"TF-IDF matrix shape: {tfidf_matrix.shape}\")\n",
    "\n",
    "# Get feature names and convert to dense array\n",
    "feature_names = tfidf_vectorizer.get_feature_names_out()\n",
    "tfidf_dense = tfidf_matrix.toarray()\n",
    "\n",
    "# Create DataFrame for visualization\n",
    "tfidf_df = pd.DataFrame(\n",
    "    tfidf_dense,\n",
    "    columns=feature_names,\n",
    "    index=[f\"Review {i+1}\" for i in range(len(sample_reviews))]\n",
    ")\n",
    "\n",
    "# Show top TF-IDF words for each document\n",
    "print(\"\\n🏆 Top 5 TF-IDF words for each review:\")\n",
    "for i, review_idx in enumerate(tfidf_df.index):\n",
    "    top_words = tfidf_df.loc[review_idx].nlargest(5)\n",
    "    print(f\"\\n{review_idx}:\")\n",
    "    for word, score in top_words.items():\n",
    "        if score > 0:\n",
    "            print(f\"  {word}: {score:.3f}\")\n",
    "\n",
    "# Visualize TF-IDF heatmap\n",
    "plt.figure(figsize=(12, 6))\n",
    "# Show only words with non-zero TF-IDF scores\n",
    "active_words = tfidf_df.columns[tfidf_df.sum() > 0][:20]\n",
    "sns.heatmap(tfidf_df[active_words], annot=True, cmap='Reds', fmt='.2f')\n",
    "plt.title('🔥 TF-IDF Heatmap (Top 20 Words)')\n",
    "plt.xlabel('Words')\n",
    "plt.ylabel('Reviews')\n",
    "plt.xticks(rotation=45)\n",
    "plt.tight_layout()\n",
    "plt.show()"
   ]
  },
  {
   "cell_type": "markdown",
   "metadata": {
    "id": "ngrams_section"
   },
   "source": [
    "## 🔗 N-grams: Capturing Word Sequences\n",
    "\n",
    "Remember how BOW lost word order? N-grams help us capture some of that information by looking at sequences of words:\n",
    "\n",
    "- **Unigrams (1-gram)**: Individual words [\"great\", \"movie\"]\n",
    "- **Bigrams (2-gram)**: Word pairs [\"great movie\", \"movie is\"]\n",
    "- **Trigrams (3-gram)**: Word triplets [\"great movie is\", \"movie is amazing\"]\n",
    "\n",
    "### 🎯 **Why N-grams Matter:**\n",
    "- \"not good\" vs \"good\" - bigrams capture negation\n",
    "- \"New York\" - should be treated as one entity\n",
    "- \"very good\" vs \"good\" - intensity matters"
   ]
  },
  {
   "cell_type": "code",
   "execution_count": 18,
   "metadata": {
    "id": "ngrams_demo"
   },
   "outputs": [
    {
     "name": "stdout",
     "output_type": "stream",
     "text": [
      "📝 Example text: 'This movie is not very good at all'\n",
      "🔤 Tokens: ['this', 'movie', 'is', 'not', 'very', 'good', 'at', 'all']\n",
      "\n",
      "1-grams: ['this', 'movie', 'is', 'not', 'very', 'good', 'at', 'all']\n",
      "\n",
      "2-grams: ['this movie', 'movie is', 'is not', 'not very', 'very good', 'good at', 'at all']\n",
      "\n",
      "3-grams: ['this movie is', 'movie is not', 'is not very', 'not very good', 'very good at', 'good at all']\n",
      "\n",
      "🔍 Information Captured:\n",
      "• Unigrams: Individual word importance\n",
      "• Bigrams: 'not very', 'very good' - captures negation and intensity\n",
      "• Trigrams: 'not very good' - captures complex sentiment patterns\n"
     ]
    }
   ],
   "source": [
    "def generate_ngrams(tokens, n):\n",
    "    \"\"\"\n",
    "    Generate n-grams from a list of tokens.\n",
    "    \n",
    "    Args:\n",
    "        tokens (list): List of tokens\n",
    "        n (int): Size of n-grams\n",
    "    \n",
    "    Returns:\n",
    "        list: List of n-grams\n",
    "    \"\"\"\n",
    "    if len(tokens) < n:\n",
    "        return []\n",
    "    \n",
    "    ngrams = []\n",
    "    for i in range(len(tokens) - n + 1):\n",
    "        ngram = ' '.join(tokens[i:i+n])\n",
    "        ngrams.append(ngram)\n",
    "    \n",
    "    return ngrams\n",
    "\n",
    "# Demonstrate n-grams with an example\n",
    "example_text = \"This movie is not very good at all\"\n",
    "example_tokens = example_text.lower().split()\n",
    "\n",
    "print(f\"📝 Example text: '{example_text}'\")\n",
    "print(f\"🔤 Tokens: {example_tokens}\")\n",
    "\n",
    "# Generate different n-grams\n",
    "for n in range(1, 4):\n",
    "    ngrams = generate_ngrams(example_tokens, n)\n",
    "    print(f\"\\n{n}-grams: {ngrams}\")\n",
    "\n",
    "# Show how n-grams capture different information\n",
    "print(\"\\n🔍 Information Captured:\")\n",
    "print(\"• Unigrams: Individual word importance\")\n",
    "print(\"• Bigrams: 'not very', 'very good' - captures negation and intensity\")\n",
    "print(\"• Trigrams: 'not very good' - captures complex sentiment patterns\")"
   ]
  },
  {
   "cell_type": "markdown",
   "metadata": {
    "id": "exercise4"
   },
   "source": [
    "### 🏋️‍♀️ **Exercise 4: N-gram Analysis**\n",
    "\n",
    "Analyze the most common n-grams in our movie reviews:"
   ]
  },
  {
   "cell_type": "code",
   "execution_count": 19,
   "metadata": {
    "id": "exercise4_code"
   },
   "outputs": [
    {
     "name": "stdout",
     "output_type": "stream",
     "text": [
      "📊 N-gram Analysis of Movie Reviews:\n",
      "\n",
      "🏆 Top 5 1-grams:\n",
      "  'movi': 3\n",
      "  'act': 2\n",
      "  'plot': 2\n",
      "  'engag': 2\n",
      "  'stori': 2\n",
      "\n",
      "🏆 Top 5 2-grams:\n",
      "  'movi absolut': 1\n",
      "  'absolut fantast': 1\n",
      "  'fantast act': 1\n",
      "  'act superb': 1\n",
      "  'superb plot': 1\n",
      "\n",
      "🏆 Top 5 3-grams:\n",
      "  'movi absolut fantast': 1\n",
      "  'absolut fantast act': 1\n",
      "  'fantast act superb': 1\n",
      "  'act superb plot': 1\n",
      "  'superb plot engag': 1\n"
     ]
    },
    {
     "name": "stderr",
     "output_type": "stream",
     "text": [
      "C:\\Users\\madua\\AppData\\Local\\Temp\\ipykernel_17596\\2148418594.py:45: UserWarning: Glyph 128279 (\\N{LINK SYMBOL}) missing from font(s) DejaVu Sans.\n",
      "  plt.tight_layout()\n",
      "C:\\Users\\madua\\AppData\\Roaming\\Python\\Python312\\site-packages\\IPython\\core\\pylabtools.py:170: UserWarning: Glyph 128279 (\\N{LINK SYMBOL}) missing from font(s) DejaVu Sans.\n",
      "  fig.canvas.print_figure(bytes_io, **kw)\n"
     ]
    },
    {
     "data": {
      "image/png": "[encoded data removed]",
      "text/plain": [
       "<Figure size 1000x600 with 1 Axes>"
      ]
     },
     "metadata": {},
     "output_type": "display_data"
    }
   ],
   "source": [
    "def analyze_ngrams(documents, n, top_k=10):\n",
    "    \"\"\"\n",
    "    Analyze the most common n-grams across documents.\n",
    "    \n",
    "    Args:\n",
    "        documents (list): List of documents (each is a list of tokens)\n",
    "        n (int): Size of n-grams\n",
    "        top_k (int): Number of top n-grams to return\n",
    "    \n",
    "    Returns:\n",
    "        list: List of (ngram, frequency) tuples\n",
    "    \"\"\"\n",
    "    all_ngrams = []\n",
    "    \n",
    "    # TODO: Generate n-grams for all documents\n",
    "    for doc in documents:\n",
    "        ngrams = generate_ngrams(doc, n)\n",
    "        all_ngrams.extend(ngrams)\n",
    "    \n",
    "    # TODO: Count n-gram frequencies\n",
    "    ngram_counts = Counter(all_ngrams)\n",
    "    \n",
    "    # TODO: Return top k most common n-grams\n",
    "    return ngram_counts.most_common(top_k)\n",
    "\n",
    "# Analyze n-grams in our preprocessed reviews\n",
    "print(\"📊 N-gram Analysis of Movie Reviews:\")\n",
    "\n",
    "for n in range(1, 4):\n",
    "    top_ngrams = analyze_ngrams(preprocessed_reviews, n, top_k=5)\n",
    "    print(f\"\\n🏆 Top 5 {n}-grams:\")\n",
    "    for ngram, count in top_ngrams:\n",
    "        print(f\"  '{ngram}': {count}\")\n",
    "\n",
    "# Visualize bigram frequencies\n",
    "bigrams = analyze_ngrams(preprocessed_reviews, 2, top_k=10)\n",
    "if bigrams:\n",
    "    bigram_df = pd.DataFrame(bigrams, columns=['Bigram', 'Frequency'])\n",
    "    \n",
    "    plt.figure(figsize=(10, 6))\n",
    "    plt.barh(bigram_df['Bigram'], bigram_df['Frequency'])\n",
    "    plt.title('🔗 Top 10 Bigrams in Movie Reviews')\n",
    "    plt.xlabel('Frequency')\n",
    "    plt.ylabel('Bigrams')\n",
    "    plt.tight_layout()\n",
    "    plt.show()"
   ]
  },
  {
   "cell_type": "markdown",
   "metadata": {
    "id": "solution4"
   },
   "source": [
    "**💡 Solution Check:**"
   ]
  },
  {
   "cell_type": "code",
   "execution_count": 20,
   "metadata": {
    "id": "solution4_code"
   },
   "outputs": [
    {
     "name": "stdout",
     "output_type": "stream",
     "text": [
      "✅ Solution - Top 5 bigrams:\n",
      "  'movi absolut': 1\n",
      "  'absolut fantast': 1\n",
      "  'fantast act': 1\n",
      "  'act superb': 1\n",
      "  'superb plot': 1\n"
     ]
    }
   ],
   "source": [
    "# Solution for Exercise 4\n",
    "def analyze_ngrams_solution(documents, n, top_k=10):\n",
    "    all_ngrams = []\n",
    "    \n",
    "    for doc in documents:\n",
    "        ngrams = generate_ngrams(doc, n)\n",
    "        all_ngrams.extend(ngrams)\n",
    "    \n",
    "    ngram_counts = Counter(all_ngrams)\n",
    "    return ngram_counts.most_common(top_k)\n",
    "\n",
    "# Test solution\n",
    "print(\"✅ Solution - Top 5 bigrams:\")\n",
    "solution_bigrams = analyze_ngrams_solution(preprocessed_reviews, 2, 5)\n",
    "for ngram, count in solution_bigrams:\n",
    "    print(f\"  '{ngram}': {count}\")"
   ]
  },
  {
   "cell_type": "markdown",
   "metadata": {
    "id": "cosine_similarity"
   },
   "source": [
    "## 📐 Document Similarity with Cosine Similarity\n",
    "\n",
    "Now that we have numerical representations, we can measure how similar documents are! Cosine similarity measures the angle between two vectors:\n",
    "\n",
    "**Formula:** sim(a,b) = (a·b) / (||a|| ||b||) = cos(α)\n",
    "\n",
    "- **1.0**: Identical documents (0° angle)\n",
    "- **0.0**: Completely different documents (90° angle)\n",
    "- **-1.0**: Opposite documents (180° angle)"
   ]
  },
  {
   "cell_type": "code",
   "execution_count": 21,
   "metadata": {
    "id": "cosine_demo"
   },
   "outputs": [
    {
     "name": "stdout",
     "output_type": "stream",
     "text": [
      "📐 Cosine Similarity Matrix (TF-IDF):\n",
      "          Review 1  Review 2  Review 3  Review 4  Review 5\n",
      "Review 1     1.000     0.000     0.083     0.118     0.324\n",
      "Review 2     0.000     1.000     0.000     0.000     0.109\n",
      "Review 3     0.083     0.000     1.000     0.000     0.083\n",
      "Review 4     0.118     0.000     0.000     1.000     0.000\n",
      "Review 5     0.324     0.109     0.083     0.000     1.000\n"
     ]
    },
    {
     "name": "stderr",
     "output_type": "stream",
     "text": [
      "C:\\Users\\madua\\AppData\\Local\\Temp\\ipykernel_17596\\3911082813.py:17: UserWarning: Glyph 128208 (\\N{TRIANGULAR RULER}) missing from font(s) DejaVu Sans.\n",
      "  plt.tight_layout()\n",
      "C:\\Users\\madua\\AppData\\Roaming\\Python\\Python312\\site-packages\\IPython\\core\\pylabtools.py:170: UserWarning: Glyph 128208 (\\N{TRIANGULAR RULER}) missing from font(s) DejaVu Sans.\n",
      "  fig.canvas.print_figure(bytes_io, **kw)\n"
     ]
    },
    {
     "data": {
      "image/png": "[encoded data removed]",
      "text/plain": [
       "<Figure size 800x600 with 2 Axes>"
      ]
     },
     "metadata": {},
     "output_type": "display_data"
    },
    {
     "name": "stdout",
     "output_type": "stream",
     "text": [
      "\n",
      "🔍 Most Similar Document Pairs:\n",
      "Review 1 ↔ Review 2: 0.000\n",
      "Review 1 ↔ Review 3: 0.083\n",
      "Review 1 ↔ Review 4: 0.118\n",
      "Review 1 ↔ Review 5: 0.324\n",
      "  📝 Review 1: This movie is absolutely fantastic! The acting is ...\n",
      "  📝 Review 5: Great movie with excellent acting. The story kept ...\n",
      "\n",
      "Review 2 ↔ Review 3: 0.000\n",
      "Review 2 ↔ Review 4: 0.000\n",
      "Review 2 ↔ Review 5: 0.109\n",
      "Review 3 ↔ Review 4: 0.000\n",
      "Review 3 ↔ Review 5: 0.083\n",
      "Review 4 ↔ Review 5: 0.000\n"
     ]
    }
   ],
   "source": [
    "# Calculate cosine similarity between our movie reviews\n",
    "similarity_matrix = cosine_similarity(tfidf_matrix)\n",
    "\n",
    "print(\"📐 Cosine Similarity Matrix (TF-IDF):\")\n",
    "similarity_df = pd.DataFrame(\n",
    "    similarity_matrix,\n",
    "    index=[f\"Review {i+1}\" for i in range(len(sample_reviews))],\n",
    "    columns=[f\"Review {i+1}\" for i in range(len(sample_reviews))]\n",
    ")\n",
    "print(similarity_df.round(3))\n",
    "\n",
    "# Visualize similarity matrix\n",
    "plt.figure(figsize=(8, 6))\n",
    "sns.heatmap(similarity_df, annot=True, cmap='coolwarm', center=0, \n",
    "            square=True, fmt='.3f')\n",
    "plt.title('📐 Document Similarity Heatmap (TF-IDF + Cosine Similarity)')\n",
    "plt.tight_layout()\n",
    "plt.show()\n",
    "\n",
    "# Find most similar document pairs\n",
    "print(\"\\n🔍 Most Similar Document Pairs:\")\n",
    "for i in range(len(sample_reviews)):\n",
    "    for j in range(i+1, len(sample_reviews)):\n",
    "        similarity = similarity_matrix[i][j]\n",
    "        print(f\"Review {i+1} ↔ Review {j+1}: {similarity:.3f}\")\n",
    "        if similarity > 0.3:  # Threshold for \"similar\"\n",
    "            print(f\"  📝 Review {i+1}: {sample_reviews[i][:50]}...\")\n",
    "            print(f\"  📝 Review {j+1}: {sample_reviews[j][:50]}...\")\n",
    "            print()"
   ]
  },
  {
   "cell_type": "markdown",
   "metadata": {
    "id": "bow_vs_tfidf"
   },
   "source": [
    "### ⚖️ BOW vs TF-IDF Comparison\n",
    "\n",
    "Let's compare how BOW and TF-IDF perform for document similarity:"
   ]
  },
  {
   "cell_type": "code",
   "execution_count": 22,
   "metadata": {
    "id": "comparison_code"
   },
   "outputs": [
    {
     "name": "stdout",
     "output_type": "stream",
     "text": [
      "⚖️ BOW vs TF-IDF Similarity Comparison:\n",
      "\n",
      "BOW Similarities:\n",
      "          Review 1  Review 2  Review 3  Review 4  Review 5\n",
      "Review 1     1.000     0.000     0.154     0.154     0.429\n",
      "Review 2     0.000     1.000     0.000     0.000     0.143\n",
      "Review 3     0.154     0.000     1.000     0.000     0.154\n",
      "Review 4     0.154     0.000     0.000     1.000     0.000\n",
      "Review 5     0.429     0.143     0.154     0.000     1.000\n",
      "\n",
      "TF-IDF Similarities:\n",
      "          Review 1  Review 2  Review 3  Review 4  Review 5\n",
      "Review 1     1.000     0.000     0.083     0.118     0.324\n",
      "Review 2     0.000     1.000     0.000     0.000     0.109\n",
      "Review 3     0.083     0.000     1.000     0.000     0.083\n",
      "Review 4     0.118     0.000     0.000     1.000     0.000\n",
      "Review 5     0.324     0.109     0.083     0.000     1.000\n"
     ]
    },
    {
     "name": "stderr",
     "output_type": "stream",
     "text": [
      "c:\\Users\\madua\\AppData\\Local\\Programs\\Python\\Python312\\Lib\\site-packages\\seaborn\\utils.py:61: UserWarning: Glyph 127890 (\\N{SCHOOL SATCHEL}) missing from font(s) DejaVu Sans.\n",
      "  fig.canvas.draw()\n",
      "C:\\Users\\madua\\AppData\\Local\\Temp\\ipykernel_17596\\4206629256.py:28: UserWarning: Glyph 128293 (\\N{FIRE}) missing from font(s) DejaVu Sans.\n",
      "  plt.tight_layout()\n",
      "C:\\Users\\madua\\AppData\\Roaming\\Python\\Python312\\site-packages\\IPython\\core\\pylabtools.py:170: UserWarning: Glyph 127890 (\\N{SCHOOL SATCHEL}) missing from font(s) DejaVu Sans.\n",
      "  fig.canvas.print_figure(bytes_io, **kw)\n",
      "C:\\Users\\madua\\AppData\\Roaming\\Python\\Python312\\site-packages\\IPython\\core\\pylabtools.py:170: UserWarning: Glyph 128293 (\\N{FIRE}) missing from font(s) DejaVu Sans.\n",
      "  fig.canvas.print_figure(bytes_io, **kw)\n"
     ]
    },
    {
     "data": {
      "image/png": "[encoded data removed]",
      "text/plain": [
       "<Figure size 1500x600 with 4 Axes>"
      ]
     },
     "metadata": {},
     "output_type": "display_data"
    },
    {
     "name": "stdout",
     "output_type": "stream",
     "text": [
      "\n",
      "📊 Average difference (TF-IDF - BOW): 0.025\n",
      "📊 Max difference: 0.105\n"
     ]
    }
   ],
   "source": [
    "# Calculate BOW similarity\n",
    "bow_similarity = cosine_similarity(sklearn_bow)\n",
    "\n",
    "# Compare BOW vs TF-IDF similarities\n",
    "print(\"⚖️ BOW vs TF-IDF Similarity Comparison:\")\n",
    "print(\"\\nBOW Similarities:\")\n",
    "bow_sim_df = pd.DataFrame(\n",
    "    bow_similarity,\n",
    "    index=[f\"Review {i+1}\" for i in range(len(sample_reviews))],\n",
    "    columns=[f\"Review {i+1}\" for i in range(len(sample_reviews))]\n",
    ")\n",
    "print(bow_sim_df.round(3))\n",
    "\n",
    "print(\"\\nTF-IDF Similarities:\")\n",
    "print(similarity_df.round(3))\n",
    "\n",
    "# Visualize the comparison\n",
    "fig, (ax1, ax2) = plt.subplots(1, 2, figsize=(15, 6))\n",
    "\n",
    "sns.heatmap(bow_sim_df, annot=True, cmap='Blues', ax=ax1, \n",
    "            square=True, fmt='.3f', vmin=0, vmax=1)\n",
    "ax1.set_title('🎒 BOW Similarity')\n",
    "\n",
    "sns.heatmap(similarity_df, annot=True, cmap='Reds', ax=ax2, \n",
    "            square=True, fmt='.3f', vmin=0, vmax=1)\n",
    "ax2.set_title('🔥 TF-IDF Similarity')\n",
    "\n",
    "plt.tight_layout()\n",
    "plt.show()\n",
    "\n",
    "# Calculate differences\n",
    "diff_matrix = similarity_matrix - bow_similarity\n",
    "print(f\"\\n📊 Average difference (TF-IDF - BOW): {np.mean(np.abs(diff_matrix)):.3f}\")\n",
    "print(f\"📊 Max difference: {np.max(np.abs(diff_matrix)):.3f}\")"
   ]
  },
  {
   "cell_type": "markdown",
   "metadata": {
    "id": "reflection3"
   },
   "source": [
    "### 🤔 **Reflection Questions - Part 3**\n",
    "\n",
    "**Question 1:** How does TF-IDF improve upon simple word counts? Explain with an example.\n",
    "\n",
    "**Your Answer:** \n",
    "_[TF-IDF improves upon simple word counts (term frequency) by reducing the weight of commonly occuring word and highlighting words that are more unique or informative to a specific document. suppose we have 3 reviews:\n",
    "\"This movie is great\"\n",
    "\"This movie is not good\"\n",
    "\"Movie was great and exciting\"\n",
    "Let’s analyze the word \"movie\" vs \"exciting\". By simple word count, \"movie\" appears in all three reveiws and \"exciting\" appears in only one. would we then say \"movie\" is more important than \"exciting\".]_\n",
    "\n",
    "---\n",
    "\n",
    "**Question 2:** What advantages do bigrams and trigrams provide over unigrams? Give specific examples from the n-gram analysis above.\n",
    "\n",
    "**Your Answer:** \n",
    "_[Bigrams and trigrams (i.e., 2-grams and 3-grams) capture word context and word order, offering several advantages over unigrams (1-grams), which treat each word independently. Unigrams miss phrases where the meaning depends on adjacent words. For example, \n",
    "with unigrams,\"Not\",\"good\" shows no relationship between the two words. With bigrams, it would be \"not good\" which shows a clearly negative sentiment.]_\n",
    "\n",
    "---\n",
    "\n",
    "**Question 3:** Looking at the similarity matrices, which method (BOW or TF-IDF) seems to provide more meaningful similarity scores? Why?\n",
    "\n",
    "**Your Answer:** \n",
    "_[In the bag of words, high similarities appear even when reviews share common but uninformative words. On the other hand, TF-IDF Penalizes common words and emphasizes rare/unique terms. TF-IDF improves similarity detection by reducing noise from high-frequency, low-value words, which makes it better for clustering, classification, or retrieval tasks based on textual similarity. TF-IDF provides more meaningful similarity scores.]_\n",
    "\n",
    "---\n",
    "\n",
    "**Question 4:** What are the computational trade-offs of using higher-order n-grams (trigrams, 4-grams, etc.)?\n",
    "\n",
    "**Your Answer:** \n",
    "_[Using higher-order n-grams like trigrams or 4-grams can be really beneficial for capturing more contextual information, but they come with great computational costs. This is because it will cause an exponential growth in vocabulary which would bring about more storage needs.]_"
   ]
  },
  {
   "cell_type": "markdown",
   "metadata": {
    "id": "day4_header"
   },
   "source": [
    "# 📅 Part 4: Dense Representations - Word Embeddings\n",
    "\n",
    "## 🎯 **Part  4 Goals:**\n",
    "- Understand the distributional hypothesis\n",
    "- Explore pre-trained word embeddings (Word2Vec, GloVe)\n",
    "- Discover semantic relationships through word arithmetic\n",
    "- Compare sparse vs dense representations\n",
    "\n",
    "## 🌟 The Revolution: From Sparse to Dense\n",
    "\n",
    "So far, we've worked with **sparse representations** - vectors with mostly zeros. But what if we could represent words as **dense vectors** that capture semantic meaning?\n",
    "\n",
    "### 🧠 **The Distributional Hypothesis:**\n",
    "*\"You shall know a word by the company it keeps\"* - J.R. Firth (1957)\n",
    "\n",
    "Words that appear in similar contexts tend to have similar meanings:\n",
    "- \"The cat sat on the mat\" vs \"The dog sat on the mat\"\n",
    "- \"cat\" and \"dog\" appear in similar contexts → they're semantically related\n",
    "\n",
    "### 🎯 **Word Embeddings Benefits:**\n",
    "- **Dense**: 50-300 dimensions instead of 10,000+\n",
    "- **Semantic**: Similar words have similar vectors\n",
    "- **Arithmetic**: king - man + woman ≈ queen\n",
    "- **Efficient**: Faster computation and storage"
   ]
  },
  {
   "cell_type": "markdown",
   "metadata": {
    "id": "load_embeddings"
   },
   "source": [
    "## 📥 Loading Pre-trained Word Embeddings\n",
    "\n",
    "Training word embeddings requires massive datasets and computational resources. Fortunately, we can use pre-trained embeddings!"
   ]
  },
  {
   "cell_type": "code",
   "execution_count": 23,
   "metadata": {
    "id": "load_embeddings_code"
   },
   "outputs": [
    {
     "name": "stdout",
     "output_type": "stream",
     "text": [
      "📥 Loading pre-trained Word2Vec embeddings...\n",
      "⏳ This might take a few minutes on first run...\n",
      "✅ Successfully loaded GloVe embeddings!\n",
      "\n",
      "📊 Embedding Statistics:\n",
      "Vector dimensions: 50\n",
      "Vocabulary size: 400000\n",
      "\n",
      "🎉 Ready to explore word embeddings!\n"
     ]
    }
   ],
   "source": [
    "# Load pre-trained Word2Vec embeddings (this might take a few minutes)\n",
    "print(\"📥 Loading pre-trained Word2Vec embeddings...\")\n",
    "print(\"⏳ This might take a few minutes on first run...\")\n",
    "\n",
    "try:\n",
    "    # Load a smaller model for faster loading\n",
    "    word_vectors = api.load('glove-wiki-gigaword-50')  # 50-dimensional GloVe vectors\n",
    "    print(\"✅ Successfully loaded GloVe embeddings!\")\n",
    "except:\n",
    "    print(\"⚠️ Could not load embeddings. Using a mock version for demonstration.\")\n",
    "    # Create a mock word_vectors object for demonstration\n",
    "    class MockWordVectors:\n",
    "        def __init__(self):\n",
    "            self.vocab = {'king', 'queen', 'man', 'woman', 'movie', 'film', 'good', 'great', 'bad', 'terrible'}\n",
    "        \n",
    "        def __contains__(self, word):\n",
    "            return word in self.vocab\n",
    "        \n",
    "        def similarity(self, w1, w2):\n",
    "            # Mock similarities\n",
    "            pairs = {('king', 'queen'): 0.8, ('movie', 'film'): 0.9, ('good', 'great'): 0.7}\n",
    "            return pairs.get((w1, w2), pairs.get((w2, w1), 0.3))\n",
    "        \n",
    "        def most_similar(self, word, topn=5):\n",
    "            mock_results = {\n",
    "                'king': [('queen', 0.8), ('prince', 0.7), ('royal', 0.6)],\n",
    "                'movie': [('film', 0.9), ('cinema', 0.7), ('theater', 0.6)]\n",
    "            }\n",
    "            return mock_results.get(word, [('similar', 0.5)])\n",
    "    \n",
    "    word_vectors = MockWordVectors()\n",
    "\n",
    "print(f\"\\n📊 Embedding Statistics:\")\n",
    "if hasattr(word_vectors, 'vector_size'):\n",
    "    print(f\"Vector dimensions: {word_vectors.vector_size}\")\n",
    "    print(f\"Vocabulary size: {len(word_vectors.key_to_index)}\")\n",
    "else:\n",
    "    print(\"Using mock embeddings for demonstration\")\n",
    "\n",
    "print(\"\\n🎉 Ready to explore word embeddings!\")"
   ]
  },
  {
   "cell_type": "markdown",
   "metadata": {
    "id": "word_similarity"
   },
   "source": [
    "## 🔍 Exploring Word Similarities\n",
    "\n",
    "Let's see how word embeddings capture semantic relationships:"
   ]
  },
  {
   "cell_type": "code",
   "execution_count": 24,
   "metadata": {
    "id": "word_similarity_code"
   },
   "outputs": [
    {
     "name": "stdout",
     "output_type": "stream",
     "text": [
      "🔍 Word Similarity Exploration:\n",
      "\n",
      "📊 Pairwise Similarities:\n",
      "  movie ↔ film: 0.931\n",
      "  good ↔ great: 0.798\n",
      "  bad ↔ terrible: 0.777\n",
      "  king ↔ queen: 0.784\n",
      "  movie ↔ king: 0.422\n",
      "  good ↔ bad: 0.796\n",
      "\n",
      "🎯 Most Similar Words:\n",
      "\n",
      "'movie' is most similar to:\n",
      "  movies: 0.932\n",
      "  film: 0.931\n",
      "  films: 0.894\n",
      "  comedy: 0.890\n",
      "  hollywood: 0.872\n",
      "\n",
      "'good' is most similar to:\n",
      "  better: 0.928\n",
      "  really: 0.922\n",
      "  always: 0.917\n",
      "  sure: 0.903\n",
      "  something: 0.901\n",
      "\n",
      "'king' is most similar to:\n",
      "  prince: 0.824\n",
      "  queen: 0.784\n",
      "  ii: 0.775\n",
      "  emperor: 0.774\n",
      "  son: 0.767\n"
     ]
    }
   ],
   "source": [
    "# Test words for similarity exploration\n",
    "test_words = ['movie', 'film', 'good', 'great', 'bad', 'terrible', 'king', 'queen']\n",
    "\n",
    "print(\"🔍 Word Similarity Exploration:\")\n",
    "print(\"\\n📊 Pairwise Similarities:\")\n",
    "\n",
    "# Calculate similarities between word pairs\n",
    "similarity_pairs = [\n",
    "    ('movie', 'film'),\n",
    "    ('good', 'great'),\n",
    "    ('bad', 'terrible'),\n",
    "    ('king', 'queen'),\n",
    "    ('movie', 'king'),  # Should be low\n",
    "    ('good', 'bad')     # Should be low\n",
    "]\n",
    "\n",
    "for word1, word2 in similarity_pairs:\n",
    "    if word1 in word_vectors and word2 in word_vectors:\n",
    "        similarity = word_vectors.similarity(word1, word2)\n",
    "        print(f\"  {word1} ↔ {word2}: {similarity:.3f}\")\n",
    "    else:\n",
    "        print(f\"  {word1} ↔ {word2}: (not in vocabulary)\")\n",
    "\n",
    "# Find most similar words\n",
    "print(\"\\n🎯 Most Similar Words:\")\n",
    "query_words = ['movie', 'good', 'king']\n",
    "\n",
    "for word in query_words:\n",
    "    if word in word_vectors:\n",
    "        try:\n",
    "            similar_words = word_vectors.most_similar(word, topn=5)\n",
    "            print(f\"\\n'{word}' is most similar to:\")\n",
    "            for similar_word, score in similar_words:\n",
    "                print(f\"  {similar_word}: {score:.3f}\")\n",
    "        except:\n",
    "            print(f\"\\n'{word}': Could not find similar words\")\n",
    "    else:\n",
    "        print(f\"\\n'{word}': Not in vocabulary\")"
   ]
  },
  {
   "cell_type": "markdown",
   "metadata": {
    "id": "word_arithmetic"
   },
   "source": [
    "## 🧮 Word Arithmetic: The Magic of Embeddings\n",
    "\n",
    "One of the most fascinating properties of word embeddings is that they support arithmetic operations that capture semantic relationships!"
   ]
  },
  {
   "cell_type": "code",
   "execution_count": 25,
   "metadata": {
    "id": "word_arithmetic_code"
   },
   "outputs": [
    {
     "name": "stdout",
     "output_type": "stream",
     "text": [
      "🧮 Word Arithmetic Examples:\n",
      "\n",
      "🔮 king - man + woman = ?\n",
      "   Expected: queen\n",
      "   Results:\n",
      "     queen: 0.852\n",
      "     throne: 0.766\n",
      "     prince: 0.759\n",
      "\n",
      "🔮 good - bad + terrible = ?\n",
      "   Expected: awful\n",
      "   Results:\n",
      "     moment: 0.845\n",
      "     truly: 0.829\n",
      "     wonderful: 0.806\n",
      "\n",
      "💡 This works because embeddings capture semantic relationships!\n",
      "   The vector from 'man' to 'king' is similar to the vector from 'woman' to 'queen'\n"
     ]
    }
   ],
   "source": [
    "print(\"🧮 Word Arithmetic Examples:\")\n",
    "\n",
    "# Famous example: king - man + woman ≈ queen\n",
    "arithmetic_examples = [\n",
    "    ('king', 'man', 'woman', 'queen'),  # king - man + woman = ?\n",
    "    ('good', 'bad', 'terrible', 'awful'),  # good - bad + terrible = ?\n",
    "]\n",
    "\n",
    "for word1, word2, word3, expected in arithmetic_examples:\n",
    "    print(f\"\\n🔮 {word1} - {word2} + {word3} = ?\")\n",
    "    print(f\"   Expected: {expected}\")\n",
    "    \n",
    "    # Check if all words are in vocabulary\n",
    "    if all(word in word_vectors for word in [word1, word2, word3]):\n",
    "        try:\n",
    "            # Perform word arithmetic\n",
    "            if hasattr(word_vectors, 'most_similar'):\n",
    "                result = word_vectors.most_similar(\n",
    "                    positive=[word1, word3], \n",
    "                    negative=[word2], \n",
    "                    topn=3\n",
    "                )\n",
    "                print(\"   Results:\")\n",
    "                for word, score in result:\n",
    "                    print(f\"     {word}: {score:.3f}\")\n",
    "            else:\n",
    "                print(\"   (Mock result: queen: 0.85)\")\n",
    "        except Exception as e:\n",
    "            print(f\"   Error: {e}\")\n",
    "    else:\n",
    "        missing = [w for w in [word1, word2, word3] if w not in word_vectors]\n",
    "        print(f\"   Missing words: {missing}\")\n",
    "\n",
    "print(\"\\n💡 This works because embeddings capture semantic relationships!\")\n",
    "print(\"   The vector from 'man' to 'king' is similar to the vector from 'woman' to 'queen'\")"
   ]
  },
  {
   "cell_type": "markdown",
   "metadata": {
    "id": "exercise5"
   },
   "source": [
    "### 🏋️‍♀️ **Exercise 5: Embedding Exploration**\n",
    "\n",
    "Explore word embeddings with your own examples:"
   ]
  },
  {
   "cell_type": "code",
   "execution_count": 26,
   "metadata": {
    "id": "exercise5_code"
   },
   "outputs": [
    {
     "name": "stdout",
     "output_type": "stream",
     "text": [
      "📊 Analyzing relationships for: ['movie', 'film', 'cinema', 'actor', 'director', 'script', 'good', 'bad']\n",
      "\n",
      "📊 Similarity Matrix:\n",
      "          movie   film  cinema  actor  director  script   good    bad\n",
      "movie     1.000  0.931   0.723  0.757     0.485   0.644  0.581  0.600\n",
      "film      0.931  1.000   0.782  0.784     0.610   0.654  0.501  0.493\n",
      "cinema    0.723  0.782   1.000  0.529     0.462   0.420  0.342  0.279\n",
      "actor     0.757  0.784   0.529  1.000     0.552   0.501  0.442  0.358\n",
      "director  0.485  0.610   0.462  0.552     1.000   0.322  0.477  0.341\n",
      "script    0.644  0.654   0.420  0.501     0.322   1.000  0.453  0.445\n",
      "good      0.581  0.501   0.342  0.442     0.477   0.453  1.000  0.796\n",
      "bad       0.600  0.493   0.279  0.358     0.341   0.445  0.796  1.000\n",
      "\n",
      "🎯 Most Similar Words:\n",
      "\n",
      "movie:\n",
      "  movies: 0.932\n",
      "  film: 0.931\n",
      "  films: 0.894\n",
      "\n",
      "film:\n",
      "  movie: 0.931\n",
      "  films: 0.924\n",
      "  documentary: 0.872\n",
      "\n",
      "cinema:\n",
      "  theater: 0.791\n",
      "  theatre: 0.791\n",
      "  theatrical: 0.788\n",
      "\n",
      "actor:\n",
      "  starring: 0.873\n",
      "  starred: 0.871\n",
      "  actress: 0.852\n",
      "\n",
      "director:\n",
      "  executive: 0.808\n",
      "  assistant: 0.776\n",
      "  chief: 0.768\n",
      "\n",
      "script:\n",
      "  scripts: 0.835\n",
      "  written: 0.806\n",
      "  writing: 0.760\n",
      "\n",
      "good:\n",
      "  better: 0.928\n",
      "  really: 0.922\n",
      "  always: 0.917\n",
      "\n",
      "bad:\n",
      "  worse: 0.888\n",
      "  unfortunately: 0.865\n",
      "  too: 0.861\n"
     ]
    }
   ],
   "source": [
    "def explore_word_relationships(word_vectors, word_list):\n",
    "    \"\"\"\n",
    "    Explore relationships between words using embeddings.\n",
    "    \n",
    "    Args:\n",
    "        word_vectors: Pre-trained word embedding model\n",
    "        word_list (list): List of words to explore\n",
    "    \n",
    "    Returns:\n",
    "        dict: Dictionary with similarity matrix and most similar words\n",
    "    \"\"\"\n",
    "    # TODO: Filter words that exist in the vocabulary\n",
    "    valid_words = [word for word in word_list if word in word_vectors]\n",
    "    \n",
    "    if len(valid_words) < 2:\n",
    "        print(\"Not enough valid words for analysis\")\n",
    "        return None\n",
    "    \n",
    "    print(f\"📊 Analyzing relationships for: {valid_words}\")\n",
    "    \n",
    "    # TODO: Create a similarity matrix\n",
    "    similarity_matrix = []\n",
    "    for word1 in valid_words:\n",
    "        row = []\n",
    "        for word2 in valid_words:\n",
    "            if word1 == word2:\n",
    "                similarity = 1.0\n",
    "            else:\n",
    "                # TODO: Calculate similarity between word1 and word2\n",
    "                similarity = word_vectors.similarity(word1, word2)\n",
    "            row.append(similarity)\n",
    "        similarity_matrix.append(row)\n",
    "    \n",
    "    # Create DataFrame for visualization\n",
    "    sim_df = pd.DataFrame(similarity_matrix, index=valid_words, columns=valid_words)\n",
    "    \n",
    "    # TODO: Find most similar words for each word\n",
    "    most_similar_dict = {}\n",
    "    for word in valid_words:\n",
    "        try:\n",
    "            # YOUR CODE HERE: Get most similar words\n",
    "            similar = word_vectors.most_similar(word, topn=5)\n",
    "            most_similar_dict[word] = similar\n",
    "        except:\n",
    "            most_similar_dict[word] = [(\"unknown\", 0.0)]\n",
    "    \n",
    "    return {\n",
    "        'similarity_matrix': sim_df,\n",
    "        'most_similar': most_similar_dict\n",
    "    }\n",
    "\n",
    "# Test with movie-related words\n",
    "movie_words = ['movie', 'film', 'cinema', 'actor', 'director', 'script', 'good', 'bad']\n",
    "results = explore_word_relationships(word_vectors, movie_words)\n",
    "\n",
    "if results:\n",
    "    print(\"\\n📊 Similarity Matrix:\")\n",
    "    print(results['similarity_matrix'].round(3))\n",
    "    \n",
    "    print(\"\\n🎯 Most Similar Words:\")\n",
    "    for word, similar_list in results['most_similar'].items():\n",
    "        print(f\"\\n{word}:\")\n",
    "        for sim_word, score in similar_list[:3]:\n",
    "            print(f\"  {sim_word}: {score:.3f}\")"
   ]
  },
  {
   "cell_type": "markdown",
   "metadata": {
    "id": "solution5"
   },
   "source": [
    "**💡 Solution Check:**"
   ]
  },
  {
   "cell_type": "code",
   "execution_count": 27,
   "metadata": {
    "id": "solution5_code"
   },
   "outputs": [
    {
     "name": "stdout",
     "output_type": "stream",
     "text": [
      "✅ Solution implemented successfully!\n"
     ]
    }
   ],
   "source": [
    "# Solution for Exercise 5\n",
    "def explore_word_relationships_solution(word_vectors, word_list):\n",
    "    # Filter valid words\n",
    "    valid_words = [word for word in word_list if word in word_vectors]\n",
    "    \n",
    "    if len(valid_words) < 2:\n",
    "        print(\"Not enough valid words for analysis\")\n",
    "        return None\n",
    "    \n",
    "    print(f\"📊 Analyzing relationships for: {valid_words}\")\n",
    "    \n",
    "    # Create similarity matrix\n",
    "    similarity_matrix = []\n",
    "    for word1 in valid_words:\n",
    "        row = []\n",
    "        for word2 in valid_words:\n",
    "            if word1 == word2:\n",
    "                similarity = 1.0\n",
    "            else:\n",
    "                similarity = word_vectors.similarity(word1, word2)\n",
    "            row.append(similarity)\n",
    "        similarity_matrix.append(row)\n",
    "    \n",
    "    sim_df = pd.DataFrame(similarity_matrix, index=valid_words, columns=valid_words)\n",
    "    \n",
    "    # Find most similar words\n",
    "    most_similar_dict = {}\n",
    "    for word in valid_words:\n",
    "        try:\n",
    "            similar = word_vectors.most_similar(word, topn=3)\n",
    "            most_similar_dict[word] = similar\n",
    "        except:\n",
    "            most_similar_dict[word] = [(\"unknown\", 0.0)]\n",
    "    \n",
    "    return {\n",
    "        'similarity_matrix': sim_df,\n",
    "        'most_similar': most_similar_dict\n",
    "    }\n",
    "\n",
    "print(\"✅ Solution implemented successfully!\")"
   ]
  },
  {
   "cell_type": "markdown",
   "metadata": {
    "id": "sparse_vs_dense"
   },
   "source": [
    "## ⚖️ Sparse vs Dense: The Great Comparison\n",
    "\n",
    "Let's compare our sparse representations (BOW, TF-IDF) with dense embeddings:"
   ]
  },
  {
   "cell_type": "code",
   "execution_count": 28,
   "metadata": {
    "id": "comparison_table"
   },
   "outputs": [
    {
     "name": "stdout",
     "output_type": "stream",
     "text": [
      "⚖️ Sparse vs Dense Representations Comparison:\n",
      "                 Aspect          BOW/TF-IDF (Sparse)     Word Embeddings (Dense)\n",
      "         Dimensionality            High (vocab size)           Low (50-300 dims)\n",
      "               Sparsity     Very sparse (>95% zeros)            Dense (no zeros)\n",
      " Semantic Understanding                      Limited Rich semantic relationships\n",
      "             Word Order        Lost (except n-grams)                        Lost\n",
      "      Training Required                      Minimal    Extensive (large corpus)\n",
      "       Interpretability   High (direct word mapping)     Low (abstract features)\n",
      "           Memory Usage High (large sparse matrices)       Low (compact vectors)\n",
      "      Computation Speed         Fast for small vocab        Fast for large vocab\n",
      "Out-of-Vocabulary Words               Easy to handle                 Challenging\n",
      "\n",
      "📊 Practical Example - Dimensionality:\n",
      "Our TF-IDF vocabulary size: 27 dimensions\n",
      "Word embedding dimensions: 50 dimensions\n",
      "Dimensionality reduction: 0.5x smaller!\n"
     ]
    }
   ],
   "source": [
    "# Create a comparison table\n",
    "comparison_data = {\n",
    "    'Aspect': [\n",
    "        'Dimensionality',\n",
    "        'Sparsity',\n",
    "        'Semantic Understanding',\n",
    "        'Word Order',\n",
    "        'Training Required',\n",
    "        'Interpretability',\n",
    "        'Memory Usage',\n",
    "        'Computation Speed',\n",
    "        'Out-of-Vocabulary Words'\n",
    "    ],\n",
    "    'BOW/TF-IDF (Sparse)': [\n",
    "        'High (vocab size)',\n",
    "        'Very sparse (>95% zeros)',\n",
    "        'Limited',\n",
    "        'Lost (except n-grams)',\n",
    "        'Minimal',\n",
    "        'High (direct word mapping)',\n",
    "        'High (large sparse matrices)',\n",
    "        'Fast for small vocab',\n",
    "        'Easy to handle'\n",
    "    ],\n",
    "    'Word Embeddings (Dense)': [\n",
    "        'Low (50-300 dims)',\n",
    "        'Dense (no zeros)',\n",
    "        'Rich semantic relationships',\n",
    "        'Lost',\n",
    "        'Extensive (large corpus)',\n",
    "        'Low (abstract features)',\n",
    "        'Low (compact vectors)',\n",
    "        'Fast for large vocab',\n",
    "        'Challenging'\n",
    "    ]\n",
    "}\n",
    "\n",
    "comparison_df = pd.DataFrame(comparison_data)\n",
    "print(\"⚖️ Sparse vs Dense Representations Comparison:\")\n",
    "print(comparison_df.to_string(index=False))\n",
    "\n",
    "# Practical example: vocabulary size comparison\n",
    "print(\"\\n📊 Practical Example - Dimensionality:\")\n",
    "print(f\"Our TF-IDF vocabulary size: {len(tfidf_vectorizer.vocabulary_)} dimensions\")\n",
    "if hasattr(word_vectors, 'vector_size'):\n",
    "    print(f\"Word embedding dimensions: {word_vectors.vector_size} dimensions\")\n",
    "    reduction = len(tfidf_vectorizer.vocabulary_) / word_vectors.vector_size\n",
    "    print(f\"Dimensionality reduction: {reduction:.1f}x smaller!\")\n",
    "else:\n",
    "    print(\"Word embedding dimensions: 50 dimensions (typical)\")\n",
    "    reduction = len(tfidf_vectorizer.vocabulary_) / 50\n",
    "    print(f\"Dimensionality reduction: {reduction:.1f}x smaller!\")"
   ]
  },
  {
   "cell_type": "markdown",
   "metadata": {
    "id": "reflection4"
   },
   "source": [
    "### 🤔 **Reflection Questions - Part 4**\n",
    "\n",
    "**Question 1:** Explain the distributional hypothesis in your own words. Why is it important for word embeddings?\n",
    "\n",
    "**Your Answer:** \n",
    "_[The distributional hypothesis is a fundamental phenomenon in linguistics and natural language processing which states that \"words that occur in similar contexts tend to have similat meanings\".]_\n",
    "\n",
    "---\n",
    "\n",
    "**Question 2:** Why does \"king - man + woman ≈ queen\" work in word embeddings? What does this tell us about the vector space?\n",
    "\n",
    "**Your Answer:** \n",
    "_[The famous example \"king - man + woman ≈ queen\" works in word embeddings because the vector space learned by models like Word2Vec or GloVe captures semantic relationships as geometric patterns. Specifically, it reflects consistent vector offsets for meaningful relationships, such as gender, tense, or even categorical roles.]_\n",
    "\n",
    "---\n",
    "\n",
    "**Question 3:** Based on the comparison table, when would you choose sparse representations over dense embeddings?\n",
    "\n",
    "**Your Answer:** \n",
    "_[I would use sparse representations when I'm dealing with small datasets because embeddings may overfit or not generalize well on limited text. Also, sparse representations would be suitable for small tasks like text classification, spam filtering or document similarity when deep semantics aren’t needed. Spare representations is what I would use for baseline models because it's less complex.]_\n",
    "\n",
    "---\n",
    "\n",
    "**Question 4:** What are the potential ethical concerns with word embeddings? (Hint: think about bias in training data)\n",
    "\n",
    "**Your Answer:** \n",
    "_[Word embeddings can silently encode and amplify harmful societal biases because they learn from historical data without moral understanding. While they are incredibly useful, they may be corrupted with bias reinforcement and discrimination.]_"
   ]
  },
  {
   "cell_type": "markdown",
   "metadata": {
    "id": "day5_header"
   },
   "source": [
    "# 📅 Part 5: Integration & Real-World Applications\n",
    "\n",
    "## 🎯 **Part  5 Goals:**\n",
    "- Build a complete text classification system\n",
    "- Compare all representation methods on a real task\n",
    "- Explore real-world applications\n",
    "- Reflect on ethical considerations\n",
    "\n",
    "## 🏗️ Building a Text Classification System\n",
    "\n",
    "Let's put everything together and build a movie review sentiment classifier using different text representations!"
   ]
  },
  {
   "cell_type": "markdown",
   "metadata": {
    "id": "larger_dataset"
   },
   "source": [
    "### 📚 Loading a Larger Dataset\n",
    "\n",
    "First, let's get a more substantial dataset for our classification task:"
   ]
  },
  {
   "cell_type": "code",
   "execution_count": 29,
   "metadata": {
    "id": "load_dataset"
   },
   "outputs": [
    {
     "name": "stdout",
     "output_type": "stream",
     "text": [
      "📚 Loading movie reviews dataset...\n",
      "📊 Dataset Statistics:\n",
      "Total reviews: 2000\n",
      "Positive reviews: 1000\n",
      "Negative reviews: 1000\n",
      "\n",
      "🎯 Using subset of 200 reviews for analysis\n",
      "\n",
      "📝 Example Reviews:\n",
      "\n",
      "1. [😊 Positive] films adapted from comic books have had plenty of success , whether they're about superheroes ( batman , superman , spawn ) , or geared toward kids ( casper ) or the arthouse crowd ( ghost world ) , b...\n",
      "\n",
      "2. [😊 Positive] every now and then a movie comes along from a suspect studio , with every indication that it will be a stinker , and to everybody's surprise ( perhaps even the studio ) the film becomes a critical dar...\n"
     ]
    }
   ],
   "source": [
    "# Load movie reviews dataset from NLTK\n",
    "print(\"📚 Loading movie reviews dataset...\")\n",
    "\n",
    "# Get positive and negative reviews\n",
    "positive_reviews = [movie_reviews.raw(fileid) for fileid in movie_reviews.fileids('pos')]\n",
    "negative_reviews = [movie_reviews.raw(fileid) for fileid in movie_reviews.fileids('neg')]\n",
    "\n",
    "# Combine and create labels\n",
    "all_reviews = positive_reviews + negative_reviews\n",
    "all_labels = [1] * len(positive_reviews) + [0] * len(negative_reviews)\n",
    "\n",
    "print(f\"📊 Dataset Statistics:\")\n",
    "print(f\"Total reviews: {len(all_reviews)}\")\n",
    "print(f\"Positive reviews: {len(positive_reviews)}\")\n",
    "print(f\"Negative reviews: {len(negative_reviews)}\")\n",
    "\n",
    "# Take a subset for faster processing (adjust size based on your computational resources)\n",
    "subset_size = min(200, len(all_reviews))  # Use 200 reviews or all if less\n",
    "reviews_subset = all_reviews[:subset_size]\n",
    "labels_subset = all_labels[:subset_size]\n",
    "\n",
    "print(f\"\\n🎯 Using subset of {len(reviews_subset)} reviews for analysis\")\n",
    "\n",
    "# Show example reviews\n",
    "print(\"\\n📝 Example Reviews:\")\n",
    "for i in range(2):\n",
    "    sentiment = \"😊 Positive\" if labels_subset[i] == 1 else \"😞 Negative\"\n",
    "    print(f\"\\n{i+1}. [{sentiment}] {reviews_subset[i][:200]}...\")"
   ]
  },
  {
   "cell_type": "markdown",
   "metadata": {
    "id": "classification_pipeline"
   },
   "source": [
    "### 🔧 Building Classification Pipelines\n",
    "\n",
    "Let's create classification pipelines using different text representations:"
   ]
  },
  {
   "cell_type": "code",
   "execution_count": 30,
   "metadata": {
    "id": "classification_code"
   },
   "outputs": [
    {
     "name": "stdout",
     "output_type": "stream",
     "text": [
      "📊 Data Split:\n",
      "Training set: 140 reviews\n",
      "Test set: 60 reviews\n",
      "\n",
      "🎒 Training BOW Classifier...\n",
      "✅ BOW Accuracy: 1.000\n",
      "\n",
      "🔥 Training TF-IDF Classifier...\n",
      "✅ TF-IDF Accuracy: 1.000\n",
      "\n",
      "🔗 Training N-gram Classifier...\n",
      "✅ N-grams Accuracy: 1.000\n",
      "\n",
      "🎉 All classifiers trained successfully!\n"
     ]
    }
   ],
   "source": [
    "# Split data into training and testing sets\n",
    "X_train, X_test, y_train, y_test = train_test_split(\n",
    "    reviews_subset, labels_subset, test_size=0.3, random_state=42, stratify=labels_subset\n",
    ")\n",
    "\n",
    "print(f\"📊 Data Split:\")\n",
    "print(f\"Training set: {len(X_train)} reviews\")\n",
    "print(f\"Test set: {len(X_test)} reviews\")\n",
    "\n",
    "# Initialize results dictionary\n",
    "results = {}\n",
    "\n",
    "# 1. BOW Classification\n",
    "print(\"\\n🎒 Training BOW Classifier...\")\n",
    "bow_vectorizer = CountVectorizer(max_features=1000, stop_words='english')\n",
    "X_train_bow = bow_vectorizer.fit_transform(X_train)\n",
    "X_test_bow = bow_vectorizer.transform(X_test)\n",
    "\n",
    "bow_classifier = MultinomialNB()\n",
    "bow_classifier.fit(X_train_bow, y_train)\n",
    "bow_predictions = bow_classifier.predict(X_test_bow)\n",
    "bow_accuracy = accuracy_score(y_test, bow_predictions)\n",
    "\n",
    "results['BOW'] = {\n",
    "    'accuracy': bow_accuracy,\n",
    "    'predictions': bow_predictions,\n",
    "    'features': X_train_bow.shape[1]\n",
    "}\n",
    "\n",
    "print(f\"✅ BOW Accuracy: {bow_accuracy:.3f}\")\n",
    "\n",
    "# 2. TF-IDF Classification\n",
    "print(\"\\n🔥 Training TF-IDF Classifier...\")\n",
    "tfidf_vectorizer = TfidfVectorizer(max_features=1000, stop_words='english')\n",
    "X_train_tfidf = tfidf_vectorizer.fit_transform(X_train)\n",
    "X_test_tfidf = tfidf_vectorizer.transform(X_test)\n",
    "\n",
    "tfidf_classifier = MultinomialNB()\n",
    "tfidf_classifier.fit(X_train_tfidf, y_train)\n",
    "tfidf_predictions = tfidf_classifier.predict(X_test_tfidf)\n",
    "tfidf_accuracy = accuracy_score(y_test, tfidf_predictions)\n",
    "\n",
    "results['TF-IDF'] = {\n",
    "    'accuracy': tfidf_accuracy,\n",
    "    'predictions': tfidf_predictions,\n",
    "    'features': X_train_tfidf.shape[1]\n",
    "}\n",
    "\n",
    "print(f\"✅ TF-IDF Accuracy: {tfidf_accuracy:.3f}\")\n",
    "\n",
    "# 3. N-gram Classification\n",
    "print(\"\\n🔗 Training N-gram Classifier...\")\n",
    "ngram_vectorizer = TfidfVectorizer(max_features=1000, stop_words='english', ngram_range=(1, 2))\n",
    "X_train_ngram = ngram_vectorizer.fit_transform(X_train)\n",
    "X_test_ngram = ngram_vectorizer.transform(X_test)\n",
    "\n",
    "ngram_classifier = MultinomialNB()\n",
    "ngram_classifier.fit(X_train_ngram, y_train)\n",
    "ngram_predictions = ngram_classifier.predict(X_test_ngram)\n",
    "ngram_accuracy = accuracy_score(y_test, ngram_predictions)\n",
    "\n",
    "results['N-grams'] = {\n",
    "    'accuracy': ngram_accuracy,\n",
    "    'predictions': ngram_predictions,\n",
    "    'features': X_train_ngram.shape[1]\n",
    "}\n",
    "\n",
    "print(f\"✅ N-grams Accuracy: {ngram_accuracy:.3f}\")\n",
    "\n",
    "print(\"\\n🎉 All classifiers trained successfully!\")"
   ]
  },
  {
   "cell_type": "markdown",
   "metadata": {
    "id": "results_comparison"
   },
   "source": [
    "### 📊 Comparing Results\n",
    "\n",
    "Let's visualize and compare the performance of different methods:"
   ]
  },
  {
   "cell_type": "code",
   "execution_count": 31,
   "metadata": {
    "id": "results_viz"
   },
   "outputs": [
    {
     "name": "stdout",
     "output_type": "stream",
     "text": [
      "📊 Classification Results Comparison:\n",
      "    Method  Accuracy  Features\n",
      "0      BOW       1.0      1000\n",
      "1   TF-IDF       1.0      1000\n",
      "2  N-grams       1.0      1000\n"
     ]
    },
    {
     "name": "stderr",
     "output_type": "stream",
     "text": [
      "C:\\Users\\madua\\AppData\\Local\\Temp\\ipykernel_17596\\782105103.py:37: UserWarning: Glyph 127919 (\\N{DIRECT HIT}) missing from font(s) DejaVu Sans.\n",
      "  plt.tight_layout()\n",
      "C:\\Users\\madua\\AppData\\Local\\Temp\\ipykernel_17596\\782105103.py:37: UserWarning: Glyph 128207 (\\N{STRAIGHT RULER}) missing from font(s) DejaVu Sans.\n",
      "  plt.tight_layout()\n",
      "C:\\Users\\madua\\AppData\\Roaming\\Python\\Python312\\site-packages\\IPython\\core\\pylabtools.py:170: UserWarning: Glyph 127919 (\\N{DIRECT HIT}) missing from font(s) DejaVu Sans.\n",
      "  fig.canvas.print_figure(bytes_io, **kw)\n",
      "C:\\Users\\madua\\AppData\\Roaming\\Python\\Python312\\site-packages\\IPython\\core\\pylabtools.py:170: UserWarning: Glyph 128207 (\\N{STRAIGHT RULER}) missing from font(s) DejaVu Sans.\n",
      "  fig.canvas.print_figure(bytes_io, **kw)\n"
     ]
    },
    {
     "data": {
      "image/png": "[encoded data removed]",
      "text/plain": [
       "<Figure size 1500x600 with 2 Axes>"
      ]
     },
     "metadata": {},
     "output_type": "display_data"
    },
    {
     "name": "stdout",
     "output_type": "stream",
     "text": [
      "\n",
      "📋 Detailed Classification Reports:\n",
      "\n",
      "BOW Classification Report:\n",
      "--------------------------------------------------\n",
      "\n",
      "TF-IDF Classification Report:\n",
      "--------------------------------------------------\n",
      "\n",
      "N-grams Classification Report:\n",
      "--------------------------------------------------\n"
     ]
    }
   ],
   "source": [
    "# Create results DataFrame\n",
    "results_df = pd.DataFrame({\n",
    "    'Method': list(results.keys()),\n",
    "    'Accuracy': [results[method]['accuracy'] for method in results.keys()],\n",
    "    'Features': [results[method]['features'] for method in results.keys()]\n",
    "})\n",
    "\n",
    "print(\"📊 Classification Results Comparison:\")\n",
    "print(results_df.round(3))\n",
    "\n",
    "# Visualize results\n",
    "fig, (ax1, ax2) = plt.subplots(1, 2, figsize=(15, 6))\n",
    "\n",
    "# Accuracy comparison\n",
    "bars1 = ax1.bar(results_df['Method'], results_df['Accuracy'], \n",
    "                color=['skyblue', 'lightcoral', 'lightgreen'])\n",
    "ax1.set_title('🎯 Classification Accuracy Comparison')\n",
    "ax1.set_ylabel('Accuracy')\n",
    "ax1.set_ylim(0, 1)\n",
    "\n",
    "# Add accuracy values on bars\n",
    "for bar, acc in zip(bars1, results_df['Accuracy']):\n",
    "    ax1.text(bar.get_x() + bar.get_width()/2, bar.get_height() + 0.01, \n",
    "             f'{acc:.3f}', ha='center', va='bottom')\n",
    "\n",
    "# Feature count comparison\n",
    "bars2 = ax2.bar(results_df['Method'], results_df['Features'], \n",
    "                color=['skyblue', 'lightcoral', 'lightgreen'])\n",
    "ax2.set_title('📏 Feature Count Comparison')\n",
    "ax2.set_ylabel('Number of Features')\n",
    "\n",
    "# Add feature counts on bars\n",
    "for bar, feat in zip(bars2, results_df['Features']):\n",
    "    ax2.text(bar.get_x() + bar.get_width()/2, bar.get_height() + 10, \n",
    "             f'{feat}', ha='center', va='bottom')\n",
    "\n",
    "plt.tight_layout()\n",
    "plt.show()\n",
    "\n",
    "# Detailed classification reports\n",
    "print(\"\\n📋 Detailed Classification Reports:\")\n",
    "for method in results.keys():\n",
    "    print(f\"\\n{method} Classification Report:\")\n",
    "    # print(classification_report(y_test, results[method]['predictions'], target_names=['Negative', 'Positive']))\n",
    "    \n",
    "    print(\"-\" * 50)"
   ]
  },
  {
   "cell_type": "markdown",
   "metadata": {
    "id": "exercise6"
   },
   "source": [
    "### 🏋️‍♀️ **Exercise 6: Feature Analysis**\n",
    "\n",
    "Analyze which features (words) are most important for classification:"
   ]
  },
  {
   "cell_type": "code",
   "execution_count": 32,
   "metadata": {
    "id": "exercise6_code"
   },
   "outputs": [
    {
     "name": "stdout",
     "output_type": "stream",
     "text": [
      "🔍 Most Important Features for TF-IDF Classifier:\n"
     ]
    },
    {
     "ename": "NameError",
     "evalue": "name 'important_features' is not defined",
     "output_type": "error",
     "traceback": [
      "\u001b[1;31m---------------------------------------------------------------------------\u001b[0m",
      "\u001b[1;31mNameError\u001b[0m                                 Traceback (most recent call last)",
      "Cell \u001b[1;32mIn[32], line 52\u001b[0m\n\u001b[0;32m     44\u001b[0m \u001b[38;5;28mprint\u001b[39m(\u001b[38;5;124m\"\u001b[39m\u001b[38;5;124m🔍 Most Important Features for TF-IDF Classifier:\u001b[39m\u001b[38;5;124m\"\u001b[39m)\n\u001b[0;32m     45\u001b[0m \u001b[38;5;66;03m#important_features = analyze_important_features(tfidf_vectorizer, tfidf_classifier, top_n=10)\u001b[39;00m\n\u001b[0;32m     46\u001b[0m \n\u001b[0;32m     47\u001b[0m \u001b[38;5;66;03m# print(\"\\n😞 Top Negative Features (indicate negative sentiment):\")\u001b[39;00m\n\u001b[1;32m   (...)\u001b[0m\n\u001b[0;32m     50\u001b[0m \n\u001b[0;32m     51\u001b[0m \u001b[38;5;66;03m# Visualize feature importance\u001b[39;00m\n\u001b[1;32m---> 52\u001b[0m pos_features, pos_scores \u001b[38;5;241m=\u001b[39m \u001b[38;5;28mzip\u001b[39m(\u001b[38;5;241m*\u001b[39m\u001b[43mimportant_features\u001b[49m[\u001b[38;5;124m'\u001b[39m\u001b[38;5;124mpositive\u001b[39m\u001b[38;5;124m'\u001b[39m])\n\u001b[0;32m     53\u001b[0m neg_features, neg_scores \u001b[38;5;241m=\u001b[39m \u001b[38;5;28mzip\u001b[39m(\u001b[38;5;241m*\u001b[39mimportant_features[\u001b[38;5;124m'\u001b[39m\u001b[38;5;124mnegative\u001b[39m\u001b[38;5;124m'\u001b[39m])\n\u001b[0;32m     55\u001b[0m fig, (ax1, ax2) \u001b[38;5;241m=\u001b[39m plt\u001b[38;5;241m.\u001b[39msubplots(\u001b[38;5;241m1\u001b[39m, \u001b[38;5;241m2\u001b[39m, figsize\u001b[38;5;241m=\u001b[39m(\u001b[38;5;241m15\u001b[39m, \u001b[38;5;241m6\u001b[39m))\n",
      "\u001b[1;31mNameError\u001b[0m: name 'important_features' is not defined"
     ]
    }
   ],
   "source": [
    "def analyze_important_features(vectorizer, classifier, top_n=10):\n",
    "    \"\"\"\n",
    "    Analyze the most important features for classification.\n",
    "    \n",
    "    Args:\n",
    "        vectorizer: Fitted vectorizer (CountVectorizer or TfidfVectorizer)\n",
    "        classifier: Fitted classifier\n",
    "        top_n (int): Number of top features to return\n",
    "    \n",
    "    Returns:\n",
    "        dict: Dictionary with positive and negative features\n",
    "    \"\"\"\n",
    "    # Get feature names\n",
    "    feature_names = vectorizer.get_feature_names_out()\n",
    "    \n",
    "    # TODO: Get feature coefficients from the classifier\n",
    "    # Hint: For Naive Bayes, use classifier.feature_log_prob_\n",
    "    if hasattr(classifier, 'feature_log_prob_'):\n",
    "     if classifier.feature_log_prob_.shape[0] < 2:\n",
    "        raise ValueError(\"Classifier was trained with only one class. Cannot compute class-based feature importance.\")\n",
    "     coef = classifier.feature_log_prob_[1] - classifier.feature_log_prob_[0]\n",
    "\n",
    "    # if hasattr(classifier, 'feature_log_prob_'):\n",
    "    #     # For Naive Bayes: difference between positive and negative class probabilities\n",
    "    #     coef = classifier.feature_log_prob_[1] - classifier.feature_log_prob_[0]\n",
    "    else:\n",
    "        # For linear classifiers: use coef_ attribute\n",
    "        coef = classifier.coef_[0]\n",
    "    \n",
    "    # TODO: Get indices of top positive and negative features\n",
    "    top_positive_indices = np.argsort(coef)[-top_n:][::-1]\n",
    "    top_negative_indices = np.argsort(coef)[:top_n]\n",
    "    \n",
    "    # TODO: Get the actual feature names and their scores\n",
    "    positive_features = [(feature_names[i], coef[i]) for i in top_positive_indices]\n",
    "    negative_features = [(feature_names[i], coef[i]) for i in top_negative_indices]\n",
    "    \n",
    "    return {\n",
    "        'positive': positive_features,\n",
    "        'negative': negative_features\n",
    "    }\n",
    "\n",
    "# Analyze TF-IDF features\n",
    "print(\"🔍 Most Important Features for TF-IDF Classifier:\")\n",
    "#important_features = analyze_important_features(tfidf_vectorizer, tfidf_classifier, top_n=10)\n",
    "\n",
    "# print(\"\\n😞 Top Negative Features (indicate negative sentiment):\")\n",
    "# for feature, score in important_features['negative']:\n",
    "#     print(f\"  {feature}: {score:.3f}\")\n",
    "\n",
    "# Visualize feature importance\n",
    "pos_features, pos_scores = zip(*important_features['positive'])\n",
    "neg_features, neg_scores = zip(*important_features['negative'])\n",
    "\n",
    "fig, (ax1, ax2) = plt.subplots(1, 2, figsize=(15, 6))\n",
    "\n",
    "ax1.barh(pos_features, pos_scores, color='green', alpha=0.7)\n",
    "ax1.set_title('😊 Top Positive Features')\n",
    "ax1.set_xlabel('Feature Importance')\n",
    "\n",
    "ax2.barh(neg_features, neg_scores, color='red', alpha=0.7)\n",
    "ax2.set_title('😞 Top Negative Features')\n",
    "ax2.set_xlabel('Feature Importance')\n",
    "\n",
    "plt.tight_layout()\n",
    "plt.show()"
   ]
  },
  {
   "cell_type": "markdown",
   "metadata": {
    "id": "solution6"
   },
   "source": [
    "**💡 Solution Check:**"
   ]
  },
  {
   "cell_type": "code",
   "execution_count": 33,
   "metadata": {
    "id": "solution6_code"
   },
   "outputs": [
    {
     "name": "stdout",
     "output_type": "stream",
     "text": [
      "✅ Solution - Top 5 positive features:\n"
     ]
    }
   ],
   "source": [
    "# Solution for Exercise 6\n",
    "def analyze_important_features_solution(vectorizer, classifier, top_n=10):\n",
    "    feature_names = vectorizer.get_feature_names_out()\n",
    "    \n",
    "    if hasattr(classifier, 'feature_log_prob_'):\n",
    "        # For Naive Bayes: difference between positive and negative class log probabilities\n",
    "        coef = classifier.feature_log_prob_[1] - classifier.feature_log_prob_[0]\n",
    "    else:\n",
    "        coef = classifier.coef_[0]\n",
    "    \n",
    "    # Get top positive and negative features\n",
    "    top_positive_indices = np.argsort(coef)[-top_n:]\n",
    "    top_negative_indices = np.argsort(coef)[:top_n]\n",
    "    \n",
    "    positive_features = [(feature_names[i], coef[i]) for i in reversed(top_positive_indices)]\n",
    "    negative_features = [(feature_names[i], coef[i]) for i in top_negative_indices]\n",
    "    \n",
    "    return {\n",
    "        'positive': positive_features,\n",
    "        'negative': negative_features\n",
    "    }\n",
    "\n",
    "# Test solution\n",
    "#solution_features = analyze_important_features_solution(tfidf_vectorizer, tfidf_classifier, 5)\n",
    "print(\"✅ Solution - Top 5 positive features:\")\n",
    "#for feature, score in solution_features['positive']:\n",
    "    #print(f\"  {feature}: {score:.3f}\")"
   ]
  },
  {
   "cell_type": "markdown",
   "metadata": {
    "id": "real_world_apps"
   },
   "source": [
    "## 🌍 Real-World Applications\n",
    "\n",
    "Let's explore how text representation techniques are used in real-world applications:"
   ]
  },
  {
   "cell_type": "code",
   "execution_count": 34,
   "metadata": {
    "id": "applications_demo"
   },
   "outputs": [
    {
     "name": "stdout",
     "output_type": "stream",
     "text": [
      "🌍 Real-World Applications of Text Representation:\n",
      "                  Application                 Text Representation Used                          Key Challenge\n",
      "               Search Engines                  TF-IDF, Word Embeddings Relevance ranking, query understanding\n",
      "       Recommendation Systems Word Embeddings, Collaborative Filtering        Cold start problem, scalability\n",
      "           Sentiment Analysis              TF-IDF, N-grams, Embeddings    Sarcasm, context, domain adaptation\n",
      "          Machine Translation   Word Embeddings, Contextual Embeddings    Preserving meaning, handling idioms\n",
      "Chatbots & Virtual Assistants       Word Embeddings, Contextual Models   Context understanding, dialogue flow\n",
      "      Document Classification                  TF-IDF, BOW, Embeddings     Class imbalance, feature selection\n",
      "               Spam Detection                          TF-IDF, N-grams     Adversarial attacks, evolving spam\n",
      "           Content Moderation        TF-IDF, Embeddings, Deep Learning      Bias, cultural sensitivity, scale\n",
      "          News Categorization                     TF-IDF, Topic Models      Real-time processing, topic drift\n",
      "        Medical Text Analysis       Domain-specific Embeddings, TF-IDF       Privacy, specialized terminology\n",
      "\n",
      "🔍 Mini Search Engine Demo:\n",
      "\n",
      "Query: 'great acting performance'\n",
      "\n",
      "Top 3 Results:\n",
      "\n",
      "1. Similarity: 0.096\n",
      "   one of my colleagues was surprised when i told her i was willing to see betsy's wedding . \n",
      "and she w...\n",
      "\n",
      "2. Similarity: 0.083\n",
      "    \" jaws \" is a rare film that grabs your attention before it shows you a single image on screen . \n",
      "t...\n",
      "\n",
      "3. Similarity: 0.079\n",
      "   the ultimate match up between good and evil , \" the untouchables \" is an excellent movie because it ...\n"
     ]
    }
   ],
   "source": [
    "# Create a comprehensive overview of real-world applications\n",
    "applications = {\n",
    "    'Application': [\n",
    "        'Search Engines',\n",
    "        'Recommendation Systems',\n",
    "        'Sentiment Analysis',\n",
    "        'Machine Translation',\n",
    "        'Chatbots & Virtual Assistants',\n",
    "        'Document Classification',\n",
    "        'Spam Detection',\n",
    "        'Content Moderation',\n",
    "        'News Categorization',\n",
    "        'Medical Text Analysis'\n",
    "    ],\n",
    "    'Text Representation Used': [\n",
    "        'TF-IDF, Word Embeddings',\n",
    "        'Word Embeddings, Collaborative Filtering',\n",
    "        'TF-IDF, N-grams, Embeddings',\n",
    "        'Word Embeddings, Contextual Embeddings',\n",
    "        'Word Embeddings, Contextual Models',\n",
    "        'TF-IDF, BOW, Embeddings',\n",
    "        'TF-IDF, N-grams',\n",
    "        'TF-IDF, Embeddings, Deep Learning',\n",
    "        'TF-IDF, Topic Models',\n",
    "        'Domain-specific Embeddings, TF-IDF'\n",
    "    ],\n",
    "    'Key Challenge': [\n",
    "        'Relevance ranking, query understanding',\n",
    "        'Cold start problem, scalability',\n",
    "        'Sarcasm, context, domain adaptation',\n",
    "        'Preserving meaning, handling idioms',\n",
    "        'Context understanding, dialogue flow',\n",
    "        'Class imbalance, feature selection',\n",
    "        'Adversarial attacks, evolving spam',\n",
    "        'Bias, cultural sensitivity, scale',\n",
    "        'Real-time processing, topic drift',\n",
    "        'Privacy, specialized terminology'\n",
    "    ]\n",
    "}\n",
    "\n",
    "apps_df = pd.DataFrame(applications)\n",
    "print(\"🌍 Real-World Applications of Text Representation:\")\n",
    "print(apps_df.to_string(index=False))\n",
    "\n",
    "# Demonstrate a simple search engine using TF-IDF\n",
    "print(\"\\n🔍 Mini Search Engine Demo:\")\n",
    "\n",
    "def simple_search_engine(documents, query, top_k=3):\n",
    "    \"\"\"\n",
    "    Simple search engine using TF-IDF similarity.\n",
    "    \"\"\"\n",
    "    # Create TF-IDF vectors for documents and query\n",
    "    vectorizer = TfidfVectorizer(stop_words='english')\n",
    "    doc_vectors = vectorizer.fit_transform(documents)\n",
    "    query_vector = vectorizer.transform([query])\n",
    "    \n",
    "    # Calculate similarities\n",
    "    similarities = cosine_similarity(query_vector, doc_vectors).flatten()\n",
    "    \n",
    "    # Get top results\n",
    "    top_indices = np.argsort(similarities)[::-1][:top_k]\n",
    "    \n",
    "    results = []\n",
    "    for i, idx in enumerate(top_indices):\n",
    "        results.append({\n",
    "            'rank': i + 1,\n",
    "            'document': documents[idx][:100] + \"...\",\n",
    "            'similarity': similarities[idx]\n",
    "        })\n",
    "    \n",
    "    return results\n",
    "\n",
    "# Demo with our movie reviews\n",
    "search_query = \"great acting performance\"\n",
    "search_results = simple_search_engine(reviews_subset[:20], search_query)\n",
    "\n",
    "print(f\"\\nQuery: '{search_query}'\")\n",
    "print(\"\\nTop 3 Results:\")\n",
    "for result in search_results:\n",
    "    print(f\"\\n{result['rank']}. Similarity: {result['similarity']:.3f}\")\n",
    "    print(f\"   {result['document']}\")"
   ]
  },
  {
   "cell_type": "markdown",
   "metadata": {
    "id": "ethical_considerations"
   },
   "source": [
    "## ⚖️ Ethical Considerations\n",
    "\n",
    "As we've learned about text representation, it's crucial to understand the ethical implications:"
   ]
  },
  {
   "cell_type": "code",
   "execution_count": 35,
   "metadata": {
    "id": "ethics_demo"
   },
   "outputs": [
    {
     "name": "stdout",
     "output_type": "stream",
     "text": [
      "⚖️ Ethical Considerations in Text Representation:\n",
      "                   Issue                                                      Description                                             Example                                         Mitigation Strategy\n",
      "   Bias in Training Data Word embeddings reflect societal biases present in training text \"doctor\" closer to \"man\", \"nurse\" closer to \"woman\" Bias detection, debiasing techniques, diverse training data\n",
      "     Representation Bias           Underrepresentation of certain groups in training data  Fewer examples of minority group language patterns          Inclusive data collection, balanced representation\n",
      "        Privacy Concerns             Text data may contain sensitive personal information   Personal emails, medical records in training data           Data anonymization, privacy-preserving techniques\n",
      "Fairness in Applications              Biased representations can lead to unfair treatment     Biased hiring algorithms, unfair loan decisions               Fairness metrics, bias testing, diverse teams\n",
      "            Transparency        Complex embeddings are difficult to interpret and explain      Cannot explain why certain decisions were made                Interpretable models, explanation techniques\n",
      "    Cultural Sensitivity     Models may not work well across different cultures/languages   English-centric models failing on other languages                    Multilingual models, cultural adaptation\n",
      "\n",
      "🔍 Bias Detection Example:\n",
      "If we had access to large word embeddings, we might find:\n",
      "• 'programmer' + 'woman' ≠ 'female programmer' (as expected)\n",
      "• 'doctor' might be closer to 'he' than 'she'\n",
      "• Certain ethnic names might cluster away from positive adjectives\n",
      "\n",
      "💡 This is why bias testing and mitigation are crucial!\n",
      "\n",
      "🎯 Best Practices for Ethical Text Representation:\n",
      "1. Audit training data for bias and representation gaps\n",
      "2. Test models across different demographic groups\n",
      "3. Use diverse teams in model development and evaluation\n",
      "4. Implement bias detection and mitigation techniques\n",
      "5. Provide transparency about model limitations\n",
      "6. Regular monitoring and updating of deployed models\n",
      "7. Consider cultural and linguistic diversity\n",
      "8. Respect privacy and obtain proper consent for data use\n"
     ]
    }
   ],
   "source": [
    "print(\"⚖️ Ethical Considerations in Text Representation:\")\n",
    "\n",
    "ethical_issues = {\n",
    "    'Issue': [\n",
    "        'Bias in Training Data',\n",
    "        'Representation Bias',\n",
    "        'Privacy Concerns',\n",
    "        'Fairness in Applications',\n",
    "        'Transparency',\n",
    "        'Cultural Sensitivity'\n",
    "    ],\n",
    "    'Description': [\n",
    "        'Word embeddings reflect societal biases present in training text',\n",
    "        'Underrepresentation of certain groups in training data',\n",
    "        'Text data may contain sensitive personal information',\n",
    "        'Biased representations can lead to unfair treatment',\n",
    "        'Complex embeddings are difficult to interpret and explain',\n",
    "        'Models may not work well across different cultures/languages'\n",
    "    ],\n",
    "    'Example': [\n",
    "        '\"doctor\" closer to \"man\", \"nurse\" closer to \"woman\"',\n",
    "        'Fewer examples of minority group language patterns',\n",
    "        'Personal emails, medical records in training data',\n",
    "        'Biased hiring algorithms, unfair loan decisions',\n",
    "        'Cannot explain why certain decisions were made',\n",
    "        'English-centric models failing on other languages'\n",
    "    ],\n",
    "    'Mitigation Strategy': [\n",
    "        'Bias detection, debiasing techniques, diverse training data',\n",
    "        'Inclusive data collection, balanced representation',\n",
    "        'Data anonymization, privacy-preserving techniques',\n",
    "        'Fairness metrics, bias testing, diverse teams',\n",
    "        'Interpretable models, explanation techniques',\n",
    "        'Multilingual models, cultural adaptation'\n",
    "    ]\n",
    "}\n",
    "\n",
    "ethics_df = pd.DataFrame(ethical_issues)\n",
    "print(ethics_df.to_string(index=False))\n",
    "\n",
    "# Demonstrate bias detection (conceptual example)\n",
    "print(\"\\n🔍 Bias Detection Example:\")\n",
    "print(\"If we had access to large word embeddings, we might find:\")\n",
    "print(\"• 'programmer' + 'woman' ≠ 'female programmer' (as expected)\")\n",
    "print(\"• 'doctor' might be closer to 'he' than 'she'\")\n",
    "print(\"• Certain ethnic names might cluster away from positive adjectives\")\n",
    "print(\"\\n💡 This is why bias testing and mitigation are crucial!\")\n",
    "\n",
    "print(\"\\n🎯 Best Practices for Ethical Text Representation:\")\n",
    "best_practices = [\n",
    "    \"1. Audit training data for bias and representation gaps\",\n",
    "    \"2. Test models across different demographic groups\",\n",
    "    \"3. Use diverse teams in model development and evaluation\",\n",
    "    \"4. Implement bias detection and mitigation techniques\",\n",
    "    \"5. Provide transparency about model limitations\",\n",
    "    \"6. Regular monitoring and updating of deployed models\",\n",
    "    \"7. Consider cultural and linguistic diversity\",\n",
    "    \"8. Respect privacy and obtain proper consent for data use\"\n",
    "]\n",
    "\n",
    "for practice in best_practices:\n",
    "    print(practice)"
   ]
  },
  {
   "cell_type": "markdown",
   "metadata": {
    "id": "final_reflection"
   },
   "source": [
    "### 🤔 **Final Reflection Questions -Part 5**\n",
    "\n",
    "**Question 1:** Based on your classification results, which text representation method performed best? Why do you think this is the case?\n",
    "\n",
    "**Your Answer:** \n",
    "_[Dense contextual embeddings offered the best performance due to it's semantic richness and context sensitivity. However, TF-IDF remains a strong, interpretable baseline, especially when resources are limited.]_\n",
    "\n",
    "---\n",
    "\n",
    "**Question 2:** Describe a real-world application where you would use each of the following:\n",
    "- BOW representation:\n",
    "- TF-IDF representation: \n",
    "- Word embeddings: \n",
    "\n",
    "**Your Answer:** \n",
    "_[A real-world application of the Bag-of-Words (BoW) model would be in spam detection for email filtering. A BoW vectorizer converts each email into a sparse vector of word counts.Then a classifier (like Naive Bayes or Logistic Regression) is trained to distinguish between \"spam\" and \"non-spam\" based on word presence. I would also use the BoW reprresentation in Toxic comment detection on social media apps.\n",
    "\n",
    "A good TF-IDF real-world application would be for product ranking on e-commerce platfforms. When a user requests a product in the search bar of an e-commerce site. TF-IDF can be used to index product descriptions, titles, and specs into TF-IDF vectors, convert the user query into a TF-IDF vector using the same vocabulary, and Rank products by similarity score and display the most relevant ones first.\n",
    "\n",
    "For word embeddings, They can be used for semantic search. For example, When a user searches for \"affordable smartphones,\" a traditional system might just match \"smartphones.\" But with embeddings, the system also retrieves items with similar phrases like \"budget phones\" or \"low-cost mobile devices.\"\n",
    "]_\n",
    "\n",
    "---\n",
    "\n",
    "**Question 3:** What ethical considerations should be taken into account when deploying a text classification system in a real-world application (e.g., resume screening, content moderation)?\n",
    "\n",
    "**Your Answer:** \n",
    "_[Deploying a text classification system in real-world applications like resume screening or content moderation raises several important ethical considerations, as these systems can impact people’s opportunities, safety, and rights.Key issues to consider are:\n",
    "-Bias and fairness\n",
    "-Transparency and explainability\n",
    "-Data privacy and consent.\n",
    "Adressing these issues are essential to avoid harm and build trust on these systems.]_\n",
    "\n",
    "---\n",
    "\n",
    "**Question 4:** How has your understanding of text representation evolved over these 5 parts? What was the most surprising thing you learned?\n",
    "\n",
    "**Your Answer:** \n",
    "_[I now understand that text representation is a fundamental part of NLP which is also a Fundamental part of AI. Text representation is the process of formatting text data into numerical vectors that machines can understand since thaey do not understand raw text. The most suprising thing I've learned is how much processing these computer systems take on and the computational power needed fro them to perform these tasks effectively.]_\n",
    "\n",
    "---\n",
    "\n",
    "**Question 5:** If you were to continue learning about text representation, what topics would you want to explore next?\n",
    "\n",
    "**Your Answer:** \n",
    "_[I would like to understand more how word embeddings word to power models like BERT and GPT.]_"
   ]
  },
  {
   "cell_type": "markdown",
   "metadata": {
    "id": "conclusion"
   },
   "source": [
    "# 🎉 Congratulations! You've Completed Your Text Representation Journey!\n",
    "\n",
    "## 🏆 **What You've Accomplished:**\n",
    "\n",
    "On each one of the 5 parts, you've mastered the fundamental concepts of text representation:\n",
    "\n",
    "### 📚 **Technical Skills Gained:**\n",
    "- ✅ Text preprocessing and tokenization\n",
    "- ✅ Bag of Words (BOW) implementation from scratch\n",
    "- ✅ TF-IDF calculation and application\n",
    "- ✅ N-gram analysis for capturing word sequences\n",
    "- ✅ Word embeddings exploration and semantic analysis\n",
    "- ✅ Document similarity using cosine similarity\n",
    "- ✅ Complete text classification pipeline\n",
    "- ✅ Feature importance analysis\n",
    "\n",
    "### 🧠 **Conceptual Understanding:**\n",
    "- ✅ Why computers need numerical representations of text\n",
    "- ✅ Evolution from sparse to dense representations\n",
    "- ✅ Trade-offs between different representation methods\n",
    "- ✅ Real-world applications and use cases\n",
    "- ✅ Ethical considerations and bias in text representations\n",
    "\n",
    "### 🔧 **Practical Experience:**\n",
    "- ✅ Working with real datasets (movie reviews)\n",
    "- ✅ Using professional libraries (scikit-learn, gensim)\n",
    "- ✅ Building and evaluating machine learning models\n",
    "- ✅ Comparing different approaches systematically\n",
    "- ✅ Visualizing and interpreting results\n",
    "\n",
    "\n",
    "\n",
    "## 📝 **Submission Checklist:**\n",
    "\n",
    "Before submitting your notebook, ensure you have:\n",
    "\n",
    "- [ ] Completed all exercises (1-6)\n",
    "- [ ] Answered all reflection questions\n",
    "- [ ] Run all code cells and verified outputs are visible\n",
    "- [ ] Provided thoughtful analysis of your results\n",
    "- [ ] Discussed ethical considerations\n",
    "- [ ] Saved your notebook with the proper file name   L04_Your_fullname_ITAI_2373.ipynb  or L04_Your_fullname_ITAI_2373.pdf\n",
    "\n",
    "## 🌟 **Final Words:**\n",
    "\n",
    "Text representation is the foundation of modern NLP and AI systems. The concepts you've learned here are used in everything from search engines to chatbots, from recommendation systems to language translation tools. You've taken the first crucial steps into the exciting world of Natural Language Processing!\n",
    "\n",
    "Remember: *\"The best way to learn is by doing, and you've done an amazing job!\"* 🎓\n",
    "\n",
    "---\n",
    "\n",
    "**Thank you for your dedication and curiosity. Keep exploring, keep learning, and keep building amazing things with text and AI!** 🚀✨"
   ]
  }
 ],
 "metadata": {
  "colab": {
   "provenance": []
  },
  "kernelspec": {
   "display_name": "Python 3",
   "language": "python",
   "name": "python3"
  },
  "language_info": {
   "codemirror_mode": {
    "name": "ipython",
    "version": 3
   },
   "file_extension": ".py",
   "mimetype": "text/x-python",
   "name": "python",
   "nbconvert_exporter": "python",
   "pygments_lexer": "ipython3",
   "version": "3.12.6"
  }
 },
 "nbformat": 4,
 "nbformat_minor": 4
}
