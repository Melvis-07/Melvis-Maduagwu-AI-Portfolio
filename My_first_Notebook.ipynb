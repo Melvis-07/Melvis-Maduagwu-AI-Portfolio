{
 "cells": [
  {
   "cell_type": "markdown",
   "id": "b07ecded-1887-466c-937a-8ce5c6c6412a",
   "metadata": {},
   "source": [
    "My first Markdown cell in Jupyter"
   ]
  },
  {
   "cell_type": "code",
   "execution_count": 1,
   "id": "db76e6a8-058b-42fc-ab96-b7f81ef6e037",
   "metadata": {},
   "outputs": [
    {
     "name": "stdout",
     "output_type": "stream",
     "text": [
      "Hello, Earth\n"
     ]
    }
   ],
   "source": [
    "print(\"Hello, Earth\")"
   ]
  },
  {
   "cell_type": "code",
   "execution_count": null,
   "id": "5488c18b-7caa-4468-b7c3-214a217e7f0e",
   "metadata": {},
   "outputs": [],
   "source": []
  }
 ],
 "metadata": {
  "kernelspec": {
   "display_name": "anaconda-2024.02-py310",
   "language": "python",
   "name": "conda-env-anaconda-2024.02-py310-py"
  },
  "language_info": {
   "codemirror_mode": {
    "name": "ipython",
    "version": 3
   },
   "file_extension": ".py",
   "mimetype": "text/x-python",
   "name": "python",
   "nbconvert_exporter": "python",
   "pygments_lexer": "ipython3",
   "version": "3.10.14"
  }
 },
 "nbformat": 4,
 "nbformat_minor": 5
}
